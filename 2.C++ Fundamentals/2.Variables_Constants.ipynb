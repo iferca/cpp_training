{
 "cells": [
  {
   "cell_type": "markdown",
   "id": "d14187e5-b63c-44e7-a621-2090e6cb8ab4",
   "metadata": {},
   "source": [
    "# Variables and Constants\n",
    "\n",
    "## Variables\n",
    "\n",
    "Let's imagine that I ask you to remember the number 5, and then I ask you to also memorize the number 2 at the same time. You have just stored two different values in your memory (5 and 2). Now, if I ask you to add 1 to the first number I said, you should be retaining the numbers 6 (that is 5+1) and 2 in your memory. Then we could, for example, subtract these values and obtain 4 as result.\n",
    "The whole process described above is a simile of what a computer can do with two variables. The same process can be expressed in C++ with the following set of statements:\n",
    "```cpp\n",
    "a = 5;\n",
    "b = 2;\n",
    "a = a + 1;\n",
    "result = a - b;\n",
    "```\n",
    "Obviously, this is a very simple example, since we have only used two small integer values, but consider that your computer can store millions of numbers like these at the same time and conduct sophisticated mathematical operations with them.\n",
    "We can now define variable as a portion of memory to store a value.\n",
    "Each variable needs a name that identifies it and distinguishes it from the others. For example, in the previous code the variable names were a, b, and result, but we could have called the variables any names we could have come up with, as long as they were valid C++ identifiers."
   ]
  },
  {
   "cell_type": "markdown",
   "id": "e63e6c1c-aa81-4aad-bc30-7d5a4e93ebed",
   "metadata": {},
   "source": [
    "### Identifiers\n",
    "A valid identifier is a:\n",
    "* sequence of one or more letters, digits, or underscore characters (_)\n",
    "* spaces, punctuation marks, and symbols cannot be part of an identifier\n",
    "* shall always begin with a letter\n",
    "* they can also begin with an underline character (_), but such identifiers are -on most cases- considered reserved for compiler-specific keywords or external identifiers, as well as identifiers containing two successive underscore characters anywhere. In no case can they begin with a digit.\n",
    "* The C++ language is a \"case sensitive\" language. That means that an identifier written in capital letters is not equivalent to another one with the same name but written in small letters. Thus, for example, the `RESULT` variable is not the same as the `result` variable or the Result variable. These are three different identifiers identifiying three different variables."
   ]
  },
  {
   "cell_type": "markdown",
   "id": "930c847b-8d9e-43b4-9c64-07f97d97aa50",
   "metadata": {},
   "source": [
    "### Reserved words\n",
    "\n",
    "C++ uses a number of keywords to identify operations and data descriptions; therefore, identifiers created by a programmer cannot match these keywords. The standard reserved keywords that cannot be used for programmer created identifiers are:\n",
    "\n",
    ">alignas, alignof, and, and_eq, asm, auto, bitand, bitor, bool, break, case, catch, char, char16_t, char32_t, class, compl, const, constexpr, const_cast, continue, decltype, default, delete, do, double, dynamic_cast, else, enum, explicit, export, extern, false, float, for, friend, goto, if, inline, int, long, mutable, namespace, new, noexcept, not, not_eq, nullptr, operator, or, or_eq, private, protected, public, register, reinterpret_cast, return, short, signed, sizeof, static, static_assert, static_cast, struct, switch, template, this, thread_local, throw, true, try, typedef, typeid, typename, union, unsigned, using, virtual, void, volatile, wchar_t, while, xor, xor_eq\n",
    "\n",
    "Specific compilers may also have additional specific reserved keywords."
   ]
  },
  {
   "cell_type": "markdown",
   "id": "d7a88e36-468c-40ce-9a6e-7dd6d1f766e3",
   "metadata": {
    "tags": []
   },
   "source": [
    "### Basic Data Types\n",
    "The values of variables are stored somewhere in an unspecified location in the computer memory as zeros and ones. Our program does not need to know the exact location where a variable is stored; it can simply refer to it by its name. What the program needs to be aware of is the kind of data stored in the variable. It's not the same to store a simple integer as it is to store a letter or a large floating-point number; even though they are all represented using zeros and ones, they are not interpreted in the same way, and in many cases, they don't occupy the same amount of memory.\n",
    "Fundamental data types are basic types implemented directly by the language that represent the basic storage units supported natively by most systems. They can mainly be classified into:\n",
    "* __Character types__: They can represent a single character, such as 'A' or '$'. The most basic type is char, which is a one-byte character. Other types are also provided for wider characters. \n",
    "* __Numerical integer types__: They can store a whole number value, such as 7 or 1024. They exist in a variety of sizes, and can either be signed or unsigned, depending on whether they support negative values or not. \n",
    "* __Floating-point types__: They can represent real values, such as 3.14 or 0.01, with different levels of precision, depending on which of the three floating-point types is used. \n",
    "* __Boolean type__: The boolean type, known in C++ as bool, can only represent one of two states, true or false.\n",
    "\n",
    "The next table shows the complete list of fundamental types in C++:\n",
    "| Group | Type names* | Notes on size / precision | \n",
    "|-|-|-|\n",
    "| Character types | char | Exactly one byte in size. At least 8 bits. |\n",
    "| | char16_t | Not smaller than char. At least 16 bits. |\n",
    "| | char32_t | Not smaller than char16_t. At least 32 bits. |\n",
    "| | wchar_t | Can represent the largest supported character set. |\n",
    "| Integer types (signed) | signed char | Same size as char. At least 8 bits. |\n",
    "| | _signed_ short _int_ | Not smaller than char. At least 16 bits. |\n",
    "| | _signed_ int | Not smaller than short. At least 16 bits. |\n",
    "| | _signed_ long _int_ | Not smaller than int. At least 32 bits. |\n",
    "| | _signed_ long long _int_ | Not smaller than long. At least 64 bits. |\n",
    "| Integer types (unsigned) | unsigned char | (same size as their signed counterparts) |\n",
    "| | unsigned short _int_ | |\n",
    "| | unsigned int | |\n",
    "| | unsigned long _int_ | |\n",
    "| | unsigned long long _int_ | |\n",
    "| Floating-point types | float | |\n",
    "| | double | Precision not less than float |\n",
    "| | long double | Precision not less than double |\n",
    "| Boolean type | bool | |\n",
    "| Void type | void | no storage | |\n",
    "| Null pointer | decltype(nullptr) | |\n",
    "\n",
    "> \\* The names of certain integer types can be abbreviated without their signed and int components - only the part not in italics is required to identify the type, the part in italics is optional. I.e., signed short int can be abbreviated as signed short, short int, or simply short; they all identify the same fundamental type."
   ]
  },
  {
   "cell_type": "markdown",
   "id": "e9a10b48-9d9c-48d3-b089-b9ec90b719e6",
   "metadata": {},
   "source": [
    "### Declaration of variables\n",
    "C++ is a strongly-typed language, and requires every variable to be declared with its type before its first use. This informs the compiler the size to reserve in memory for the variable and how to interpret its value. The syntax to declare a new variable in C++ is straightforward: we simply write the type followed by the variable name (i.e., its identifier). \n",
    "For example:"
   ]
  },
  {
   "cell_type": "code",
   "execution_count": 13,
   "id": "2876d52e-2fe3-4c64-b059-e89161aed860",
   "metadata": {
    "tags": []
   },
   "outputs": [],
   "source": [
    "int a;\n",
    "float mynumber;"
   ]
  },
  {
   "cell_type": "markdown",
   "id": "d74816e1-257d-4a93-ba29-dfae2b97836b",
   "metadata": {},
   "source": [
    "These are two valid declarations of variables. The first one declares a variable of type int with the identifier a. The second one declares a variable of type float with the identifier mynumber. Once declared, the variables a and mynumber can be used within the rest of their scope in the program.\n",
    "If declaring more than one variable of the same type, they can all be declared in a single statement by separating their identifiers with commas. \n",
    "For example:"
   ]
  },
  {
   "cell_type": "code",
   "execution_count": 14,
   "id": "0c6bd7e4-5f0d-48d3-9912-7a708aa9c9c9",
   "metadata": {
    "tags": []
   },
   "outputs": [],
   "source": [
    "int a, b, c;"
   ]
  },
  {
   "cell_type": "markdown",
   "id": "c7f20345-9d95-4d95-9fba-a5d36023a361",
   "metadata": {},
   "source": [
    "This declares three variables (a, b and c), all of them of type int, and has exactly the same meaning as:"
   ]
  },
  {
   "cell_type": "code",
   "execution_count": 6,
   "id": "7c9d0c6e-552d-4b7a-a017-cfc45b62575d",
   "metadata": {
    "tags": []
   },
   "outputs": [],
   "source": [
    "int a;\n",
    "int b;\n",
    "int c;"
   ]
  },
  {
   "cell_type": "markdown",
   "id": "62c3ae07-5a8f-44e0-919b-175b55839cb4",
   "metadata": {},
   "source": [
    "### Initialization of variables\n",
    "\n",
    "When the variables in the example above are declared, they have an undetermined value until they are assigned a value for the first time. But it is possible for a variable to have a specific value from the moment it is declared. This is called the initialization of the variable.\n",
    "\n",
    "In C++, there are three ways to initialize variables. They are all equivalent and are reminiscent of the evolution of the language over the years:\n",
    "\n",
    "The first one, known as c-like initialization (because it is inherited from the C language), consists of appending an equal sign followed by the value to which the variable is initialized:\n",
    "\n",
    "type identifier = initial_value; \n",
    "For example, to declare a variable of type int called x and initialize it to a value of zero from the same moment it is declared, we can write:\n",
    "int x = 0;\n",
    "A second method, known as constructor initialization (introduced by the C++ language), encloses the initial value between parentheses (()):\n",
    "\n",
    "    type identifier (initial_value);\n",
    "\n",
    "For example:"
   ]
  },
  {
   "cell_type": "code",
   "execution_count": 17,
   "id": "3e60f0ac-a4b1-4aa2-8a91-8350831f1fcf",
   "metadata": {
    "tags": []
   },
   "outputs": [],
   "source": [
    "int x (0);"
   ]
  },
  {
   "cell_type": "markdown",
   "id": "70e87af7-d3e5-4a43-a87d-04ef446611bc",
   "metadata": {},
   "source": [
    "Finally, a third method, known as uniform initialization, similar to the above, but using curly braces ({}) instead of parentheses (this was introduced by the revision of the C++ standard, in 2011):\n",
    "\n",
    "    type identifier {initial_value}; \n",
    "\n",
    "For example:\n",
    "\n"
   ]
  },
  {
   "cell_type": "code",
   "execution_count": 18,
   "id": "921d2743-4fc5-43f4-bb17-1c32b461c60b",
   "metadata": {
    "tags": []
   },
   "outputs": [],
   "source": [
    "int x {0};"
   ]
  },
  {
   "cell_type": "markdown",
   "id": "82909f72-a636-40ec-abaf-9dc88bfb4097",
   "metadata": {},
   "source": [
    "All three ways of initializing variables are valid and equivalent in C++.\n",
    "\n"
   ]
  },
  {
   "cell_type": "code",
   "execution_count": 7,
   "id": "e3360d14-e567-4033-b4da-c846653c1dde",
   "metadata": {
    "tags": []
   },
   "outputs": [
    {
     "name": "stdout",
     "output_type": "stream",
     "text": [
      "6"
     ]
    }
   ],
   "source": [
    "// initialization of variables\n",
    "#include <iostream>\n",
    "using namespace std;\n",
    "\n",
    "int a=5;               // initial value: 5\n",
    "int b(3);              // initial value: 3\n",
    "int c{2};              // initial value: 2\n",
    "int result;            // initial value undetermined\n",
    "\n",
    "a = a + b;\n",
    "result = a - c;\n",
    "cout << result;"
   ]
  },
  {
   "cell_type": "markdown",
   "id": "02aba86e-823e-4d96-b5ee-c849b81afb42",
   "metadata": {},
   "source": [
    "Type deduction: auto and decltype\n",
    "When a new variable is initialized, the compiler can figure out what the type of the variable is automatically by the initializer. For this, it suffices to use auto as the type specifier for the variable:\n",
    "\n"
   ]
  },
  {
   "cell_type": "code",
   "execution_count": 31,
   "id": "5587b109-1216-4b94-bf91-596ef453ef62",
   "metadata": {
    "tags": []
   },
   "outputs": [],
   "source": [
    "int foo = 0;\n",
    "auto bar = foo;  // the same as: int bar = foo;"
   ]
  },
  {
   "cell_type": "markdown",
   "id": "6fde023a-5690-49fe-a32c-af5a21d21ead",
   "metadata": {},
   "source": [
    "Here, bar is declared as having an auto type; therefore, the type of bar is the type of the value used to initialize it: in this case it uses the type of foo, which is int.\n",
    "Variables that are not initialized can also make use of type deduction with the decltype specifier:\n",
    " \n"
   ]
  },
  {
   "cell_type": "code",
   "execution_count": 32,
   "id": "ee5c5d06-9fdc-4d66-a7d5-6bc5d3111744",
   "metadata": {
    "tags": []
   },
   "outputs": [],
   "source": [
    "int foo = 0;\n",
    "decltype(foo) bar;  // the same as: int bar;"
   ]
  },
  {
   "cell_type": "markdown",
   "id": "f64b2166-5376-4282-a4c3-a365105802d4",
   "metadata": {},
   "source": [
    "Here, bar is declared as having the same type as foo.\n",
    "\n",
    "auto and decltype are powerful features recently added to the language. But the type deduction features they introduce are meant to be used either when the type cannot be obtained by other means or when using it improves code readability."
   ]
  },
  {
   "cell_type": "markdown",
   "id": "8957c411-3531-4bb3-89a1-2757a4235cc1",
   "metadata": {},
   "source": [
    "## Introduction to strings\n",
    "\n",
    "Fundamental types represent the most basic types handled by the machines where the code may run. But one of the major strengths of the C++ language is its rich set of compound types, of which the fundamental types are mere building blocks.\n",
    "An example of compound type is the string class. Variables of this type are able to store sequences of characters, such as words or sentences. A very useful feature!\n",
    "A first difference with fundamental data types is that in order to declare and use objects (variables) of this type, the program needs to include the header where the type is defined within the standard library (header `<string>`): "
   ]
  },
  {
   "cell_type": "code",
   "execution_count": 36,
   "id": "a1947ab4-7fb3-467b-8cd1-a549eeec6f94",
   "metadata": {
    "tags": []
   },
   "outputs": [
    {
     "name": "stdout",
     "output_type": "stream",
     "text": [
      "This is a string"
     ]
    }
   ],
   "source": [
    "// my first string\n",
    "#include <string>\n",
    "\n",
    "string mystring;\n",
    "mystring = \"This is a string\";\n",
    "cout << mystring;"
   ]
  },
  {
   "cell_type": "markdown",
   "id": "09c0a8fb-6629-4a19-a3af-438cb5e05577",
   "metadata": {},
   "source": [
    "As you can see in the previous example, strings can be initialized with any valid string literal, just like numerical type variables can be initialized to any valid numerical literal. As with fundamental types, all initialization formats are valid with strings:"
   ]
  },
  {
   "cell_type": "code",
   "execution_count": 43,
   "id": "917943d9-f967-4b6f-8c69-072efe2b5539",
   "metadata": {
    "tags": []
   },
   "outputs": [],
   "source": [
    "string mystring = \"This is a string\";"
   ]
  },
  {
   "cell_type": "code",
   "execution_count": 42,
   "id": "804262dc-7362-4eb7-a4ab-f237b90e5b34",
   "metadata": {
    "tags": []
   },
   "outputs": [],
   "source": [
    "string mystring (\"This is a string\");"
   ]
  },
  {
   "cell_type": "code",
   "execution_count": 41,
   "id": "74033a7c-fa1d-4dec-bd72-385530892055",
   "metadata": {
    "tags": []
   },
   "outputs": [],
   "source": [
    "string mystring {\"This is a string\"};"
   ]
  },
  {
   "cell_type": "markdown",
   "id": "b14f7de8-7e75-4573-8c87-619bcb793b22",
   "metadata": {},
   "source": [
    "Strings can also perform all the other basic operations that fundamental data types can, like being declared without an initial value and change its value during execution:"
   ]
  },
  {
   "cell_type": "code",
   "execution_count": 55,
   "id": "11c2d59d-3657-4125-9ceb-980c44be7193",
   "metadata": {
    "tags": []
   },
   "outputs": [
    {
     "name": "stdout",
     "output_type": "stream",
     "text": [
      "This is the initial string content"
     ]
    }
   ],
   "source": [
    "string mystring;\n",
    "mystring = \"This is the initial string content\";\n",
    "cout << mystring;"
   ]
  },
  {
   "cell_type": "code",
   "execution_count": 54,
   "id": "dd68f8be-1092-458d-82d8-3ad73904bc45",
   "metadata": {
    "tags": []
   },
   "outputs": [
    {
     "name": "stdout",
     "output_type": "stream",
     "text": [
      "This is a different string content"
     ]
    }
   ],
   "source": [
    "mystring = \"This is a different string content\";\n",
    "cout << mystring;"
   ]
  },
  {
   "cell_type": "markdown",
   "id": "6a686254-e5d8-4f3e-abde-327d8042ec9d",
   "metadata": {},
   "source": [
    "## Constants\n",
    "Constants are expressions with a fixed value.\n",
    "### Literals\n",
    "Literals are the most obvious kind of constants. They are used to express particular values within the source code of a program. We have already used some in previous chapters to give specific values to variables or to express messages we wanted our programs to print out, for example, when we wrote:\n"
   ]
  },
  {
   "cell_type": "code",
   "execution_count": 56,
   "id": "414ea832-b31c-41e0-a4d4-5097a7942635",
   "metadata": {
    "tags": []
   },
   "outputs": [],
   "source": [
    "int a = 5;"
   ]
  },
  {
   "cell_type": "markdown",
   "id": "cd1c2ac2-1dc2-472e-a1dd-74816e094d64",
   "metadata": {},
   "source": [
    "The 5 in this piece of code was a literal constant.\n",
    "Literal constants can be classified into: integer, floating-point, characters, strings, Boolean, pointers, and user-defined literals."
   ]
  },
  {
   "cell_type": "markdown",
   "id": "7790d860-1e99-4f20-9b98-e045e466be68",
   "metadata": {},
   "source": [
    "#### Integer Numerals\n",
    "\n",
    "These are numerical constants that identify integer values. Notice that they are not enclosed in quotes or any other special character; they are a simple succession of digits representing a whole number in decimal base; for example, 1776 always represents the value one thousand seven hundred seventy-six."
   ]
  },
  {
   "cell_type": "code",
   "execution_count": 58,
   "id": "2337ae36-f928-4be5-807c-595fdd671dba",
   "metadata": {
    "tags": []
   },
   "outputs": [],
   "source": [
    "1776;\n",
    "707;"
   ]
  },
  {
   "cell_type": "markdown",
   "id": "7715eba4-d173-47e2-b6ee-d23742c0e918",
   "metadata": {},
   "source": [
    "In addition to decimal numbers (those that most of us use every day), C++ allows the use of octal numbers (base 8) and hexadecimal numbers (base 16) as literal constants. For octal literals, the digits are preceded with a 0 (zero) character. And for hexadecimal, they are preceded by the characters 0x (zero, x). For example, the following literal constants are all equivalent to each other:"
   ]
  },
  {
   "cell_type": "code",
   "execution_count": 64,
   "id": "a44c46c7-750b-4915-bb38-8218644ec945",
   "metadata": {
    "tags": []
   },
   "outputs": [],
   "source": [
    "int a = 75;         // decimal\n",
    "int b = 0113;       // octal\n",
    "int c = 0x4b       // hexadecimal  "
   ]
  },
  {
   "cell_type": "markdown",
   "id": "d946ff37-e849-4ba5-bd80-9bba1f191add",
   "metadata": {},
   "source": [
    "All of these represent the same number: 75 (seventy-five) expressed as a base-10 numeral, octal numeral and hexadecimal numeral, respectively. \n",
    "These literal constants have a type, just like variables. By default, integer literals are of type int. However, certain suffixes may be appended to an integer literal to specify a different integer type:\n",
    "\n",
    "| Suffix | Type modifier |\n",
    "| -- | -- |\n",
    "| u or U | unsigned |\n",
    "| l or L | long |\n",
    "| ll or LL | long long |\n",
    "\n",
    "Unsigned may be combined with any of the other two in any order to form unsigned long or unsigned long long.\n",
    "\n",
    "For example:"
   ]
  },
  {
   "cell_type": "code",
   "execution_count": 71,
   "id": "0acba755-9633-49be-ad94-a6e9212e46fe",
   "metadata": {
    "tags": []
   },
   "outputs": [],
   "source": [
    "int a = 75;\n",
    "unsigned int b = 75u;\n",
    "long c = 75l;\n",
    "unsigned long d = 75ul;\n",
    "unsigned long e = 75lu;"
   ]
  },
  {
   "cell_type": "markdown",
   "id": "6ee1903c-0e0f-49aa-a9f6-5763c6a564a6",
   "metadata": {},
   "source": [
    "#### Floating Point Numerals\n",
    "They express real values, with decimals and/or exponents. They can include either a decimal point, an e character (that expresses \"by ten at the Xth height\", where X is an integer value that follows the e character), or both a decimal point and an e character:"
   ]
  },
  {
   "cell_type": "code",
   "execution_count": 69,
   "id": "080f236e-0594-4264-a916-1ee184ac2a1f",
   "metadata": {
    "tags": []
   },
   "outputs": [],
   "source": [
    "float a = 3.14159;    // 3.14159\n",
    "float b = 6.02e23;    // 6.02 x 10^23\n",
    "float c = 1.6e-19;    // 1.6 x 10^-19\n",
    "float d = 3.0;        // 3.0"
   ]
  },
  {
   "cell_type": "markdown",
   "id": "2705d420-b8ba-4b50-954d-59d4351bfe0e",
   "metadata": {},
   "source": [
    "The default type for floating-point literals is double. Floating-point literals of type float or long double can be specified by adding one of the following suffixes:\n",
    "\n",
    "| Suffix | Type |\n",
    "| -- | -- |\n",
    "| f or F | float |\n",
    "| l or L | long double |\n",
    "\n",
    "For example:\n"
   ]
  },
  {
   "cell_type": "code",
   "execution_count": 72,
   "id": "f22b9e68-2ec4-4020-8358-982514a4936e",
   "metadata": {
    "tags": []
   },
   "outputs": [],
   "source": [
    "long double a = 3.14159L;\n",
    "float b = 6.02e23f;"
   ]
  },
  {
   "cell_type": "markdown",
   "id": "f7a375f7-6c49-4676-967b-98b56f0e85ac",
   "metadata": {},
   "source": [
    "Any of the letters that can be part of a floating-point numerical constant (e, f, l) can be written using either lower or uppercase letters with no difference in meaning."
   ]
  },
  {
   "cell_type": "markdown",
   "id": "8b0d046c-5fdc-44b7-9b58-e324deb1bcb8",
   "metadata": {},
   "source": [
    "#### Character and string literals\n",
    "Character and string literals are enclosed in quotes: "
   ]
  },
  {
   "cell_type": "code",
   "execution_count": 89,
   "id": "d323808a-43f8-4dca-9843-0477c4592884",
   "metadata": {
    "tags": []
   },
   "outputs": [],
   "source": [
    "auto a = 'z';\n",
    "auto b = \"How do you do?\";"
   ]
  },
  {
   "cell_type": "markdown",
   "id": "48a9a899-f336-496b-8052-c555076c668a",
   "metadata": {
    "tags": []
   },
   "source": [
    "Character and string literals can also represent special characters that are difficult or impossible to express otherwise in the source code of a program, like newline (\\n) or tab (\\t). These special characters are all of them preceded by a backslash character (\\).\n",
    "\n",
    "Here you have a list of the single character escape codes: \n",
    "\n",
    "| Escape code | Description |\n",
    "| -- | -- |\n",
    "| \\n | newline |\n",
    "| \\r | carriage return |\n",
    "| \\t | tab |\n",
    "| \\v | vertical tab |\n",
    "| \\b | backspace |\n",
    "| \\f | form feed (page feed) |\n",
    "| \\a | alert (beep) |\n",
    "| \\\\' | single quote (\\') |\n",
    "| \\\" | double quote (\") |\n",
    "| \\? | question mark (?) |\n",
    "| \\\\ | backslash (\\) |\n",
    "\n",
    "Several string literals can be concatenated to form a single string literal simply by separating them by one or more blank spaces, including tabs, newlines, and other valid blank characters. For example:\n"
   ]
  },
  {
   "cell_type": "code",
   "execution_count": 114,
   "id": "9473f1a6-d499-45a1-84e8-567499884361",
   "metadata": {
    "tags": []
   },
   "outputs": [
    {
     "name": "stdout",
     "output_type": "stream",
     "text": [
      "this forms a single string of characters"
     ]
    }
   ],
   "source": [
    "auto a = \"this forms \" \"a single\"     \" string \"  \n",
    "    \"of characters\";\n",
    "\n",
    "printf(\"%s\", a);"
   ]
  },
  {
   "cell_type": "markdown",
   "id": "fadaa010-cd24-4cbb-8643-e1038e9f2108",
   "metadata": {},
   "source": [
    "Note how spaces within the quotes are part of the literal, while those outside them are not.\n",
    "Some programmers also use a trick to include long string literals in multiple lines: In C++, a backslash (\\) at the end of line is considered a line-continuation character that merges both that line and the next into a single line. Therefore the following code:"
   ]
  },
  {
   "cell_type": "code",
   "execution_count": 108,
   "id": "14051eab-93fd-46f2-81d2-396a5b4db5be",
   "metadata": {
    "tags": []
   },
   "outputs": [
    {
     "name": "stdout",
     "output_type": "stream",
     "text": [
      "string expressed in two lines"
     ]
    }
   ],
   "source": [
    "auto x = \"string expressed in \\\n",
    "two lines\";\n",
    "\n",
    "printf(\"%s\", x);"
   ]
  },
  {
   "cell_type": "markdown",
   "id": "1df41e1f-0d31-47ce-b3e9-ea65a3cc716b",
   "metadata": {},
   "source": [
    "All the character literals and string literals described above are made of characters of type char. A different character type can be specified by using one of the following prefixes:\n",
    "\n",
    "| Prefix | Character type |\n",
    "| -- | -- |\n",
    "| u | char16_t |\n",
    "| U | char32_t |\n",
    "| L | wchar_t |\n",
    "\n",
    ">Note that, unlike type suffixes for integer literals, these prefixes are case sensitive: lowercase for char16_t and uppercase for char32_t and wchar_t."
   ]
  },
  {
   "cell_type": "markdown",
   "id": "e82fa061-9ab4-4cfd-859f-2bf50b57d332",
   "metadata": {},
   "source": [
    "#### Other literals\n",
    "Three keyword literals exist in C++: true, false and nullptr:\n",
    "    • true and false are the two possible values for variables of type bool. \n",
    "    • nullptr is the null pointer value. "
   ]
  },
  {
   "cell_type": "code",
   "execution_count": 118,
   "id": "ff9c2565-5562-49af-bcea-0af15025317e",
   "metadata": {
    "tags": []
   },
   "outputs": [],
   "source": [
    "bool foo = true;\n",
    "bool bar = false;\n",
    "int* p = nullptr;"
   ]
  },
  {
   "cell_type": "markdown",
   "id": "2f3fc4bf-e28f-4ff2-a71c-a5d3b4e85ee7",
   "metadata": {},
   "source": [
    "#### Typed constant expressions\n",
    "Sometimes, it is just convenient to give a name to a constant value:"
   ]
  },
  {
   "cell_type": "code",
   "execution_count": 1,
   "id": "86b18b80-e472-4c79-a412-75d42fd78b88",
   "metadata": {
    "tags": []
   },
   "outputs": [],
   "source": [
    "const double pi = 3.1415926;\n",
    "const char tab = '\\t';"
   ]
  },
  {
   "cell_type": "markdown",
   "id": "808220fe-5de8-4f52-8307-c782cf6d02f2",
   "metadata": {},
   "source": [
    "We can then use these names instead of the literals they were defined to: "
   ]
  },
  {
   "cell_type": "code",
   "execution_count": 4,
   "id": "71262026-ef38-4bc3-8f23-51641bb784ba",
   "metadata": {
    "tags": []
   },
   "outputs": [
    {
     "name": "stdout",
     "output_type": "stream",
     "text": [
      "31.4159\n"
     ]
    }
   ],
   "source": [
    "const double pi = 3.14159;\n",
    "const char newline = '\\n';\n",
    "\n",
    "double r=5.0;               // radius\n",
    "double circle;\n",
    "\n",
    "circle = 2 * pi * r;\n",
    "\n",
    "cout << circle;\n",
    "cout << newline;"
   ]
  },
  {
   "cell_type": "markdown",
   "id": "8d48c0cc-97bd-44e0-bbfa-9cc7323294df",
   "metadata": {},
   "source": [
    "#### Preprocessor definitions (#define)\n",
    "Another mechanism to name constant values is the use of preprocessor definitions. They have the following form:\n",
    "\n",
    "    #define identifier replacement \n",
    "\n",
    "After this directive, any occurrence of identifier in the code is interpreted as replacement, where replacement is any sequence of characters (until the end of the line). This replacement is performed by the preprocessor, and happens before the program is compiled, thus causing a sort of blind replacement: the validity of the types or syntax involved is not checked in any way.\n",
    "\n",
    "For example: "
   ]
  },
  {
   "cell_type": "code",
   "execution_count": 5,
   "id": "8345d65f-ca46-4e54-8a7e-89ee04c24ee5",
   "metadata": {
    "tags": []
   },
   "outputs": [
    {
     "name": "stdout",
     "output_type": "stream",
     "text": [
      "31.4159\n"
     ]
    }
   ],
   "source": [
    "#define PI 3.14159\n",
    "#define NEWLINE '\\n'\n",
    "\n",
    "double r=5.0;               // radius\n",
    "double circle;\n",
    "circle = 2 * PI * r;\n",
    "cout << circle;\n",
    "cout << NEWLINE;"
   ]
  }
 ],
 "metadata": {
  "kernelspec": {
   "display_name": "C++17",
   "language": "C++17",
   "name": "xcpp17"
  },
  "language_info": {
   "codemirror_mode": "text/x-c++src",
   "file_extension": ".cpp",
   "mimetype": "text/x-c++src",
   "name": "c++",
   "version": "17"
  },
  "toc-autonumbering": false,
  "toc-showcode": false,
  "toc-showmarkdowntxt": false,
  "toc-showtags": false
 },
 "nbformat": 4,
 "nbformat_minor": 5
}
