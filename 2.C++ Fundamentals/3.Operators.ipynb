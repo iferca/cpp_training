{
 "cells": [
  {
   "cell_type": "markdown",
   "id": "2f94a138-2e30-40c2-b398-1585f0426787",
   "metadata": {},
   "source": [
    "# Operators\n",
    "Once introduced to variables and constants, we can begin to operate with them by using operators What follows is a complete list of operators. At this point, it is likely not necessary to know all of them, but they are all listed here to also serve as reference."
   ]
  },
  {
   "cell_type": "code",
   "execution_count": 29,
   "id": "3e22954f-b357-45cf-8927-165ee9428579",
   "metadata": {
    "tags": []
   },
   "outputs": [],
   "source": [
    "#include <iostream>\n",
    "\n",
    "using namespace std;"
   ]
  },
  {
   "cell_type": "markdown",
   "id": "a673e144-80cc-42aa-ab6d-3836fcfbbdab",
   "metadata": {},
   "source": [
    "## Assignment operator (=)\n",
    "The assignment operator assigns a value to a variable. "
   ]
  },
  {
   "cell_type": "code",
   "execution_count": 15,
   "id": "03765be2-d112-4051-a2bb-9ccdd7a74693",
   "metadata": {
    "tags": []
   },
   "outputs": [],
   "source": [
    "auto x = 5;\n",
    "auto y = 6;\n",
    "x = y;"
   ]
  },
  {
   "cell_type": "markdown",
   "id": "9312d373-e61b-4570-9bf6-5809fcf36687",
   "metadata": {},
   "source": [
    "This statement assigns to variable x the value contained in variable y. The value of x at the moment this statement is executed is lost and replaced by the value of y.\n",
    "Consider also that we are only assigning the value of y to x at the moment of the assignment operation. Therefore, if y changes at a later moment, it will not affect the new value taken by x.\n",
    "Assignment operations are expressions that can be evaluated. That means that the assignment itself has a value, and -for fundamental types- this value is the one assigned in the operation. For example: "
   ]
  },
  {
   "cell_type": "code",
   "execution_count": 16,
   "id": "2e5b7268-6d26-4874-bc22-0fa555e4443f",
   "metadata": {
    "tags": []
   },
   "outputs": [
    {
     "name": "stdout",
     "output_type": "stream",
     "text": [
      "7"
     ]
    }
   ],
   "source": [
    "auto y = 2 + (x = 5);\n",
    "\n",
    "cout << y;"
   ]
  },
  {
   "cell_type": "markdown",
   "id": "caa5bf99-deea-4845-897f-05b81eb4c694",
   "metadata": {},
   "source": [
    "In this expression, y is assigned the result of adding 2 and the value of another assignment expression (which has itself a value of 5). It is roughly equivalent to: "
   ]
  },
  {
   "cell_type": "code",
   "execution_count": 17,
   "id": "e283005b-4a54-4199-8431-5ddf2efbc91e",
   "metadata": {
    "tags": []
   },
   "outputs": [
    {
     "name": "stdout",
     "output_type": "stream",
     "text": [
      "7"
     ]
    }
   ],
   "source": [
    "x = 5;\n",
    "y = 2 + x;\n",
    "\n",
    "cout << y;"
   ]
  },
  {
   "cell_type": "markdown",
   "id": "35ebe0af-62e5-4720-b866-92f46619e4b7",
   "metadata": {},
   "source": [
    "With the final result of assigning 7 to y.\n",
    "The following expression is also valid in C++: "
   ]
  },
  {
   "cell_type": "code",
   "execution_count": 20,
   "id": "3ebd27c5-3f05-4a1a-83a0-0742acd1d227",
   "metadata": {
    "tags": []
   },
   "outputs": [
    {
     "name": "stdout",
     "output_type": "stream",
     "text": [
      "5\n",
      "5"
     ]
    }
   ],
   "source": [
    "x = y = 5;\n",
    "\n",
    "cout << x << endl;\n",
    "cout << y;"
   ]
  },
  {
   "cell_type": "markdown",
   "id": "3458c639-7e64-44f9-a1dc-5994dc890cc1",
   "metadata": {},
   "source": [
    "## Arithmetic operators\n",
    "\n",
    "The five arithmetical operations supported by C++ are: \n",
    "\n",
    "| Operator | Description |\n",
    "| -- | -- |\n",
    "| + | addition |\n",
    "| - | subtraction |\n",
    "| * | multiplication |\n",
    "| / | division |\n",
    "| % | modulo |\n"
   ]
  },
  {
   "cell_type": "code",
   "execution_count": 21,
   "id": "0ef7e405-6577-4e73-a029-b412059b78b5",
   "metadata": {
    "tags": []
   },
   "outputs": [
    {
     "name": "stdout",
     "output_type": "stream",
     "text": [
      "2"
     ]
    }
   ],
   "source": [
    "cout << 11 % 3;"
   ]
  },
  {
   "cell_type": "markdown",
   "id": "6f216ada-79fe-4d2b-b2b3-d8c46a0768f9",
   "metadata": {},
   "source": [
    "## Compound assignment\n",
    "Compound assignment operators modify the current value of a variable by performing an operation on it. They are equivalent to assigning the result of an operation to the first operand:\n",
    "\n",
    "| Expression | Equivalent to... |\n",
    "| -- | -- |\n",
    "| y += x; | y = y + x; |\n",
    "| x -= 5; | x = x - 5; |\n",
    "| x /= y; | x = x / y; |\n",
    "| price *= units + 1; | price = price * (units+1); |\n"
   ]
  },
  {
   "cell_type": "code",
   "execution_count": 25,
   "id": "4ec5b1c4-44ec-4cec-94ae-090009cdeaa6",
   "metadata": {
    "tags": []
   },
   "outputs": [
    {
     "name": "stdout",
     "output_type": "stream",
     "text": [
      "5"
     ]
    }
   ],
   "source": [
    "int a=3;\n",
    "a+=2;             // equivalent to a=a+2\n",
    "cout << a;"
   ]
  },
  {
   "cell_type": "markdown",
   "id": "197a2de1-cbf9-4d4e-aa9f-57ee8594cfc7",
   "metadata": {},
   "source": [
    "## Increment and decrement\n",
    "Some expression can be shortened even more: the increase operator (++) and the decrease operator (--) increase or reduce by one the value stored in a variable. They are equivalent to +=1 and to -=1, respectively.\n",
    "\n",
    "A peculiarity of this operator is that it can be used both as a prefix and as a suffix. That means that it can be written either before the variable name (++x) or after it (x++). Although in simple expressions like x++ or ++x, both have exactly the same meaning; in other expressions in which the result of the increment or decrement operation is evaluated, they may have an important difference in their meaning: In the case that the increase operator is used as a prefix (++x) of the value, the expression evaluates to the final value of x, once it is already increased. On the other hand, in case that it is used as a suffix (x++), the value is also increased, but the expression evaluates to the value that x had before being increased. Notice the difference:"
   ]
  },
  {
   "cell_type": "code",
   "execution_count": 30,
   "id": "ef09886c-9ae1-4a67-8fc8-8f88ec97233c",
   "metadata": {
    "tags": []
   },
   "outputs": [
    {
     "name": "stdout",
     "output_type": "stream",
     "text": [
      "x=4, y=4"
     ]
    }
   ],
   "source": [
    "auto x = 3;\n",
    "auto y = ++x;\n",
    "\n",
    "printf(\"x=%d, y=%d\", x, y);"
   ]
  },
  {
   "cell_type": "code",
   "execution_count": 31,
   "id": "42deb9e6-4cdc-4262-8d5f-56ee4d250b23",
   "metadata": {
    "tags": []
   },
   "outputs": [
    {
     "name": "stdout",
     "output_type": "stream",
     "text": [
      "x=4, y=3"
     ]
    }
   ],
   "source": [
    "auto x = 3;\n",
    "auto y = x++;\n",
    "\n",
    "printf(\"x=%d, y=%d\", x, y);"
   ]
  },
  {
   "cell_type": "markdown",
   "id": "54cf44ec-1e1a-4f74-9a6c-8e014cb52684",
   "metadata": {},
   "source": [
    "## Relational and comparison operators\n",
    "Two expressions can be compared using relational and equality operators. For example, to know if two values are equal or if one is greater than the other.\n",
    "\n",
    "The result of such an operation is either true or false (i.e., a Boolean value).\n",
    "\n",
    "The relational operators in C++ are:\n",
    "\n",
    "| Operator | Description |\n",
    "| -- | -- |\n",
    "| == | Equal to |\n",
    "| != | Not equal to |\n",
    "| < | Less than |\n",
    "| > | Greater than |\n",
    "| <= | Less than or equal to |\n",
    "| >= | Greater than or equal to |\n",
    "\n",
    "> __Be careful!__ The assignment operator (operator =, with one equal sign) is not the same as the equality comparison operator (operator ==, with two equal signs); the first one (=) assigns the value on the right-hand to the variable on its left, while the other (==) compares whether the values on both sides of the operator are equal. Therefore, in the last expression ((b=2) == a), we first assigned the value 2 to b and then we compared it to a (that also stores the value 2), yielding true."
   ]
  },
  {
   "cell_type": "code",
   "execution_count": 43,
   "id": "8f07c77e-dda1-4e25-8a12-78b6249c5bdd",
   "metadata": {
    "tags": []
   },
   "outputs": [
    {
     "name": "stdout",
     "output_type": "stream",
     "text": [
      "false"
     ]
    }
   ],
   "source": [
    "auto b = 3, a = 3;\n",
    "\n",
    "printf(((b==3)==a) ? \"true\" : \"false\");"
   ]
  },
  {
   "cell_type": "code",
   "execution_count": 44,
   "id": "9bc4a479-7ff1-4319-a0bd-b010d9609d7f",
   "metadata": {
    "tags": []
   },
   "outputs": [
    {
     "name": "stdout",
     "output_type": "stream",
     "text": [
      "true"
     ]
    }
   ],
   "source": [
    "printf(((b=3)==a) ? \"true\" : \"false\");"
   ]
  },
  {
   "cell_type": "markdown",
   "id": "33f098df-2381-425e-8767-8e2e4c43e216",
   "metadata": {},
   "source": [
    "## Logical operators\n",
    "\n",
    "The operator ! is the C++ operator for the Boolean operation NOT. It has only one operand, to its right, and inverts it, producing false if its operand is true, and true if its operand is false. Basically, it returns the opposite Boolean value of evaluating its operand. For example: "
   ]
  },
  {
   "cell_type": "code",
   "execution_count": 49,
   "id": "b4291237-82fd-4e78-ad56-1485bd06896d",
   "metadata": {
    "tags": []
   },
   "outputs": [],
   "source": [
    "!(5 == 5)   // evaluates to false because the expression at its right (5 == 5) is true\n",
    "!(6 <= 4)   // evaluates to true because (6 <= 4) would be false\n",
    "!true       // evaluates to false\n",
    "!false      // evaluates to true"
   ]
  },
  {
   "cell_type": "markdown",
   "id": "0b979ab6-4d4e-4c49-b195-b4c64157754b",
   "metadata": {},
   "source": [
    "The logical operators && and || are used when evaluating two expressions to obtain a single relational result. The operator && corresponds to the Boolean logical operation AND, which yields true if both its operands are true, and false otherwise. The following panel shows the result of operator && evaluating the expression a&&b:\n",
    "\n",
    "__&& OPERATOR (and)__\n",
    "| a | b | a && b |\n",
    "|--|--|--|\n",
    "| true | true | true |\n",
    "| true | false | false |\n",
    "| false | true | false |\n",
    "| false | false | false |\n",
    "\n",
    "The operator || corresponds to the Boolean logical operation OR, which yields true if either of its operands is true, thus being false only when both operands are false. Here are the possible results of a||b:\n",
    "\n",
    "__|| OPERATOR (or)__\n",
    "\n",
    "| a | b | a \\|\\| b |\n",
    "|--|--|--|\n",
    "| true | true | true |\n",
    "| true | false | true |\n",
    "| false | true | true |\n",
    "| false | false | false |\n",
    "\n",
    "When using the logical operators, C++ only evaluates what is necessary from left to right to come up with the combined relational result, ignoring the rest. This is known as short-circuit evaluation, and works like this for these operators:\n",
    "\n",
    "| operator | short-circuit |\n",
    "|--|--|\n",
    "| && | if the left-hand side expression is false, the combined result is false (the right-hand side expression is never evaluated). |\n",
    "| \\|\\| | if the left-hand side expression is true, the combined result is true (the right-hand side expression is never evaluated). |\n",
    "\n",
    "This is mostly important when the right-hand expression has side effects, such as altering values: \n",
    "\n",
    "```cpp\n",
    "(i<10) && (++i<n)\n",
    "```"
   ]
  },
  {
   "cell_type": "markdown",
   "id": "1dd8d6ac-aee4-4186-aace-e1bb2a21353e",
   "metadata": {},
   "source": [
    "## Conditional ternary operator\n",
    "The conditional operator evaluates an expression, returning one value if that expression evaluates to true, and a different one if the expression evaluates as false. Its syntax is:\n",
    "\n",
    "condition ? result1 : result2 \n",
    "\n",
    "If condition is true, the entire expression evaluates to result1, and otherwise to result2. \n",
    "\n",
    "```cpp\n",
    "7==5 ? 4 : 3     // evaluates to 3, since 7 is not equal to 5.\n",
    "7==5+2 ? 4 : 3   // evaluates to 4, since 7 is equal to 5+2.\n",
    "5>3 ? a : b      // evaluates to the value of a, since 5 is greater than 3.\n",
    "a>b ? a : b      // evaluates to whichever is greater, a or b. \n",
    "```\n",
    "\n",
    "For example: "
   ]
  },
  {
   "cell_type": "code",
   "execution_count": 53,
   "id": "7559afd2-1152-411e-b856-8d754c42bbf0",
   "metadata": {
    "tags": []
   },
   "outputs": [
    {
     "name": "stdout",
     "output_type": "stream",
     "text": [
      "7"
     ]
    }
   ],
   "source": [
    "int a,b,c;\n",
    "a=2;\n",
    "b=7;\n",
    "c = (a>b) ? a : b;\n",
    "cout << c;"
   ]
  },
  {
   "cell_type": "markdown",
   "id": "d71d9825-d96c-4807-acc5-98492a1f1d0c",
   "metadata": {},
   "source": [
    "## Comma operator\n",
    "The comma operator (,) is used to separate two or more expressions that are included where only one expression is expected. When the set of expressions has to be evaluated for a value, only the right-most expression is considered.\n",
    "\n",
    "For example, the following code: "
   ]
  },
  {
   "cell_type": "code",
   "execution_count": 55,
   "id": "29513ebf-d574-4bca-9699-2d70cf02298e",
   "metadata": {
    "tags": []
   },
   "outputs": [
    {
     "name": "stdout",
     "output_type": "stream",
     "text": [
      "5"
     ]
    }
   ],
   "source": [
    "int a, b;\n",
    "a = (b=3, b+2);\n",
    "cout << a;"
   ]
  },
  {
   "cell_type": "markdown",
   "id": "c6d3297d-8196-443a-aa3b-20f76998cd28",
   "metadata": {},
   "source": [
    "would first assign the value 3 to b, and then assign b+2 to variable a. So, at the end, variable a would contain the value 5 while variable b would contain value 3."
   ]
  },
  {
   "cell_type": "markdown",
   "id": "2e1ebfd8-85de-47f1-af12-94ca56710c73",
   "metadata": {},
   "source": [
    "## Explicit type casting operator\n",
    "\n",
    "Type casting operators allow to convert a value of a given type to another type. There are several ways to do this in C++. The simplest one, which has been inherited from the C language, is to precede the expression to be converted by the new type enclosed between parentheses (()):"
   ]
  },
  {
   "cell_type": "code",
   "execution_count": 57,
   "id": "641ed936-8424-4eb5-89a3-814aea22e63e",
   "metadata": {
    "tags": []
   },
   "outputs": [
    {
     "name": "stdout",
     "output_type": "stream",
     "text": [
      "3"
     ]
    }
   ],
   "source": [
    "int i;\n",
    "float f = 3.14;\n",
    "i = (int) f;\n",
    "\n",
    "cout << i;"
   ]
  },
  {
   "cell_type": "markdown",
   "id": "c82aa15f-d5fe-4ee2-959b-1c08cbbe75e0",
   "metadata": {},
   "source": [
    "The previous code converts the floating-point number 3.14 to an integer value (3); the remainder is lost. Here, the typecasting operator was (int). Another way to do the same thing in C++ is to use the functional notation preceding the expression to be converted by the type and enclosing the expression between parentheses: "
   ]
  },
  {
   "cell_type": "code",
   "execution_count": 58,
   "id": "53cb3766-c0ee-4154-b2eb-9ef8435860f4",
   "metadata": {
    "tags": []
   },
   "outputs": [
    {
     "name": "stdout",
     "output_type": "stream",
     "text": [
      "3"
     ]
    }
   ],
   "source": [
    "i = int (f);\n",
    "\n",
    "cout << i;"
   ]
  },
  {
   "cell_type": "markdown",
   "id": "f1a04e38-2f36-4829-980c-f28b0b9c746b",
   "metadata": {},
   "source": [
    "Both ways of casting types are valid in C++."
   ]
  },
  {
   "cell_type": "markdown",
   "id": "a3cba3f2-87b1-463d-9723-98920dd4ae91",
   "metadata": {},
   "source": [
    "## sizeof operator\n",
    "\n",
    "This operator accepts one parameter, which can be either a type or a variable, and returns the size in bytes of that type or object:"
   ]
  },
  {
   "cell_type": "code",
   "execution_count": 59,
   "id": "5bda5a7c-1a6e-41a5-801b-96d18626eff7",
   "metadata": {
    "tags": []
   },
   "outputs": [
    {
     "name": "stdout",
     "output_type": "stream",
     "text": [
      "1"
     ]
    }
   ],
   "source": [
    "x = sizeof(char);\n",
    "cout << x;"
   ]
  },
  {
   "cell_type": "markdown",
   "id": "30d018c3-49d0-480e-9c0c-a57c4836e2f5",
   "metadata": {},
   "source": [
    "Here, x is assigned the value 1, because char is a type with a size of one byte.\n",
    "\n",
    "The value returned by sizeof is a compile-time constant, so it is always determined before program execution."
   ]
  },
  {
   "cell_type": "markdown",
   "id": "6590ffbc-6d46-4b27-b2dd-871a74611ce3",
   "metadata": {},
   "source": [
    "## Precedence of operators\n",
    "\n",
    "A single expression may have multiple operators. For example: "
   ]
  },
  {
   "cell_type": "code",
   "execution_count": 60,
   "id": "ff1f4610-fe3e-4294-b9d0-c197421672a1",
   "metadata": {
    "tags": []
   },
   "outputs": [
    {
     "name": "stdout",
     "output_type": "stream",
     "text": [
      "6"
     ]
    }
   ],
   "source": [
    "x = 5 + 7 % 2;\n",
    "\n",
    "cout << x;"
   ]
  },
  {
   "cell_type": "markdown",
   "id": "845851cd-757b-4755-ac45-b1e48873dfe5",
   "metadata": {},
   "source": [
    "In C++, the above expression always assigns 6 to variable x, because the % operator has a higher precedence than the + operator, and is always evaluated before. Parts of the expressions can be enclosed in parenthesis to override this precedence order, or to make explicitly clear the intended effect. Notice the difference: "
   ]
  },
  {
   "cell_type": "code",
   "execution_count": 61,
   "id": "e2d95eba-a050-4f95-a3a7-c702fd463ac6",
   "metadata": {
    "tags": []
   },
   "outputs": [
    {
     "name": "stdout",
     "output_type": "stream",
     "text": [
      "6"
     ]
    }
   ],
   "source": [
    "x = 5 + (7 % 2);    // (same as without parenthesis)\n",
    "cout << x;"
   ]
  },
  {
   "cell_type": "code",
   "execution_count": 63,
   "id": "6ff8664b-95ef-4a6c-9a4d-013adc3db460",
   "metadata": {
    "tags": []
   },
   "outputs": [
    {
     "name": "stdout",
     "output_type": "stream",
     "text": [
      "0"
     ]
    }
   ],
   "source": [
    "x = (5 + 7) % 2;\n",
    "cout << x;"
   ]
  },
  {
   "cell_type": "markdown",
   "id": "1648fc10-f976-4c72-b346-b2e7873b668a",
   "metadata": {},
   "source": [
    "When an expression has two operators with the same precedence level, grouping determines which one is evaluated first: either left-to-right or right-to-left.\n",
    "Enclosing all sub-statements in parentheses (even those unnecessary because of their precedence) improves code readability."
   ]
  }
 ],
 "metadata": {
  "kernelspec": {
   "display_name": "C++17",
   "language": "C++17",
   "name": "xcpp17"
  },
  "language_info": {
   "codemirror_mode": "text/x-c++src",
   "file_extension": ".cpp",
   "mimetype": "text/x-c++src",
   "name": "c++",
   "version": "17"
  }
 },
 "nbformat": 4,
 "nbformat_minor": 5
}
