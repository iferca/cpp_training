{
 "cells": [
  {
   "cell_type": "code",
   "execution_count": 264,
   "id": "c9e98357-1626-4f7d-8a6d-ecf61ea6e1f8",
   "metadata": {
    "tags": []
   },
   "outputs": [],
   "source": [
    "#include <iostream>\n",
    "#include <string>\n",
    "#include <stdlib.h>\n",
    "\n",
    "using namespace std;"
   ]
  },
  {
   "cell_type": "markdown",
   "id": "52a40ad3-c351-4002-ad45-d9f9ecfaf279",
   "metadata": {},
   "source": [
    "# Statements\n",
    "\n",
    "A simple C++ statement is each of the individual instructions of a program, like the variable declarations and expressions seen in previous sections. They always end with a semicolon (;), and are executed in the same order in which they appear in a program.\n",
    "\n",
    "    { statement1; statement2; statement3; } "
   ]
  },
  {
   "cell_type": "markdown",
   "id": "a40f5e4a-2008-47f1-91e0-01369a608ca6",
   "metadata": {},
   "source": [
    "# Selection statements: if and else\n",
    "The if keyword is used to execute a statement or block, if, and only if, a condition is fulfilled. Its syntax is:\n",
    "\n",
    "    if (condition) statement \n",
    "    \n",
    "Here, condition is the expression that is being evaluated. If this condition is true, statement is executed. If it is false, statement is not executed (it is simply ignored), and the program continues right after the entire selection statement.\n",
    "\n",
    "For example, the following code fragment prints the message (x is 100), only if the value stored in the x variable is indeed 100:"
   ]
  },
  {
   "cell_type": "code",
   "execution_count": 244,
   "id": "7a74b852-fed3-4848-9844-613421b0a980",
   "metadata": {
    "tags": []
   },
   "outputs": [
    {
     "name": "stdout",
     "output_type": "stream",
     "text": [
      "x is less than 100000000"
     ]
    }
   ],
   "source": [
    "auto x = rand();\n",
    "\n",
    "if (x < 1000000000)\n",
    "  cout << \"x is less than 100000000\";"
   ]
  },
  {
   "cell_type": "markdown",
   "id": "ede7d661-a28c-4e61-9831-567ccb43f6aa",
   "metadata": {},
   "source": [
    "If you want to include more than a single statement to be executed when the condition is fulfilled, these statements shall be enclosed in braces ({}), forming a block: "
   ]
  },
  {
   "cell_type": "code",
   "execution_count": 181,
   "id": "7fbb3b76-d232-4f97-91c1-ccd9968e6ddf",
   "metadata": {
    "tags": []
   },
   "outputs": [
    {
     "name": "stdout",
     "output_type": "stream",
     "text": [
      "115728083 is less than 100000000"
     ]
    }
   ],
   "source": [
    "auto x = rand();\n",
    "\n",
    "if (x < 1000000000){\n",
    "    cout << x;\n",
    "    cout << \" is less than 100000000\";\n",
    "}"
   ]
  },
  {
   "cell_type": "markdown",
   "id": "67b25ad3-7feb-4057-b3ae-cc773e17c9fb",
   "metadata": {},
   "source": [
    "Selection statements with if can also specify what happens when the condition is not fulfilled, by using the else keyword to introduce an alternative statement. Its syntax is:\n",
    "\n",
    "    if (condition) statement1 else statement2\n",
    "\n",
    "where statement1 is executed in case condition is true, and in case it is not, statement2 is executed.\n",
    "For example: "
   ]
  },
  {
   "cell_type": "code",
   "execution_count": 192,
   "id": "949f8f68-8467-4bef-b453-875c2474ad68",
   "metadata": {
    "tags": []
   },
   "outputs": [
    {
     "name": "stdout",
     "output_type": "stream",
     "text": [
      "1306346274 is less than or equal to 100000000"
     ]
    }
   ],
   "source": [
    "auto x = rand();\n",
    "\n",
    "if (x < 1000000000){\n",
    "    cout << x;\n",
    "    cout << \" is less than 100000000\";\n",
    "} else {\n",
    "    cout << x;\n",
    "    cout << \" is less than or equal to 100000000\";\n",
    "}"
   ]
  },
  {
   "cell_type": "markdown",
   "id": "95b23796-e90c-4a5c-a50f-78c93c1e1058",
   "metadata": {},
   "source": [
    "Several if + else structures can be concatenated with the intention of checking a range of values. For example: "
   ]
  },
  {
   "cell_type": "code",
   "execution_count": 252,
   "id": "29666b3c-d16a-48d9-b177-3431cbb68121",
   "metadata": {
    "tags": []
   },
   "outputs": [
    {
     "name": "stdout",
     "output_type": "stream",
     "text": [
      "68318512 is less than 100000000"
     ]
    }
   ],
   "source": [
    "auto x = rand();\n",
    "\n",
    "if (x < 1000000000){\n",
    "    cout << x;\n",
    "    cout << \" is less than 100000000\";\n",
    "} else if (x == 100000000){\n",
    "    cout << x;\n",
    "    cout << \" is equal to 100000000\";\n",
    "} else {\n",
    "    cout << x;\n",
    "    cout << \" is greater than 100000000\";\n",
    "}"
   ]
  },
  {
   "cell_type": "markdown",
   "id": "a43cffb5-0b43-4943-921e-be6c059a8fee",
   "metadata": {},
   "source": [
    "# Iteration statements (loops)\n",
    "\n",
    "Loops repeat a statement a certain number of times, or while a condition is fulfilled. They are introduced by the keywords `while`, `do`, and `for`."
   ]
  },
  {
   "cell_type": "markdown",
   "id": "c117b08d-48ff-441e-a4fb-327cb3f4d485",
   "metadata": {},
   "source": [
    "## The while loop\n",
    "\n",
    "The simplest kind of loop is the while-loop. Its syntax is:\n",
    "\n",
    "    while (expression) statement\n",
    "\n",
    "The while-loop simply repeats statement while expression is true. If, after any execution of statement, expression is no longer true, the loop ends, and the program continues right after the loop. For example, let's have a look at a countdown using a while-loop:"
   ]
  },
  {
   "cell_type": "code",
   "execution_count": 263,
   "id": "0d97a45b-81ca-4c4f-82cd-58aecfc17a73",
   "metadata": {
    "tags": []
   },
   "outputs": [
    {
     "name": "stdout",
     "output_type": "stream",
     "text": [
      "10, 9, 8, 7, 6, 5, 4, 3, 2, 1, liftoff!\n"
     ]
    }
   ],
   "source": [
    "int n = 10;\n",
    "while (n>0) {\n",
    "    cout << n << \", \";\n",
    "    --n;\n",
    "}\n",
    "cout << \"liftoff!\\n\";"
   ]
  },
  {
   "cell_type": "markdown",
   "id": "a6d41545-3ab5-41c9-9907-b0f2a099f023",
   "metadata": {},
   "source": [
    "## The do-while loop\n",
    "\n",
    "A very similar loop is the do-while loop, whose syntax is:\n",
    "\n",
    "    do statement while (condition);\n",
    "\n",
    "It behaves like a while-loop, except that condition is evaluated after the execution of statement instead of before, guaranteeing at least one execution of statement, even if condition is never fulfilled. For example, the following example program echoes any text the user introduces until the user enters goodbye:"
   ]
  },
  {
   "cell_type": "code",
   "execution_count": 270,
   "id": "4396b215-b79a-4a48-b88b-1e95434197ab",
   "metadata": {
    "tags": []
   },
   "outputs": [
    {
     "name": "stdout",
     "output_type": "stream",
     "text": [
      "10, 9, 8, 7, 6, 5, 4, 3, 2, 1, liftoff!\n"
     ]
    }
   ],
   "source": [
    "int n = 10;\n",
    "do {\n",
    "    cout << n << \", \";\n",
    "    --n;\n",
    "} while (n>0);\n",
    "cout << \"liftoff!\\n\";"
   ]
  },
  {
   "cell_type": "markdown",
   "id": "02799e0f-7755-434a-b29b-8f78043283c8",
   "metadata": {},
   "source": [
    "The do-while loop is usually preferred over a while-loop when the statement needs to be executed at least once, such as when the condition that is checked to end of the loop is determined within the loop statement itself."
   ]
  },
  {
   "cell_type": "markdown",
   "id": "d777f33a-beee-471c-80e4-9d19c2decb8d",
   "metadata": {},
   "source": [
    "## The for loop\n",
    "\n",
    "The for loop is designed to iterate a number of times. Its syntax is:\n",
    "\n",
    "    for (initialization; condition; increase) statement;\n",
    "\n",
    "Like the while-loop, this loop repeats statement while condition is true. But, in addition, the for loop provides specific locations to contain an initialization and an increase expression, executed before the loop begins the first time, and after each iteration, respectively. Therefore, it is especially useful to use counter variables as condition.\n",
    "\n",
    "It works in the following way:\n",
    "\n",
    "    1. initialization is executed. Generally, this declares a counter variable, and sets it to some initial value. This is executed a single time, at the beginning of the loop. \n",
    "    2. condition is checked. If it is true, the loop continues; otherwise, the loop ends, and statement is skipped, going directly to step 5. \n",
    "    3. statement is executed. As usual, it can be either a single statement or a block enclosed in curly braces { }. \n",
    "    4. increase is executed, and the loop gets back to step 2. \n",
    "    5. the loop ends: execution continues by the next statement after it.\n",
    "    \n",
    "Here is the countdown example using a for loop:"
   ]
  },
  {
   "cell_type": "code",
   "execution_count": 271,
   "id": "698b253c-7600-46dd-9027-201333506135",
   "metadata": {
    "tags": []
   },
   "outputs": [
    {
     "name": "stdout",
     "output_type": "stream",
     "text": [
      "10, 9, 8, 7, 6, 5, 4, 3, 2, 1, liftoff!\n"
     ]
    }
   ],
   "source": [
    "for (int n=10; n>0; n--) {\n",
    "    cout << n << \", \";\n",
    "}\n",
    "cout << \"liftoff!\\n\";"
   ]
  },
  {
   "cell_type": "markdown",
   "id": "c7033afc-da7a-469b-a3ef-4cd8ca8393fb",
   "metadata": {},
   "source": [
    "The three fields in a for-loop are optional. They can be left empty, but in all cases the semicolon signs between them are required. For example:\n",
    "\n",
    "* for (;n<10;) is a loop without initialization or increase (equivalent to a while-loop)\n",
    "* for (;n<10;++n) is a loop with increase, but no initialization (maybe because the variable was already initialized before the loop)\n",
    "* a loop with no condition is equivalent to a loop with true as condition (i.e., an infinite loop).\n",
    "\n",
    "Because each of the fields is executed in a particular time in the life cycle of a loop, it may be useful to execute more than a single expression as any of initialization, condition, or statement. Unfortunately, these are not statements, but rather, simple expressions, and thus cannot be replaced by a block. As expressions, they can, however, make use of the comma operator (,): This operator is an expression separator, and can separate multiple expressions where only one is generally expected. For example, using it, it would be possible for a for loop to handle two counter variables, initializing and increasing both:"
   ]
  },
  {
   "cell_type": "code",
   "execution_count": 277,
   "id": "3c5c341b-b543-46b8-896e-2628e7875425",
   "metadata": {
    "tags": []
   },
   "outputs": [],
   "source": [
    "for ( int n=0, i=100 ; n!=i ; ++n, --i )\n",
    "{\n",
    "   // something to repete...\n",
    "}"
   ]
  },
  {
   "cell_type": "markdown",
   "id": "99bd6c4c-a480-43bf-b052-6e2b8b4baaaa",
   "metadata": {},
   "source": [
    "## Range-based for loop\n",
    "\n",
    "The for-loop has another syntax, which is used exclusively with ranges:\n",
    "\n",
    "    for ( declaration : range ) statement;\n",
    "\n",
    "This kind of for loop iterates over all the elements in range, where declaration declares some variable able to take the value of an element in this range. Ranges are sequences of elements, including arrays, containers, and any other type supporting the functions begin and end; Most of these types have not yet been introduced in this manual, but we are already acquainted with at least one kind of range: strings, which are sequences of characters.\n",
    "\n",
    "An example of range-based for loop using strings:"
   ]
  },
  {
   "cell_type": "code",
   "execution_count": 283,
   "id": "1b0567ab-f605-4aa0-949e-ed8c6ad5919d",
   "metadata": {
    "tags": []
   },
   "outputs": [
    {
     "name": "stdout",
     "output_type": "stream",
     "text": [
      "[H][e][l][l][o][!]"
     ]
    }
   ],
   "source": [
    "string str = \"Hello!\";\n",
    "for (char c : str)\n",
    "{\n",
    "    cout << \"[\" << c << \"]\";\n",
    "}"
   ]
  },
  {
   "cell_type": "markdown",
   "id": "915f2290-9efd-479d-abf5-7e950b846605",
   "metadata": {},
   "source": [
    "Note how what precedes the colon (:) in the for loop is the declaration of a char variable (the elements in a string are of type char). We then use this variable, c, in the statement block to represent the value of each of the elements in the range.\n",
    "\n",
    "This loop is automatic and does not require the explicit declaration of any counter variable.\n",
    "Range based loops usually also make use of type deduction for the type of the elements with auto. Typically, the range-based loop above can also be written as:"
   ]
  },
  {
   "cell_type": "code",
   "execution_count": 282,
   "id": "727b8376-2308-4fc7-ba85-2bbfed9ae528",
   "metadata": {
    "tags": []
   },
   "outputs": [
    {
     "name": "stdout",
     "output_type": "stream",
     "text": [
      "[H][e][l][l][o][!]"
     ]
    }
   ],
   "source": [
    "for (auto c : str)\n",
    "  cout << \"[\" << c << \"]\";"
   ]
  },
  {
   "cell_type": "markdown",
   "id": "e673d6a0-44db-43fb-a11a-abaf031b256a",
   "metadata": {},
   "source": [
    "## Jump statements\n",
    "\n",
    "Jump statements allow altering the flow of a program by performing jumps to specific locations.\n",
    "\n",
    "### The break statement\n",
    "\n",
    "`break` leaves a loop, even if the condition for its end is not fulfilled. It can be used to end an infinite loop, or to force it to end before its natural end. For example, let's stop the countdown before its natural end:"
   ]
  },
  {
   "cell_type": "code",
   "execution_count": 285,
   "id": "d4838e30-6ea0-42ef-af04-7eb7806d7a38",
   "metadata": {
    "tags": []
   },
   "outputs": [
    {
     "name": "stdout",
     "output_type": "stream",
     "text": [
      "10, 9, 8, 7, 6, 5, 4, 3, countdown aborted!"
     ]
    }
   ],
   "source": [
    "for (int n=10; n>0; n--){\n",
    "    cout << n << \", \";\n",
    "    if (n==3){\n",
    "        cout << \"countdown aborted!\";\n",
    "        break;\n",
    "    }\n",
    "}"
   ]
  },
  {
   "cell_type": "markdown",
   "id": "41e706a7-adc3-4dc3-a5e3-5dd4c284638e",
   "metadata": {},
   "source": [
    "### The continue statement\n",
    "\n",
    "The continue statement causes the program to skip the rest of the loop in the current iteration, as if the end of the statement block had been reached, causing it to jump to the start of the following iteration. For example, let's skip number 5 in our countdown:"
   ]
  },
  {
   "cell_type": "code",
   "execution_count": 286,
   "id": "0cf5cb20-7e25-46c1-be4e-5672ee76a2aa",
   "metadata": {
    "tags": []
   },
   "outputs": [
    {
     "name": "stdout",
     "output_type": "stream",
     "text": [
      "10, 9, 8, 7, 6, 4, 3, 2, 1, liftoff!\n"
     ]
    }
   ],
   "source": [
    "for (int n=10; n>0; n--) {\n",
    "    if (n==5) continue;\n",
    "    cout << n << \", \";\n",
    "}\n",
    "cout << \"liftoff!\\n\";"
   ]
  },
  {
   "cell_type": "markdown",
   "id": "87b89149-35a7-4065-a744-3d797f58c81e",
   "metadata": {},
   "source": [
    "### The goto statement\n",
    "\n",
    "`goto` allows to make an absolute jump to another point in the program. This unconditional jump ignores nesting levels, and does not cause any automatic stack unwinding. Therefore, it is a feature to use with care, and preferably within the same block of statements, especially in the presence of local variables.\n",
    "The destination point is identified by a `label`, which is then used as an argument for the `goto` statement. _A label is made of a valid identifier followed by a colon (:)_.\n",
    "goto is generally deemed a low-level feature, with no particular use cases in modern higher-level programming paradigms generally used with C++. But, just as an example, here is a version of our countdown loop using goto:"
   ]
  },
  {
   "cell_type": "code",
   "execution_count": 287,
   "id": "1cfb4778-7cd6-41a0-91a4-580fd2dfde99",
   "metadata": {
    "tags": []
   },
   "outputs": [
    {
     "name": "stdout",
     "output_type": "stream",
     "text": [
      "10, 9, 8, 7, 6, 5, 4, 3, 2, 1, liftoff!\n"
     ]
    }
   ],
   "source": [
    "int n=10;\n",
    "mylabel:\n",
    "cout << n << \", \";\n",
    "n--;\n",
    "if (n>0) goto mylabel;\n",
    "cout << \"liftoff!\\n\";"
   ]
  },
  {
   "cell_type": "markdown",
   "id": "44179066-38a9-4a8e-887a-51721f490388",
   "metadata": {},
   "source": [
    "## switch, Another selection statement.\n",
    "\n",
    "The syntax of the switch statement is a bit peculiar. Its purpose is to check for a value among a number of possible constant expressions. It is something similar to concatenating if-else statements, but limited to constant expressions. Its most typical syntax is:\n",
    "    switch (expression)\n",
    "    {\n",
    "      case constant1:\n",
    "         group-of-statements-1;\n",
    "         break;\n",
    "      case constant2:\n",
    "         group-of-statements-2;\n",
    "         break;\n",
    "      .\n",
    "      .\n",
    "      .\n",
    "      default:\n",
    "         default-group-of-statements\n",
    "    }\n",
    "\n",
    "It works in the following way: switch evaluates expression and checks if it is equivalent to constant1; if it is, it executes group-of-statements-1 until it finds the break statement. When it finds this break statement, the program jumps to the end of the entire switch statement (the closing brace).\n",
    "If expression was not equal to constant1, it is then checked against constant2. If it is equal to this, it executes group-of-statements-2 until a break is found, when it jumps to the end of the switch.\n",
    "Finally, if the value of expression did not match any of the previously specified constants (there may be any number of these), the program executes the statements included after the default: label, if it exists (since it is optional).\n",
    "Both of the following code fragments have the same behavior, demonstrating the if-else equivalent of a switch statement:"
   ]
  },
  {
   "cell_type": "code",
   "execution_count": 375,
   "id": "5277cf36-f5c5-4618-be9f-50387d92ac99",
   "metadata": {
    "tags": []
   },
   "outputs": [
    {
     "name": "stdout",
     "output_type": "stream",
     "text": [
      "x is 1"
     ]
    }
   ],
   "source": [
    "int x = rand() % 3 + 1;\n",
    "switch (x) {\n",
    "  case 1:\n",
    "    cout << \"x is 1\";\n",
    "    break;\n",
    "  case 2:\n",
    "    cout << \"x is 2\";\n",
    "    break;\n",
    "  default:\n",
    "    cout << \"x is 3\";\n",
    "}"
   ]
  },
  {
   "cell_type": "code",
   "execution_count": 402,
   "id": "a691c3e1-2935-4565-9b26-4aebf011b6ae",
   "metadata": {
    "tags": []
   },
   "outputs": [
    {
     "name": "stdout",
     "output_type": "stream",
     "text": [
      "x is 2"
     ]
    }
   ],
   "source": [
    "int x = rand() % 3 + 1;\n",
    "if (x == 1) \n",
    "  cout << \"x is 1\";\n",
    "else if (x == 2)\n",
    "  cout << \"x is 2\";\n",
    "else \n",
    "  cout << \"x is 3\";"
   ]
  },
  {
   "cell_type": "markdown",
   "id": "6783e596-def4-483e-a0e4-a5a9e7316cf9",
   "metadata": {},
   "source": [
    "The switch statement has a somewhat peculiar syntax inherited from the early times of the first C compilers, because it uses labels instead of blocks. In the most typical use (shown above), this means that break statements are needed after each group of statements for a particular label. If break is not included, all statements following the case (including those under any other labels) are also executed, until the end of the switch block or a jump statement (such as break) is reached."
   ]
  },
  {
   "cell_type": "code",
   "execution_count": 442,
   "id": "6ba14e72-b74d-4c38-8f90-7bfad7d7bf04",
   "metadata": {
    "tags": []
   },
   "outputs": [
    {
     "name": "stdout",
     "output_type": "stream",
     "text": [
      "x is 1, 2 or 3"
     ]
    }
   ],
   "source": [
    "int x = rand() % 4 + 1;\n",
    "switch (x) {\n",
    "  case 1:\n",
    "  case 2:\n",
    "  case 3:\n",
    "    cout << \"x is 1, 2 or 3\";\n",
    "    break;\n",
    "  default:\n",
    "    cout << \"x is not 1, 2 nor 3\";\n",
    "}"
   ]
  }
 ],
 "metadata": {
  "kernelspec": {
   "display_name": "C++17",
   "language": "C++17",
   "name": "xcpp17"
  },
  "language_info": {
   "codemirror_mode": "text/x-c++src",
   "file_extension": ".cpp",
   "mimetype": "text/x-c++src",
   "name": "c++",
   "version": "17"
  }
 },
 "nbformat": 4,
 "nbformat_minor": 5
}
