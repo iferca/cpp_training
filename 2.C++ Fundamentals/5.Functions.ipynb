{
 "cells": [
  {
   "cell_type": "code",
   "execution_count": 83,
   "id": "176deb45-b9de-4aec-b378-40be6be1a602",
   "metadata": {
    "tags": []
   },
   "outputs": [],
   "source": [
    "#include <iostream>\n",
    "#include <string>\n",
    "#include <stdlib.h>\n",
    "\n",
    "using namespace std;"
   ]
  },
  {
   "cell_type": "markdown",
   "id": "375ae699-a5c5-4603-bdbb-fcdf7674fee7",
   "metadata": {},
   "source": [
    "# Functions\n",
    "\n",
    "In C++, a function is a group of statements that is given a name, and which can be called from some point of the program. The most common syntax to define a function is:\n",
    "\n",
    "    type name ( parameter1, parameter2, ...) { statements }\n",
    "\n",
    "Where:\n",
    "- type is the type of the value returned by the function.\n",
    "- name is the identifier by which the function can be called.\n",
    "- parameters (as many as needed): Each parameter consists of a type followed by an identifier, with each parameter being separated from the next by a comma. Each parameter looks very much like a regular variable declaration (for example: int x), and in fact acts within the function as a regular variable which is local to the function. The purpose of parameters is to allow passing arguments to the function from the location where it is called from.\n",
    "- statements is the function's body. It is a block of statements surrounded by braces { } that specify what the function actually does.\n",
    "\n",
    "Let's have a look at an example:"
   ]
  },
  {
   "cell_type": "code",
   "execution_count": 21,
   "id": "4326fb87-beb3-4aa5-8894-6dafdf4c3609",
   "metadata": {
    "tags": []
   },
   "outputs": [],
   "source": [
    "int addition (int a, int b){\n",
    "  return a+b;\n",
    "}"
   ]
  },
  {
   "cell_type": "code",
   "execution_count": 22,
   "id": "b80305a9-d478-49f6-a389-e6479dd1c43f",
   "metadata": {
    "tags": []
   },
   "outputs": [
    {
     "name": "stdout",
     "output_type": "stream",
     "text": [
      "The result is 8"
     ]
    }
   ],
   "source": [
    "z = addition (5,3);\n",
    "cout << \"The result is \" << z;"
   ]
  },
  {
   "cell_type": "markdown",
   "id": "b173c773-3d51-41b4-8d9a-142c7bbdf294",
   "metadata": {},
   "source": [
    "![function_argumests_value](../static/img/function_arguments.png)\n",
    "\n",
    "This program is divided in two functions: addition and main. Remember that no matter the order in which they are defined, a C++ program always starts by calling main. In fact, main is the only function called automatically, and the code in any other function is only executed if its function is called from main (directly or indirectly).\n",
    "\n",
    "Function call are statements that are evaluated to the return value, if any, of the function:\n",
    "\n",
    "![function_return_value](../static/img/function_return_value.png)"
   ]
  },
  {
   "cell_type": "code",
   "execution_count": 24,
   "id": "f5a0620f-e0ae-4e75-9196-447a4da5305a",
   "metadata": {
    "tags": []
   },
   "outputs": [
    {
     "name": "stdout",
     "output_type": "stream",
     "text": [
      "10"
     ]
    }
   ],
   "source": [
    "a=5, b=3;\n",
    "z = addition(a, b) + 2; //same as 8+2\n",
    "cout << z;"
   ]
  },
  {
   "cell_type": "markdown",
   "id": "52db57a9-3a8a-4f3c-afdd-3fa8b5d73e3f",
   "metadata": {},
   "source": [
    "## Functions with no type. The use of void\n",
    "The syntax shown above for functions:\n",
    "\n",
    "    type name ( argument1, argument2 ...) { statements }\n",
    "\n",
    "Requires the declaration to begin with a type. This is the type of the value returned by the function. But what if the function does not need to return a value? In this case, the type to be used is `void`, which is a special type to represent the absence of value. For example, a function that simply prints a message may not need to return any value:"
   ]
  },
  {
   "cell_type": "code",
   "execution_count": 25,
   "id": "faabb3bb-3b72-4899-9eae-feab1af6edde",
   "metadata": {
    "tags": []
   },
   "outputs": [],
   "source": [
    "void printmessage ()\n",
    "{\n",
    "  cout << \"I'm a function!\";\n",
    "}"
   ]
  },
  {
   "cell_type": "markdown",
   "id": "9375b475-63d1-4ed0-ac1d-e189f56c9e8b",
   "metadata": {},
   "source": [
    "void can also be used in the function's parameter list to explicitly specify that the function takes no actual parameters when called. For example, printmessage could have been declared as:"
   ]
  },
  {
   "cell_type": "code",
   "execution_count": 27,
   "id": "fb5ca89f-cbec-4927-a04c-2e5e9b28836e",
   "metadata": {
    "tags": []
   },
   "outputs": [],
   "source": [
    "void printmessage (void)\n",
    "{\n",
    "  cout << \"I'm a function!\";\n",
    "}"
   ]
  },
  {
   "cell_type": "markdown",
   "id": "69559ce9-f9a0-430d-84a1-fa13ce0c49bf",
   "metadata": {},
   "source": [
    "In C++, an empty parameter list can be used instead of void with same meaning, but the use of void in the argument list was popularized by the C language, where this is a requirement.\n",
    "Something that in no case is optional are the parentheses that follow the function name, neither in its declaration nor when calling it. And even when the function takes no parameters, at least an empty pair of parentheses shall always be appended to the function name."
   ]
  },
  {
   "cell_type": "code",
   "execution_count": 28,
   "id": "ce952087-ca12-44e0-ac8c-1eab9125d989",
   "metadata": {
    "tags": []
   },
   "outputs": [
    {
     "name": "stdout",
     "output_type": "stream",
     "text": [
      "I'm a function!"
     ]
    }
   ],
   "source": [
    "printmessage();"
   ]
  },
  {
   "cell_type": "markdown",
   "id": "4488f9bb-f448-4db8-9d9d-f3b0d94b0765",
   "metadata": {},
   "source": [
    "The parentheses are what differentiate functions from other kinds of declarations or statements. The following would not call the function:"
   ]
  },
  {
   "cell_type": "code",
   "execution_count": 31,
   "id": "2cce0a19-cb9d-459a-9c1a-fd784e59db2a",
   "metadata": {
    "tags": []
   },
   "outputs": [],
   "source": [
    "printmessage;"
   ]
  },
  {
   "cell_type": "markdown",
   "id": "57d12a88-9340-489b-8fd3-723e50dfd797",
   "metadata": {},
   "source": [
    "## The return value of main\n",
    "\n",
    "You may have noticed that the return type of main is int, but most examples in this and earlier chapters did not actually return any value from main.\n",
    "Well, there is a catch: If the execution of main ends normally without encountering a return statement the compiler assumes the function ends with an implicit return statement:\n",
    "\n",
    "```cpp\n",
    "return 0; \n",
    "```\n",
    "\n",
    "Note that this only applies to function main for historical reasons. All other functions with a return type shall end with a proper return statement that includes a return value, even if this is never used.\n",
    "When main returns zero (either implicitly or explicitly), it is interpreted by the environment as that the program ended successfully. Other values may be returned by main, and some environments give access to that value to the caller in some way, although this behavior is not required nor necessarily portable between platforms."
   ]
  },
  {
   "cell_type": "markdown",
   "id": "db5aeda1-960c-44c4-95d3-99f92ec9d885",
   "metadata": {},
   "source": [
    "## Arguments passed by value and by reference\n",
    "\n",
    "In the functions seen earlier, arguments have always been passed _by value_. This means that, when calling a function, what is passed to the function are the values of these arguments on the moment of the call, which are copied into the variables represented by the function parameters. For example, take:"
   ]
  },
  {
   "cell_type": "code",
   "execution_count": 32,
   "id": "314b54dc-925d-42ab-9e93-52353da72783",
   "metadata": {
    "tags": []
   },
   "outputs": [],
   "source": [
    "int x=5, y=3, z;\n",
    "z = addition (x, y);"
   ]
  },
  {
   "cell_type": "markdown",
   "id": "66976eeb-8818-45aa-afdf-bbaac9ab73c6",
   "metadata": {},
   "source": [
    "In this case, function addition is passed 5 and 3, which are copies of the values of x and y, respectively. These values (5 and 3) are used to initialize the variables set as parameters in the function's definition, but any modification of these variables within the function has no effect on the values of the variables x and y outside it, because x and y were themselves not passed to the function on the call, but only copies of their values at that moment.\n",
    "\n",
    "In certain cases, though, it may be useful to access an external variable from within a function. To do that, arguments can be passed by reference, instead of by value. For example, the function duplicate in this code duplicates the value of its three arguments, causing the variables used as arguments to actually be modified by the call:"
   ]
  },
  {
   "cell_type": "code",
   "execution_count": 39,
   "id": "76ae7a0b-efd1-4040-8a90-142f1666f5ec",
   "metadata": {
    "tags": []
   },
   "outputs": [],
   "source": [
    "void duplicate (int& a, int& b, int& c)\n",
    "{\n",
    "    a*=2;\n",
    "    b*=2;\n",
    "    c*=2;\n",
    "}"
   ]
  },
  {
   "cell_type": "code",
   "execution_count": 43,
   "id": "f34cf739-e625-4205-b15f-6f3e3fa2d53b",
   "metadata": {
    "tags": []
   },
   "outputs": [
    {
     "name": "stdout",
     "output_type": "stream",
     "text": [
      "x=2\n",
      "y=4\n",
      "z=6\n"
     ]
    }
   ],
   "source": [
    "int x=1, y=2, z=3;\n",
    "duplicate(x, y, z);\n",
    "cout << \"x=\" << x << endl;\n",
    "cout << \"y=\" << y << endl;\n",
    "cout << \"z=\" << z << endl;"
   ]
  },
  {
   "cell_type": "markdown",
   "id": "32650aa9-d5fb-4658-bfde-d03769d289d4",
   "metadata": {},
   "source": [
    "To gain access to its arguments, the function declares its parameters as references. In C++, references are indicated with an ampersand (&) following the parameter type, as in the parameters taken by duplicate in the example above.\n",
    "When a variable is passed by reference, what is passed is no longer a copy, but the variable itself, the variable identified by the function parameter, becomes somehow associated with the argument passed to the function, and any modification on their corresponding local variables within the function are reflected in the variables passed as arguments in the call.\n",
    "\n",
    "\n",
    "![function_argumests_reference](../static/img/function_by_reference.png)"
   ]
  },
  {
   "cell_type": "markdown",
   "id": "abf6b9ef-f446-4f64-9940-6a28dc09f669",
   "metadata": {},
   "source": [
    "## Efficiency considerations and const references\n",
    "\n",
    "Calling a function with parameters taken by value causes copies of the values to be made. This is a relatively inexpensive operation for fundamental types such as int, but if the parameter is of a large compound type, it may result on certain overhead. For example, consider the following function:"
   ]
  },
  {
   "cell_type": "code",
   "execution_count": 45,
   "id": "a36c55b8-18a3-445d-915d-85afeb50ea06",
   "metadata": {
    "tags": []
   },
   "outputs": [],
   "source": [
    "string concatenate (string a, string b)\n",
    "{\n",
    "  return a+b;\n",
    "}"
   ]
  },
  {
   "cell_type": "markdown",
   "id": "69c9fe31-0703-4d5f-970d-0be8a7700496",
   "metadata": {},
   "source": [
    "This function takes two strings as parameters (by value), and returns the result of concatenating them. By passing the arguments by value, the function forces a and b to be copies of the arguments passed to the function when it is called. And if these are long strings, it may mean copying large quantities of data just for the function call.\n",
    "But this copy can be avoided altogether if both parameters are made references:"
   ]
  },
  {
   "cell_type": "code",
   "execution_count": 46,
   "id": "2533d104-6c3b-488e-a472-0f70b6337700",
   "metadata": {
    "tags": []
   },
   "outputs": [],
   "source": [
    "string concatenate (string& a, string& b)\n",
    "{\n",
    "  return a+b;\n",
    "}"
   ]
  },
  {
   "cell_type": "markdown",
   "id": "deb45777-87c1-4efd-98aa-fe191a9a3055",
   "metadata": {},
   "source": [
    "Arguments by reference do not require a copy. The function operates directly on (aliases of) the strings passed as arguments, and, at most, it might mean the transfer of certain pointers to the function. In this regard, the version of concatenate taking references is more efficient than the version taking values, since it does not need to copy expensive-to-copy strings.\n",
    "\n",
    "On the flip side, functions with reference parameters are generally perceived as functions that modify the arguments passed, because that is why reference parameters are actually for.\n",
    "The solution is for the function to guarantee that its reference parameters are not going to be modified by this function. This can be done by qualifying the parameters as constant:"
   ]
  },
  {
   "cell_type": "code",
   "execution_count": 47,
   "id": "49e60252-389b-4538-bf82-700cf82b7aa0",
   "metadata": {
    "tags": []
   },
   "outputs": [],
   "source": [
    "string concatenate (const string& a, const string& b)\n",
    "{\n",
    "  return a+b;\n",
    "}"
   ]
  },
  {
   "cell_type": "markdown",
   "id": "f61a0686-5023-4d10-8b33-0eedddaf712b",
   "metadata": {},
   "source": [
    "By qualifying them as const, the function is forbidden to modify the values of neither a nor b, but can actually access their values as references (aliases of the arguments), without having to make actual copies of the strings.\n",
    "Therefore, const references provide functionality similar to passing arguments by value, but with an increased efficiency for parameters of large types. That is why they are extremely popular in C++ for arguments of compound types. Note though, that for most fundamental types, there is no noticeable difference in efficiency, and in some cases, const references may even be less efficient!"
   ]
  },
  {
   "cell_type": "markdown",
   "id": "a6f06a39-5706-4c4d-a9cb-04f4090671dd",
   "metadata": {},
   "source": [
    "## Inline functions\n",
    "\n",
    "Calling a function generally causes a certain overhead (stacking arguments, jumps, etc...), and thus for very short functions, it may be more efficient to simply insert the code of the function where it is called, instead of performing the process of formally calling a function.\n",
    "Preceding a function declaration with the inline specifier informs the compiler that inline expansion is preferred over the usual function call mechanism for a specific function. This does not change at all the behavior of a function, but is merely used to suggest the compiler that the code generated by the function body shall be inserted at each point the function is called, instead of being invoked with a regular function call.\n",
    "For example, the concatenate function above may be declared inline as:"
   ]
  },
  {
   "cell_type": "code",
   "execution_count": 48,
   "id": "ff5b6f72-a63f-453d-8943-20f6fb246fb5",
   "metadata": {
    "tags": []
   },
   "outputs": [],
   "source": [
    "inline string concatenate (const string& a, const string& b)\n",
    "{\n",
    "  return a+b;\n",
    "}"
   ]
  },
  {
   "cell_type": "markdown",
   "id": "da6df62f-0755-498d-94e5-9ebf3e526975",
   "metadata": {},
   "source": [
    "This informs the compiler that when concatenate is called, the program prefers the function to be expanded inline, instead of performing a regular call. inline is only specified in the function declaration, not when it is called.\n",
    "Note that most compilers already optimize code to generate inline functions when they see an opportunity to improve efficiency, even if not explicitly marked with the inline specifier. Therefore, this specifier merely indicates the compiler that inline is preferred for this function, although the compiler is free to not inline it, and optimize otherwise. In C++, optimization is a task delegated to the compiler, which is free to generate any code for as long as the resulting behavior is the one specified by the code."
   ]
  },
  {
   "cell_type": "markdown",
   "id": "dec90d91-8344-401c-b53a-8685ff6f4701",
   "metadata": {},
   "source": [
    "## Default values in parameters\n",
    "\n",
    "Let's imagine we need to create some library to perform certain calculations that involve dividing number, some times the divisor is not know, but most of the time is 2. You could think on creating these two functions: "
   ]
  },
  {
   "cell_type": "code",
   "execution_count": 74,
   "id": "5ae37740-89bc-4bf7-9f1c-784e86adc7eb",
   "metadata": {
    "tags": []
   },
   "outputs": [],
   "source": [
    "int divide(int a, int b){\n",
    "    return a/b;\n",
    "}"
   ]
  },
  {
   "cell_type": "code",
   "execution_count": 73,
   "id": "7ea05334-c09c-42ce-8106-a0aedf6b37ce",
   "metadata": {
    "tags": []
   },
   "outputs": [],
   "source": [
    "int divide(int a){\n",
    "    return a/2;\n",
    "}"
   ]
  },
  {
   "cell_type": "markdown",
   "id": "5caa75bf-ae8b-4f67-bd74-5d78e0d9fded",
   "metadata": {},
   "source": [
    "This way users of the library could not pass the second argument when it is expected to be 2."
   ]
  },
  {
   "cell_type": "code",
   "execution_count": 75,
   "id": "27752041-0714-49e5-a45c-53d5702ede06",
   "metadata": {
    "tags": []
   },
   "outputs": [
    {
     "name": "stdout",
     "output_type": "stream",
     "text": [
      "2"
     ]
    }
   ],
   "source": [
    "cout << divide(14, 5);"
   ]
  },
  {
   "cell_type": "code",
   "execution_count": 76,
   "id": "d3e9bb4c-a010-49fe-885a-768ba47a86c9",
   "metadata": {
    "tags": []
   },
   "outputs": [
    {
     "name": "stdout",
     "output_type": "stream",
     "text": [
      "7"
     ]
    }
   ],
   "source": [
    "cout << divide(14);"
   ]
  },
  {
   "cell_type": "markdown",
   "id": "27b8f71c-c5c0-49dd-a9f5-68b489076bbe",
   "metadata": {},
   "source": [
    "In C++, functions can also have optional parameters, for which no arguments are required in the call, in such a way that, for example, a function with three parameters may be called with only two. For this, the function shall include a default value for its last parameter, which is used by the function when called with fewer arguments. For example:"
   ]
  },
  {
   "cell_type": "code",
   "execution_count": 77,
   "id": "012867dc-355c-4b9e-9ac2-1dd8ec6b1454",
   "metadata": {
    "tags": []
   },
   "outputs": [],
   "source": [
    "int divide1(int a, int b=2){\n",
    "    return a/b;\n",
    "}"
   ]
  },
  {
   "cell_type": "code",
   "execution_count": 78,
   "id": "90660eb8-649b-4076-871d-f9b1be5cf6f7",
   "metadata": {
    "tags": []
   },
   "outputs": [
    {
     "name": "stdout",
     "output_type": "stream",
     "text": [
      "2"
     ]
    }
   ],
   "source": [
    "cout << divide1(14, 5);"
   ]
  },
  {
   "cell_type": "code",
   "execution_count": 79,
   "id": "f374d74b-614f-478d-ad1c-d36958804895",
   "metadata": {
    "tags": []
   },
   "outputs": [
    {
     "name": "stdout",
     "output_type": "stream",
     "text": [
      "7"
     ]
    }
   ],
   "source": [
    "cout << divide1(14);"
   ]
  },
  {
   "cell_type": "markdown",
   "id": "9bf62a27-6433-4c6a-927b-f671d6fab597",
   "metadata": {},
   "source": [
    "## Declaring functions\n",
    "\n",
    "In C++, identifiers can only be used in expressions once they have been declared. For example, some variable x cannot be used before being declared with a statement, such as:\n",
    "\n",
    "```cpp\n",
    "int x;\n",
    "```\n",
    "\n",
    "The same applies to functions. Functions cannot be called before they are declared. That is why, the functions must always be defined before the main function, which is the function from where the other functions were called. If main were defined before the other functions, this would break the rule that functions shall be declared before being used, and thus would not compile.\n",
    "\n",
    "__The prototype of a function can be declared without actually defining the function completely__, giving just enough details to allow the types involved in a function call to be known. Naturally, the function shall be defined somewhere else, like later in the code. But at least, once declared like this, it can already be called.\n",
    "The declaration shall include all types involved (the return type and the type of its arguments), using the same syntax as used in the definition of the function, but replacing the body of the function (the block of statements) with an ending semicolon.\n",
    "The parameter list does not need to include the parameter names, but only their types. Parameter names can nevertheless be specified, but they are optional, and do not need to necessarily match those in the function definition. For example, a function called protofunction with two int parameters can be declared with either of these statements:"
   ]
  },
  {
   "cell_type": "code",
   "execution_count": 80,
   "id": "1aaf129b-b507-41a5-b52c-e8df468a7f5d",
   "metadata": {
    "tags": []
   },
   "outputs": [],
   "source": [
    "int protofunction (int first, int second);"
   ]
  },
  {
   "cell_type": "code",
   "execution_count": 81,
   "id": "1173884b-9ce9-4215-98ef-91433c493844",
   "metadata": {
    "tags": []
   },
   "outputs": [],
   "source": [
    "int protofunction (int, int);"
   ]
  },
  {
   "cell_type": "markdown",
   "id": "f5f9960c-54d9-479e-91fe-aed55923330d",
   "metadata": {},
   "source": [
    "Anyway, including a name for each parameter always improves legibility of the declaration."
   ]
  },
  {
   "cell_type": "markdown",
   "id": "9f5f525c-8d8a-464a-ba55-3e04bfe70c0f",
   "metadata": {},
   "source": [
    "## Recursivity\n",
    "\n",
    "Recursivity is the property that functions have to be called by themselves. It is useful for some tasks, such as sorting elements, or calculating the factorial of numbers. For example, in order to obtain the factorial of a number (n!) the mathematical formula would be:\n",
    "\n",
    "    n! = n * (n-1) * (n-2) * (n-3) ... * 1 \n",
    "\n",
    "More concretely, 5! (factorial of 5) would be:\n",
    "\n",
    "    5! = 5 * 4 * 3 * 2 * 1 = 120 \n",
    "    \n",
    "And a recursive function to calculate this in C++ could be:"
   ]
  },
  {
   "cell_type": "code",
   "execution_count": 104,
   "id": "dfb9a785-c3c2-496e-a675-5841eeb20216",
   "metadata": {
    "tags": []
   },
   "outputs": [],
   "source": [
    "int factorial (int a)\n",
    "{\n",
    "    if (a > 1)\n",
    "        return (a * factorial (a-1));\n",
    "    else\n",
    "        return 1;\n",
    "}"
   ]
  },
  {
   "cell_type": "code",
   "execution_count": 107,
   "id": "bc08b18a-b4cb-4bc5-a292-53a13e7beb25",
   "metadata": {
    "tags": []
   },
   "outputs": [
    {
     "name": "stdout",
     "output_type": "stream",
     "text": [
      "120"
     ]
    }
   ],
   "source": [
    "int number = 5;\n",
    "cout << factorial (number);"
   ]
  },
  {
   "cell_type": "markdown",
   "id": "157a03ad-4663-42f2-84e5-f4b8ac54a3a4",
   "metadata": {},
   "source": [
    "Notice how in function factorial we included a call to itself, but only if the argument passed was greater than 1, since, otherwise, the function would perform an infinite recursive loop, in which once it arrived to 0, it would continue multiplying by all the negative numbers (probably provoking a stack overflow at some point during runtime)."
   ]
  },
  {
   "cell_type": "markdown",
   "id": "34541ab4-8f8d-457f-be09-384e83d31f95",
   "metadata": {},
   "source": [
    "## Overloads and templates\n",
    "### Overloaded functions\n",
    "In C++, two different functions can have the same name if their parameters are different; either because they have a different number of parameters, or because any of their parameters are of a different type. For example: "
   ]
  },
  {
   "cell_type": "code",
   "execution_count": 111,
   "id": "7bd68a89-e9c1-467d-ae7f-344285fbe6bd",
   "metadata": {
    "tags": []
   },
   "outputs": [],
   "source": [
    "int operate (int a, int b)\n",
    "{\n",
    "  return (a*b);\n",
    "}"
   ]
  },
  {
   "cell_type": "code",
   "execution_count": 122,
   "id": "62709cee-e3bd-4389-84dd-1093c75a85f4",
   "metadata": {
    "tags": []
   },
   "outputs": [],
   "source": [
    "double operate (double a, double b)\n",
    "{\n",
    "  return (a/b);\n",
    "}"
   ]
  },
  {
   "cell_type": "code",
   "execution_count": 120,
   "id": "03fec0b5-f8b0-4796-bfba-898b531f5803",
   "metadata": {
    "tags": []
   },
   "outputs": [
    {
     "name": "stdout",
     "output_type": "stream",
     "text": [
      "2\n"
     ]
    }
   ],
   "source": [
    "int x=5,y=2;\n",
    "cout << operate (x,y) << '\\n';"
   ]
  },
  {
   "cell_type": "code",
   "execution_count": 121,
   "id": "2d906f00-fb96-4d65-9b26-fd854b5748bb",
   "metadata": {
    "tags": []
   },
   "outputs": [
    {
     "name": "stdout",
     "output_type": "stream",
     "text": [
      "2.5\n"
     ]
    }
   ],
   "source": [
    "double n=5.0,m=2.0;\n",
    "cout << operate (n,m) << '\\n';"
   ]
  },
  {
   "cell_type": "markdown",
   "id": "258c6346-9218-40e8-a547-5b3f52d46e77",
   "metadata": {},
   "source": [
    "The compiler knows which one to call in each case by examining the types passed as arguments when the function is called. If it is called with two int arguments, it calls to the function that has two int parameters, and if it is called with two doubles, it calls the one with two doubles.\n",
    "In this example, both functions have quite different behaviors, the int version multiplies its arguments, while the double version divides them. This is generally not a good idea. Two functions with the same name are generally expected to have -at least- a similar behavior, but this example demonstrates that is entirely possible for them not to. Two overloaded functions (i.e., two functions with the same name) have entirely different definitions; they are, for all purposes, different functions, that only happen to have the same name.\n",
    "\n",
    ">Note that a function cannot be overloaded only by its return type. At least one of its parameters must have a different type."
   ]
  },
  {
   "cell_type": "markdown",
   "id": "5dc66c8f-e1fe-430f-a724-00f2f92a777b",
   "metadata": {},
   "source": [
    "### Function templates\n",
    "\n",
    "Overloaded functions may have the same definition, as discussed before. For example:"
   ]
  },
  {
   "cell_type": "code",
   "execution_count": 124,
   "id": "13500e3f-589d-4c52-a574-97d366a849f8",
   "metadata": {
    "tags": []
   },
   "outputs": [],
   "source": [
    "int sum (int a, int b)\n",
    "{\n",
    "  return a+b;\n",
    "}"
   ]
  },
  {
   "cell_type": "code",
   "execution_count": 125,
   "id": "1e1a147b-f631-4d0e-bed8-9fbcee1010e1",
   "metadata": {
    "tags": []
   },
   "outputs": [],
   "source": [
    "double sum (double a, double b)\n",
    "{\n",
    "  return a+b;\n",
    "}"
   ]
  },
  {
   "cell_type": "markdown",
   "id": "42f768c3-6d02-42dc-8d3d-9b299d8e99d3",
   "metadata": {},
   "source": [
    "Here, sum is overloaded with different parameter types, but with the exact same body.\n",
    "\n",
    "The function sum could be overloaded for a lot of types, and it could make sense for all of them to have the same body. For cases such as this, C++ has the ability to define functions with generic types, known as function templates. Defining a function template follows the same syntax as a regular function, except that it is preceded by the template keyword and a series of template parameters enclosed in angle-brackets <>:\n",
    "\n",
    "    template <template-parameters> function-declaration \n",
    "    \n",
    "The template parameters are a series of parameters separated by commas. These parameters can be generic template types by specifying either the class or typename keyword followed by an identifier. This identifier can then be used in the function declaration as if it was a regular type. For example, a generic sum function could be defined as:"
   ]
  },
  {
   "cell_type": "code",
   "execution_count": 126,
   "id": "07be61f2-21ec-4065-84c7-ea7f7fe90675",
   "metadata": {
    "tags": []
   },
   "outputs": [],
   "source": [
    "template <class T>\n",
    "T sum (T a, T b)\n",
    "{\n",
    "  return a+b;\n",
    "}"
   ]
  },
  {
   "cell_type": "markdown",
   "id": "bcbca638-3808-4a2b-a381-d58cfc9d4899",
   "metadata": {},
   "source": [
    "It makes no difference whether the generic type is specified with keyword class or keyword typename in the template argument list (they are 100% synonyms in template declarations)."
   ]
  },
  {
   "cell_type": "code",
   "execution_count": 142,
   "id": "c447a8e5-b442-4d73-a606-656562f3eeb0",
   "metadata": {
    "tags": []
   },
   "outputs": [],
   "source": [
    "template <typename T>\n",
    "T sum (T a, T b)\n",
    "{\n",
    "    T result;\n",
    "    result = a + b;\n",
    "    return result;\n",
    "}"
   ]
  },
  {
   "cell_type": "markdown",
   "id": "21c4518f-310c-4b7f-863f-c515e92651d4",
   "metadata": {},
   "source": [
    "Declaring `T` (a generic type within the template parameters enclosed in angle-brackets) allows `T` to be used anywhere in the function definition, just as any other type; it can be used as the type for parameters, as return type, or to declare new variables of this type. In all cases, it represents a generic type that will be determined on the moment the template is instantiated.\n",
    "\n",
    "Instantiating a template is applying the template to create a function using particular types or values for its template parameters. This is done by calling the function template, with the same syntax as calling a regular function, but specifying the template arguments enclosed in angle brackets:\n",
    "\n",
    "    name <template-arguments> (function-arguments)\n",
    "    \n",
    "For example, the sum function template defined above can be called with:"
   ]
  },
  {
   "cell_type": "code",
   "execution_count": 136,
   "id": "e93d585c-83a2-41e1-ada4-e8e8af9ab0f3",
   "metadata": {
    "tags": []
   },
   "outputs": [
    {
     "name": "stdout",
     "output_type": "stream",
     "text": [
      "30"
     ]
    }
   ],
   "source": [
    "auto x = sum<int>(10,20);\n",
    "cout << x;"
   ]
  },
  {
   "cell_type": "markdown",
   "id": "989a3a81-79dd-423d-adee-a389b7ef5a1d",
   "metadata": {},
   "source": [
    "The function sum<int> is just one of the possible instantiations of function template sum. In this case, by using int as template argument in the call, the compiler automatically instantiates a version of sum where each occurrence of SomeType is replaced by int, as if it was defined as:\n",
    "    \n",
    "```cpp\n",
    "int sum (int a, int b)\n",
    "{\n",
    "  return a+b;\n",
    "}\n",
    "```"
   ]
  },
  {
   "cell_type": "code",
   "execution_count": 141,
   "id": "e952d2ca-b536-463d-bb34-ef3612e0ec60",
   "metadata": {
    "tags": []
   },
   "outputs": [
    {
     "name": "stdout",
     "output_type": "stream",
     "text": [
      "11\n",
      "2.5\n"
     ]
    }
   ],
   "source": [
    "int i=5, j=6, k;\n",
    "double f=2.0, g=0.5, h;\n",
    "\n",
    "k=sum<int>(i,j);\n",
    "h=sum<double>(f,g);\n",
    "\n",
    "cout << k << endl;\n",
    "cout << h << endl;"
   ]
  },
  {
   "cell_type": "markdown",
   "id": "d17d8c4a-1c3a-4dab-9864-c6ad8dc28fd8",
   "metadata": {},
   "source": [
    "It is possible to instead simply write:"
   ]
  },
  {
   "cell_type": "code",
   "execution_count": 147,
   "id": "bfcf458b-81e3-4e84-b701-62e92a54be5a",
   "metadata": {
    "tags": []
   },
   "outputs": [
    {
     "name": "stdout",
     "output_type": "stream",
     "text": [
      "11"
     ]
    }
   ],
   "source": [
    "k = sum(i, j);\n",
    "\n",
    "cout << k;"
   ]
  },
  {
   "cell_type": "markdown",
   "id": "fa7ee85a-df13-4cc3-973d-f50b0de2f3ce",
   "metadata": {},
   "source": [
    "without the type enclosed in angle brackets. Naturally, for that, the type shall be unambiguous. If sum is called with arguments of different types, the compiler may not be able to deduce the type of T automatically.\n",
    "\n",
    "Templates are a powerful and versatile feature. They can have multiple template parameters, and the function can still use regular non-templated types. For example:"
   ]
  },
  {
   "cell_type": "code",
   "execution_count": 148,
   "id": "d3a5fcee-b8b5-4328-b2d4-a36c2da593a4",
   "metadata": {
    "tags": []
   },
   "outputs": [],
   "source": [
    "template <class T, class U>\n",
    "bool are_equal (T a, U b)\n",
    "{\n",
    "  return (a==b);\n",
    "}"
   ]
  },
  {
   "cell_type": "code",
   "execution_count": 150,
   "id": "7c325448-48c0-4fb4-85ba-df9d0e2126fd",
   "metadata": {
    "tags": []
   },
   "outputs": [
    {
     "name": "stdout",
     "output_type": "stream",
     "text": [
      "x and y are equal\n"
     ]
    }
   ],
   "source": [
    "if (are_equal(10,10.0))\n",
    "    cout << \"x and y are equal\\n\";\n",
    "else\n",
    "    cout << \"x and y are not equal\\n\";"
   ]
  },
  {
   "cell_type": "markdown",
   "id": "d4de1975-2dbe-469a-95bb-5e1260f98055",
   "metadata": {},
   "source": [
    "Note that this example uses automatic template parameter deduction in the call to are_equal:\n",
    "\n",
    "```cpp\n",
    "are_equal(10,10.0)\n",
    "```\n",
    "\n",
    "Is equivalent to:\n",
    "\n",
    "```cpp\n",
    "are_equal<int,double>(10,10.0)\n",
    "```\n",
    "\n",
    "There is no ambiguity possible because numerical literals are always of a specific type: Unless otherwise specified with a suffix, integer literals always produce values of type int, and floating-point literals always produce values of type double. Therefore 10 has always type int and 10.0 has always type double."
   ]
  },
  {
   "cell_type": "markdown",
   "id": "2a878349-458f-40be-8382-868d4a5a2273",
   "metadata": {},
   "source": [
    "### Non-type template arguments\n",
    "The template parameters can not only include types introduced by class or typename, but can also include expressions of a particular type:"
   ]
  },
  {
   "cell_type": "code",
   "execution_count": 152,
   "id": "c7e48418-8a28-41f4-9cdc-4b1326a78886",
   "metadata": {
    "tags": []
   },
   "outputs": [],
   "source": [
    "template <class T, int N>\n",
    "T fixed_multiply (T val)\n",
    "{\n",
    "  return val * N;\n",
    "}"
   ]
  },
  {
   "cell_type": "code",
   "execution_count": 153,
   "id": "20e9805f-8534-470b-ae1c-100489641d7c",
   "metadata": {
    "tags": []
   },
   "outputs": [
    {
     "name": "stdout",
     "output_type": "stream",
     "text": [
      "20"
     ]
    }
   ],
   "source": [
    "cout << fixed_multiply<int,2>(10);"
   ]
  },
  {
   "cell_type": "code",
   "execution_count": 154,
   "id": "35c9e4cb-4c11-4f9f-8c30-2469f78ef2fc",
   "metadata": {
    "tags": []
   },
   "outputs": [
    {
     "name": "stdout",
     "output_type": "stream",
     "text": [
      "30"
     ]
    }
   ],
   "source": [
    "cout << fixed_multiply<int,3>(10);"
   ]
  },
  {
   "cell_type": "markdown",
   "id": "8e2f9197-14bc-4e97-9c70-29a7b8afd7a2",
   "metadata": {},
   "source": [
    "The second argument of the fixed_multiply function template is of type int. It just looks like a regular function parameter, and can actually be used just like one.\n",
    "\n",
    "But there exists a major difference: the value of template parameters is determined on compile-time to generate a different instantiation of the function fixed_multiply, and thus the value of that argument is never passed during runtime: The two calls to fixed_multiply in main essentially call two versions of the function: one that always multiplies by two, and one that always multiplies by three. For that same reason, the second template argument needs to be a constant expression (it cannot be passed a variable)."
   ]
  }
 ],
 "metadata": {
  "kernelspec": {
   "display_name": "C++17",
   "language": "C++17",
   "name": "xcpp17"
  },
  "language_info": {
   "codemirror_mode": "text/x-c++src",
   "file_extension": ".cpp",
   "mimetype": "text/x-c++src",
   "name": "c++",
   "version": "17"
  }
 },
 "nbformat": 4,
 "nbformat_minor": 5
}
