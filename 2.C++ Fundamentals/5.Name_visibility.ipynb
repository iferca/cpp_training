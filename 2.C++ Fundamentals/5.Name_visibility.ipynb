{
 "cells": [
  {
   "cell_type": "code",
   "execution_count": 1,
   "id": "c2be7f4d-975b-4dbb-ae3f-bfb7bbe3e366",
   "metadata": {
    "tags": []
   },
   "outputs": [],
   "source": [
    "#include <iostream>\n",
    "\n",
    "using namespace std;"
   ]
  },
  {
   "cell_type": "markdown",
   "id": "7cad0d1b-2597-4ee1-9ff0-f9041b1f3456",
   "metadata": {},
   "source": [
    "# Name visibility\n",
    "## Scopes\n",
    "Named entities, such as variables, functions, and compound types need to be declared before being used in C++. \n",
    "\n",
    "The point in the program where this declaration happens influences its visibility:\n",
    "* an entity declared outside any block has global scope, meaning that its name is valid anywhere in the code. \n",
    "* while an entity declared within a block, such as a function or a selective statement, has block scope, and is only visible within the specific block in which it is declared, but not outside it.\n",
    "* variables with block scope are known as local variables.\n",
    "\n",
    "For example, a variable declared in the body of a function is a local variable that extends until the end of the the function (i.e., until the brace } that closes the function definition), but not outside it:\n",
    "\n",
    "```cpp\n",
    "int foo;        // global variable\n",
    "\n",
    "int some_function ()\n",
    "{\n",
    "  int bar;      // local variable\n",
    "  bar = 0;\n",
    "}\n",
    "\n",
    "int other_function ()\n",
    "{\n",
    "  foo = 1;  // ok: foo is a global variable\n",
    "  bar = 2;  // wrong: bar is not visible from this function\n",
    "}\n",
    "```\n",
    "\n",
    "In each scope, a name can only represent one entity. For example, there cannot be two variables with the same name in the same scope:\n",
    "\n",
    "```cpp\n",
    "int some_function ()\n",
    "{\n",
    "  int x;\n",
    "  x = 0;\n",
    "  double x;   // wrong: name already used in this scope\n",
    "  x = 0.0;\n",
    "}\n",
    "```\n",
    "\n",
    "The visibility of an entity with block scope extends until the end of the block, including inner blocks. Nevertheless, an inner block, because it is a different block, can re-utilize a name existing in an outer scope to refer to a different entity; in this case, the name will refer to a different entity only within the inner block, hiding the entity it names outside. While outside it, it will still refer to the original entity. For example:\n",
    "\n"
   ]
  },
  {
   "cell_type": "code",
   "execution_count": 2,
   "id": "046a4744-0cf2-46ca-8fd7-4e62089516ff",
   "metadata": {
    "tags": []
   },
   "outputs": [
    {
     "name": "stdout",
     "output_type": "stream",
     "text": [
      "inner block:\n",
      "50\n",
      "50\n",
      "outer block:\n",
      "10\n",
      "50\n"
     ]
    }
   ],
   "source": [
    "int x = 10;\n",
    "int y = 20;\n",
    "{\n",
    "    int x;   // ok, inner scope.\n",
    "    x = 50;  // sets value to inner x\n",
    "    y = 50;  // sets value to (outer) y\n",
    "    cout << \"inner block:\\n\";\n",
    "    cout << x << endl;\n",
    "    cout << y << endl;\n",
    "}\n",
    "cout << \"outer block:\\n\";\n",
    "cout << x << endl;\n",
    "cout << y << endl;"
   ]
  },
  {
   "cell_type": "markdown",
   "id": "0629be70-2b2a-4e10-828b-9b70fc49e825",
   "metadata": {},
   "source": [
    "Variables declared in declarations that introduce a block, such as function parameters and variables declared in loops and conditions (such as those declared on a for or an if) are local to the block they introduce."
   ]
  },
  {
   "cell_type": "markdown",
   "id": "8e42a498-689b-4931-a6f7-6aa7f3b21208",
   "metadata": {},
   "source": [
    "## Namespaces\n",
    "\n",
    "Namespaces allow us to group named entities that otherwise would have global scope into narrower scopes, giving them namespace scope. This allows organizing the elements of programs into different logical scopes referred to by names.\n",
    "The syntax to declare a namespaces is:\n",
    "\n",
    "    namespace identifier\n",
    "    {\n",
    "      named_entities\n",
    "    }\n",
    "\n",
    "Where identifier is any valid identifier and named_entities is the set of variables, types and functions that are included within the namespace. For example:"
   ]
  },
  {
   "cell_type": "code",
   "execution_count": 3,
   "id": "6bf3fe25-861d-44a9-ab07-49e37b6a9715",
   "metadata": {
    "tags": []
   },
   "outputs": [],
   "source": [
    "namespace myNamespace\n",
    "{\n",
    "  int a, b;\n",
    "}"
   ]
  },
  {
   "cell_type": "markdown",
   "id": "589584b4-0ae9-41cd-86e9-6341c7b63665",
   "metadata": {},
   "source": [
    "These variables can be accessed from within their namespace normally, with their identifier (either a or b), but if accessed from outside the myNamespace namespace they have to be properly qualified with the scope operator ::. For example, to access the previous variables from outside myNamespace they should be qualified like:"
   ]
  },
  {
   "cell_type": "code",
   "execution_count": 4,
   "id": "d9e3645e-aa78-4b96-a961-5e553f5f5d2e",
   "metadata": {
    "tags": []
   },
   "outputs": [],
   "source": [
    "myNamespace::a;\n",
    "myNamespace::b;"
   ]
  },
  {
   "cell_type": "markdown",
   "id": "02eb3a21-57ea-466c-b83c-c17991b66d9d",
   "metadata": {},
   "source": [
    "Namespaces are particularly useful to avoid name collisions. For example:"
   ]
  },
  {
   "cell_type": "code",
   "execution_count": 5,
   "id": "ecabd33d-6db4-49fa-bdde-1490faf704b8",
   "metadata": {
    "tags": []
   },
   "outputs": [],
   "source": [
    "namespace foo\n",
    "{\n",
    "  int value() { return 5; }\n",
    "}\n",
    "\n",
    "namespace bar\n",
    "{\n",
    "  const double pi = 3.1416;\n",
    "  double value() { return 2*pi; }\n",
    "}"
   ]
  },
  {
   "cell_type": "code",
   "execution_count": 6,
   "id": "6cb98a19-4d1b-42a6-a8bf-1ef79fd5f430",
   "metadata": {
    "tags": []
   },
   "outputs": [
    {
     "name": "stdout",
     "output_type": "stream",
     "text": [
      "5\n"
     ]
    }
   ],
   "source": [
    "cout << foo::value() << '\\n';"
   ]
  },
  {
   "cell_type": "code",
   "execution_count": 7,
   "id": "44c280c9-c9db-45c2-b558-689235ab113e",
   "metadata": {
    "tags": []
   },
   "outputs": [
    {
     "name": "stdout",
     "output_type": "stream",
     "text": [
      "6.2832\n"
     ]
    }
   ],
   "source": [
    "cout << bar::value() << '\\n';"
   ]
  },
  {
   "cell_type": "code",
   "execution_count": 8,
   "id": "860cd96e-212e-4149-bbc4-a27ccdfa56d6",
   "metadata": {
    "tags": []
   },
   "outputs": [
    {
     "name": "stdout",
     "output_type": "stream",
     "text": [
      "3.1416\n"
     ]
    }
   ],
   "source": [
    "cout << bar::pi << '\\n';"
   ]
  },
  {
   "cell_type": "markdown",
   "id": "e0a7e979-447e-4faf-8b08-02e7a620e93f",
   "metadata": {},
   "source": [
    "Namespaces can be split: Two segments of a code can be declared in the same namespace:"
   ]
  },
  {
   "cell_type": "code",
   "execution_count": 9,
   "id": "a0baf416-668b-4ab9-92e8-5b5ef151942b",
   "metadata": {
    "tags": []
   },
   "outputs": [],
   "source": [
    "namespace foo { int a; }\n",
    "namespace bar { int b; }\n",
    "namespace foo { int c; }"
   ]
  },
  {
   "cell_type": "markdown",
   "id": "dd43a5ec-ec67-491d-86f5-dcc01cdbee41",
   "metadata": {},
   "source": [
    "### The keyword using\n",
    "The keyword using introduces a name into the current declarative region (such as a block), thus avoiding the need to qualify the name. For example:\n",
    "\n",
    "```cpp\n",
    "namespace first\n",
    "{\n",
    "  int o = 5;\n",
    "  int p = 10;\n",
    "}\n",
    "\n",
    "namespace second\n",
    "{\n",
    "  double o = 3.1416;\n",
    "  double p = 2.7183;\n",
    "}\n",
    "\n",
    "using first::p;\n",
    "using second::p;\n",
    "cout << o << '\\n';\n",
    "cout << p << '\\n';\n",
    "cout << first::p << '\\n';\n",
    "cout << second::o << '\\n';\n",
    "```\n",
    "\n",
    "The keyword using can also be used as a directive to introduce an entire namespace:\n",
    "\n",
    "```cpp\n",
    "namespace first\n",
    "{\n",
    "  int x = 5;\n",
    "  int y = 10;\n",
    "}\n",
    "\n",
    "namespace second\n",
    "{\n",
    "  double x = 3.1416;\n",
    "  double y = 2.7183;\n",
    "}\n",
    "\n",
    "using namespace first;\n",
    "cout << x << '\\n';\n",
    "cout << y << '\\n';\n",
    "cout << second::x << '\\n';\n",
    "cout << second::y << '\\n';\n",
    "```\n",
    "\n",
    "`using` and `using namespace` have validity only in the same block in which they are stated or in the entire source code file if they are used directly in the global scope. For example, it would be possible to first use the objects of one namespace and then those of another one by splitting the code in different blocks:\n",
    "\n",
    "```cpp\n",
    "namespace first\n",
    "{\n",
    "  int x = 5;\n",
    "}\n",
    "\n",
    "namespace second\n",
    "{\n",
    "  double x = 3.1416;\n",
    "}\n",
    "\n",
    "{\n",
    "    using namespace first;\n",
    "    cout << x << '\\n';\n",
    "}\n",
    "{\n",
    "    using namespace second;\n",
    "    cout << x << '\\n';\n",
    "}\n",
    "```\n",
    "\n",
    "Namespace aliasing\n",
    "Existing namespaces can be aliased with new names, with the following syntax:\n",
    "\n",
    "     namespace new_name = current_name;\n",
    "     \n"
   ]
  }
 ],
 "metadata": {
  "kernelspec": {
   "display_name": "C++17",
   "language": "C++17",
   "name": "xcpp17"
  },
  "language_info": {
   "codemirror_mode": "text/x-c++src",
   "file_extension": ".cpp",
   "mimetype": "text/x-c++src",
   "name": "c++",
   "version": "17"
  }
 },
 "nbformat": 4,
 "nbformat_minor": 5
}
