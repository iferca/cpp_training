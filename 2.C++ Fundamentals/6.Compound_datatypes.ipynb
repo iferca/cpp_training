{
 "cells": [
  {
   "cell_type": "code",
   "execution_count": 57,
   "id": "2eb7a44c-c1b6-418d-9813-d13c737b96e7",
   "metadata": {
    "tags": []
   },
   "outputs": [],
   "source": [
    "#include <iostream>\n",
    "#include <array>\n",
    "\n",
    "using namespace std;"
   ]
  },
  {
   "cell_type": "markdown",
   "id": "f2ec8a8f-f938-4ab9-8f28-cad5d1df5ecc",
   "metadata": {},
   "source": [
    "# Compound data types\n",
    "## Arrays\n",
    "An array is a series of elements of the same type placed in contiguous memory locations that can be individually referenced by adding an index to a unique identifier.\n",
    "\n",
    "That means that, for example, five values of type int can be declared as an array without having to declare 5 different variables (each with its own identifier). Instead, using an array, the five int values are stored in contiguous memory locations, and all five can be accessed using the same identifier, with the proper index.\n",
    "For example, an array containing 5 integer values of type int called foo could be represented as:\n",
    "\n",
    "![array1](../static/img/arrays1.png)\n",
    "\n",
    "where each blank panel represents an element of the array. In this case:\n",
    "\n",
    "* these are values of type int. \n",
    "* these elements are numbered from 0 to 4, being 0 the first and 4 the last; In C++, the first element in an array is always numbered with a zero (not a one), no matter its length.\n",
    "\n",
    "Like a regular variable, an array must be declared before it is used. A typical declaration for an array in C++ is:\n",
    "\n",
    "    type name [elements];\n",
    "    \n",
    "where type is a valid type (such as int, float...), name is a valid identifier and the elements field (which is always enclosed in square brackets []), specifies the length of the array in terms of the number of elements.\n",
    "Therefore, the foo array, with five elements of type int, can be declared as:\n",
    "\n",
    "```cpp\n",
    "int foo [5];\n",
    "```\n",
    "\n",
    ">NOTE: The elements field within square brackets [], representing the number of elements in the array, must be a constant expression, since arrays are blocks of static memory whose size must be determined at compile time, before the program runs.\n",
    "\n",
    "### Initializing arrays\n",
    "By default, regular arrays of local scope (for example, those declared within a function) are left uninitialized. This means that none of its elements are set to any particular value; their contents are undetermined at the point the array is declared.\n",
    "But the elements in an array can be explicitly initialized to specific values when it is declared, by enclosing those initial values in braces {}. For example:"
   ]
  },
  {
   "cell_type": "code",
   "execution_count": 2,
   "id": "0799f268-6d92-4471-9c56-2cd1ff8ddcac",
   "metadata": {
    "tags": []
   },
   "outputs": [],
   "source": [
    "int foo [5] = { 16, 2, 77, 40, 12071 };"
   ]
  },
  {
   "cell_type": "markdown",
   "id": "525a24ba-3315-414a-b65b-4c530780ae24",
   "metadata": {},
   "source": [
    "![array2](../static/img/arrays2.png)\n",
    "\n",
    "The number of values between braces {} shall not be greater than the number of elements in the array. For example, in the example above, foo was declared having 5 elements (as specified by the number enclosed in square brackets, []), and the braces {} contained exactly 5 values, one for each element. If declared with less, the remaining elements are set to their default values (which for fundamental types, means they are filled with zeroes). For example:"
   ]
  },
  {
   "cell_type": "code",
   "execution_count": 3,
   "id": "d1a91afa-6cd9-47fb-b0cc-2781635781d1",
   "metadata": {
    "tags": []
   },
   "outputs": [],
   "source": [
    "int bar [5] = { 10, 20, 30 };"
   ]
  },
  {
   "cell_type": "markdown",
   "id": "be1a551a-1d94-4c46-a64a-09fb9f5d9d77",
   "metadata": {},
   "source": [
    "Will create an array like this:\n",
    "\n",
    "![array3](../static/img/arrays3.png)\n",
    "\n",
    "The initializer can even have no values, just the braces:"
   ]
  },
  {
   "cell_type": "code",
   "execution_count": 4,
   "id": "87e1bf28-6cd8-48c9-999d-c9edff220771",
   "metadata": {
    "tags": []
   },
   "outputs": [],
   "source": [
    "int baz [5] = { };"
   ]
  },
  {
   "cell_type": "markdown",
   "id": "c0b1e94b-845f-411b-96b2-74ffeb0feb19",
   "metadata": {},
   "source": [
    "This creates an array of five int values, each initialized with a value of zero:\n",
    "\n",
    "![array4](../static/img/arrays4.png)\n",
    "\n",
    "When an initialization of values is provided for an array, C++ allows the possibility of leaving the square brackets empty []. In this case, the compiler will assume automatically a size for the array that matches the number of values included between the braces {}:"
   ]
  },
  {
   "cell_type": "code",
   "execution_count": 5,
   "id": "60d2e0bc-6481-4c7c-a532-3f71b0a4ddf0",
   "metadata": {
    "tags": []
   },
   "outputs": [],
   "source": [
    "int foo [] = { 16, 2, 77, 40, 12071 };"
   ]
  },
  {
   "cell_type": "markdown",
   "id": "7d9fb771-20ca-42f3-b1b7-f465e5f7fd5a",
   "metadata": {},
   "source": [
    "After this declaration, array foo would be 5 int long, since we have provided 5 initialization values.\n",
    "\n",
    "Finally, the evolution of C++ has led to the adoption of universal initialization also for arrays. Therefore, there is no longer need for the equal sign between the declaration and the initializer. Both these statements are equivalent:"
   ]
  },
  {
   "cell_type": "code",
   "execution_count": 6,
   "id": "b1854d35-d2fa-41c2-aba2-fae64bf8d56c",
   "metadata": {
    "tags": []
   },
   "outputs": [],
   "source": [
    "int foo[] = { 10, 20, 30 };"
   ]
  },
  {
   "cell_type": "code",
   "execution_count": 7,
   "id": "5f6c12f0-687b-4a0f-880e-e0371cc57a41",
   "metadata": {
    "tags": []
   },
   "outputs": [],
   "source": [
    "int foo[] { 10, 20, 30 };"
   ]
  },
  {
   "cell_type": "markdown",
   "id": "3f8d7a05-7742-470b-b61a-94ea2ea69367",
   "metadata": {},
   "source": [
    "Accessing the values of an array\n",
    "The values of any of the elements in an array can be accessed just like the value of a regular variable of the same type. The syntax is:\n",
    "\n",
    "    name[index] \n",
    "\n",
    "Following the previous examples in which foo had 5 elements and each of those elements was of type int, the name which can be used to refer to each element is the following:\n",
    "\n",
    "![array5](../static/img/arrays5.png)\n",
    "\n",
    "For example, the following statement stores the value 75 in the third element of foo:"
   ]
  },
  {
   "cell_type": "code",
   "execution_count": 8,
   "id": "59bb7167-dd57-4393-8abb-e9385b9a7d04",
   "metadata": {
    "tags": []
   },
   "outputs": [],
   "source": [
    "foo [2] = 75;"
   ]
  },
  {
   "cell_type": "markdown",
   "id": "d58fe543-da42-4b00-a69e-d6b334d23394",
   "metadata": {},
   "source": [
    "and, for example, the following copies the value of the third element of foo to a variable called x:"
   ]
  },
  {
   "cell_type": "code",
   "execution_count": 11,
   "id": "7aca3409-7e74-47eb-8d3b-43426d5ed54a",
   "metadata": {
    "tags": []
   },
   "outputs": [],
   "source": [
    "int x = foo[2];"
   ]
  },
  {
   "cell_type": "markdown",
   "id": "11e4cb56-d935-42ba-a791-348bc48afb63",
   "metadata": {},
   "source": [
    "In C++, it is syntactically correct to exceed the valid range of indices for an array. This can create problems, since accessing out-of-range elements do not cause errors on compilation, but can cause errors on runtime. The reason for this being allowed will be seen in a later chapter when pointers are introduced.\n",
    "\n",
    "At this point, it is important to be able to clearly distinguish between the two uses that brackets [] have related to arrays. They perform two different tasks: one is to specify the size of arrays when they are declared; and the second one is to specify indices for concrete array elements when they are accessed. Do not confuse these two possible uses of brackets [] with arrays."
   ]
  },
  {
   "cell_type": "code",
   "execution_count": 15,
   "id": "c4bbb649-c6f2-4f07-a1aa-5829d72cf4a9",
   "metadata": {
    "tags": []
   },
   "outputs": [
    {
     "data": {
      "text/plain": [
       "75"
      ]
     },
     "execution_count": 15,
     "metadata": {},
     "output_type": "execute_result"
    }
   ],
   "source": [
    "int foo[5];         // declaration of a new array\n",
    "foo[2] = 75;        // access to an element of the array."
   ]
  },
  {
   "cell_type": "markdown",
   "id": "7c032ae6-a73a-46ed-8820-764035d7c527",
   "metadata": {},
   "source": [
    "Some other valid operations with arrays:\n",
    "\n",
    "```cpp\n",
    "foo[0] = a;\n",
    "foo[a] = 75;\n",
    "b = foo [a+2];\n",
    "foo[foo[a]] = foo[2] + 5;\n",
    "```\n",
    "\n",
    "for example:"
   ]
  },
  {
   "cell_type": "code",
   "execution_count": 16,
   "id": "36e9c531-1010-4b0b-ab17-90123bd511ae",
   "metadata": {
    "tags": []
   },
   "outputs": [
    {
     "name": "stdout",
     "output_type": "stream",
     "text": [
      "12206"
     ]
    }
   ],
   "source": [
    "int foo [] = {16, 2, 77, 40, 12071};\n",
    "int n, result=0;\n",
    "\n",
    "for ( n=0 ; n<5 ; ++n )\n",
    "{\n",
    "    result += foo[n];\n",
    "}\n",
    "cout << result;"
   ]
  },
  {
   "cell_type": "markdown",
   "id": "ca2141ae-8e2a-4ef0-bdca-5af720b88ba8",
   "metadata": {},
   "source": [
    "### Multidimensional arrays\n",
    "Multidimensional arrays can be described as \"arrays of arrays\". For example, a bidimensional array can be imagined as a two-dimensional table made of elements, all of them of a same uniform data type.\n",
    "\n",
    "![multi_array1](../static/img/bidimensional_arrays1.png)\n",
    "\n",
    "jimmy represents a bidimensional array of 3 per 5 elements of type int. The C++ syntax for this is:"
   ]
  },
  {
   "cell_type": "code",
   "execution_count": 17,
   "id": "4a4bbd85-25f7-4110-8dbd-fe30fe80612d",
   "metadata": {
    "tags": []
   },
   "outputs": [],
   "source": [
    "int jimmy [3][5];"
   ]
  },
  {
   "cell_type": "markdown",
   "id": "7e9bf3a6-0722-422e-8e33-4371d12f2ed1",
   "metadata": {},
   "source": [
    "and, for example, the way to reference the second element vertically and fourth horizontally in an expression would be:"
   ]
  },
  {
   "cell_type": "code",
   "execution_count": 18,
   "id": "d685b57e-e1fe-48f4-983e-e2b49a432839",
   "metadata": {
    "tags": []
   },
   "outputs": [],
   "source": [
    "jimmy[1][3];"
   ]
  },
  {
   "cell_type": "markdown",
   "id": "74455c7c-8b46-49ab-932c-d01585418132",
   "metadata": {},
   "source": [
    "![multi_array2](../static/img/bidimensional_arrays2.png)\n",
    "\n",
    "Multidimensional arrays are not limited to two indices (i.e., two dimensions). They can contain as many indices as needed. Although be careful: the amount of memory needed for an array increases exponentially with each dimension. For example:\n",
    "\n",
    "```cpp\n",
    "char century [100][365][24][60][60];\n",
    "```\n",
    "\n",
    "declares an array with an element of type char for each second in a century. This amounts to more than 3 billion char! So this declaration would consume more than 3 gigabytes of memory!\n",
    "\n",
    "At the end, multidimensional arrays are just an abstraction for programmers, since the same results can be achieved with a simple array, by multiplying its indices:"
   ]
  },
  {
   "cell_type": "code",
   "execution_count": 20,
   "id": "8fea8188-0291-4ff1-8b87-be0a6f975b4b",
   "metadata": {
    "tags": []
   },
   "outputs": [],
   "source": [
    "int jimmy [3][5];"
   ]
  },
  {
   "cell_type": "code",
   "execution_count": 21,
   "id": "07077566-2d8e-43f1-8d6a-1331949d183a",
   "metadata": {
    "tags": []
   },
   "outputs": [],
   "source": [
    "int jimmy [15];"
   ]
  },
  {
   "cell_type": "markdown",
   "id": "7b3250fd-5b1d-4f79-a994-a0e2698fff77",
   "metadata": {},
   "source": [
    "With the only difference that with multidimensional arrays, the compiler automatically remembers the depth of each imaginary dimension. The following two pieces of code produce the exact same result, but one uses a bidimensional array while the other uses a simple array: "
   ]
  },
  {
   "cell_type": "code",
   "execution_count": 29,
   "id": "d62521fb-ae63-4b25-969b-90748c093f15",
   "metadata": {
    "tags": []
   },
   "outputs": [],
   "source": [
    "#define WIDTH 5\n",
    "#define HEIGHT 3\n",
    "\n",
    "int n,m;"
   ]
  },
  {
   "cell_type": "code",
   "execution_count": 30,
   "id": "fecafdd2-00af-4f8f-82b8-72ec4d9cb00b",
   "metadata": {
    "tags": []
   },
   "outputs": [],
   "source": [
    "//using multi-dimensional array\n",
    "int jimmy [HEIGHT][WIDTH];\n",
    "\n",
    "for (n=0; n < HEIGHT; n++)\n",
    "    for (m=0; m < WIDTH; m++)\n",
    "      jimmy[n][m]=(n+1)*(m+1);"
   ]
  },
  {
   "cell_type": "code",
   "execution_count": 31,
   "id": "bbf58c50-a7d3-4a63-b652-bf3cfae06860",
   "metadata": {
    "tags": []
   },
   "outputs": [],
   "source": [
    "//using pseudo-multidimensional array\n",
    "int jimmy [HEIGHT * WIDTH];\n",
    "\n",
    "for (n=0; n < HEIGHT; n++)\n",
    "    for (m=0; m < WIDTH; m++)\n",
    "      jimmy[n*WIDTH+m]=(n+1)*(m+1);"
   ]
  },
  {
   "cell_type": "code",
   "execution_count": 33,
   "id": "b30696d6-4b6c-4dd4-9fe9-692b083111e4",
   "metadata": {
    "tags": []
   },
   "outputs": [
    {
     "name": "stdout",
     "output_type": "stream",
     "text": [
      "0\n",
      "1\n",
      "2\n",
      "3\n",
      "4\n",
      "5\n",
      "6\n",
      "7\n",
      "8\n",
      "9\n",
      "10\n",
      "11\n",
      "12\n",
      "13\n",
      "14\n"
     ]
    }
   ],
   "source": [
    "for (n=0; n < HEIGHT; n++)\n",
    "    for (m=0; m < WIDTH; m++)\n",
    "      cout << n*WIDTH+m << endl;"
   ]
  },
  {
   "cell_type": "markdown",
   "id": "41ca4c55-5e42-4083-8fa7-de6b3be64c7b",
   "metadata": {},
   "source": [
    "### Arrays as parameters\n",
    "At some point, we may need to pass an array to a function as a parameter. In C++, it is not possible to pass the entire block of memory represented by an array to a function directly as an argument. But what can be passed instead is its address. In practice, this has almost the same effect, and it is a much faster and more efficient operation.\n",
    "To accept an array as parameter for a function, the parameters can be declared as the array type, but with empty brackets, omitting the actual size of the array. For example:\n",
    "\n",
    "```cpp\n",
    "void procedure (int arg[])\n",
    "```\n",
    "\n",
    "This function accepts a parameter of type \"array of int\" called arg. In order to pass to this function an array declared as:\n",
    "\n",
    "```cpp\n",
    "int myarray [40];\n",
    "```\n",
    "\n",
    "it would be enough to write a call like this:\n",
    "\n",
    "```cpp\n",
    "procedure (myarray);\n",
    "```\n",
    "\n",
    "Here you have a complete example: "
   ]
  },
  {
   "cell_type": "code",
   "execution_count": 40,
   "id": "98629265-8299-439a-ace0-6ba85fc63890",
   "metadata": {
    "tags": []
   },
   "outputs": [
    {
     "name": "stdout",
     "output_type": "stream",
     "text": [
      "5 10 15 \n",
      "2 4 6 8 10 \n"
     ]
    }
   ],
   "source": [
    "void printarray (int arg[], int length) {\n",
    "  for (int n=0; n<length; ++n)\n",
    "    cout << arg[n] << ' ';\n",
    "  cout << endl;\n",
    "}\n",
    "\n",
    "int firstarray[] = {5, 10, 15};\n",
    "int secondarray[] = {2, 4, 6, 8, 10};\n",
    "printarray (firstarray,3);\n",
    "printarray (secondarray,5);"
   ]
  },
  {
   "cell_type": "markdown",
   "id": "f7535c8a-bbee-4f70-9ed2-f095328cfeab",
   "metadata": {},
   "source": [
    "### Library arrays\n",
    "The arrays explained above are directly implemented as a language feature, inherited from the C language. They are a great feature, but by restricting its copy and easily decay into pointers, they probably suffer from an excess of optimization.\n",
    "To overcome some of these issues with language built-in arrays, C++ provides an alternative array type as a standard container. It is a type template (a class template, in fact) defined in header `<array>`.\n",
    "\n",
    "Containers are a library feature that falls out of the scope of this manual, and thus the class will not be explained in detail here. Suffice it to say that they operate in a similar way to built-in arrays, except that they allow being copied (an actually expensive operation that copies the entire block of memory, and thus to use with care) and decay into pointers only when explicitly told to do so (by means of its member data).\n",
    "Just as an example, these are two versions of the same example using the language built-in array described in this chapter, and the container in the library:"
   ]
  },
  {
   "cell_type": "code",
   "execution_count": 44,
   "id": "6b096334-1084-4303-a4a0-90b7a60c806d",
   "metadata": {
    "tags": []
   },
   "outputs": [
    {
     "name": "stdout",
     "output_type": "stream",
     "text": [
      "11\n",
      "21\n",
      "31\n"
     ]
    }
   ],
   "source": [
    "//using built-in array\n",
    "#include <iostream>\n",
    "\n",
    "using namespace std;\n",
    "\n",
    "int myarray[3] = {10,20,30};\n",
    "\n",
    "for (int i=0; i < 3; ++i)\n",
    "    ++myarray[i];\n",
    "\n",
    "for (int elem : myarray)\n",
    "    cout << elem << endl;"
   ]
  },
  {
   "cell_type": "code",
   "execution_count": 47,
   "id": "09912654-d929-4703-87cb-f6569559bcaa",
   "metadata": {
    "tags": []
   },
   "outputs": [
    {
     "name": "stdout",
     "output_type": "stream",
     "text": [
      "11\n",
      "21\n",
      "31\n"
     ]
    }
   ],
   "source": [
    "#include <iostream>\n",
    "#include <array>\n",
    "\n",
    "using namespace std;\n",
    "\n",
    "array <int,3> myarray {10,20,30};\n",
    "\n",
    "for (int i=0; i < myarray.size(); ++i)\n",
    "    ++myarray[i];\n",
    "\n",
    "for (int elem : myarray)\n",
    "    cout << elem << endl;"
   ]
  },
  {
   "cell_type": "markdown",
   "id": "8b5f4619-c58a-4266-9f26-341c9642d9f4",
   "metadata": {},
   "source": [
    "## Character sequences\n",
    "The string class has been briefly introduced in an earlier chapter. It is a very powerful class to handle and manipulate strings of characters. However, because strings are, in fact, sequences of characters, we can represent them also as plain arrays of elements of a character type.\n",
    "For example, the following array:"
   ]
  },
  {
   "cell_type": "code",
   "execution_count": 48,
   "id": "fd10654f-1097-4c52-b3c9-15772b2d7e78",
   "metadata": {
    "tags": []
   },
   "outputs": [],
   "source": [
    "char foo [20];"
   ]
  },
  {
   "cell_type": "markdown",
   "id": "4f6046ec-fdb1-40e9-b96a-a6362ad3124d",
   "metadata": {},
   "source": [
    "is an array that can store up to 20 elements of type char. It can be represented as:\n",
    "\n",
    "![c_strings1](../static/img/c_strings1.png)\n",
    "\n",
    "Therefore, this array has a capacity to store sequences of up to 20 characters. But this capacity does not need to be fully exhausted: the array can also accommodate shorter sequences. For example, at some point in a program, either the sequence \"Hello\" or the sequence \"Merry Christmas\" can be stored in foo, since both would fit in a sequence with a capacity for 20 characters.\n",
    "By convention, the end of strings represented in character sequences is signaled by a special character: the null character, whose literal value can be written as '\\0' (backslash, zero).\n",
    "In this case, the array of 20 elements of type char called foo can be represented storing the character sequences \"Hello\" and \"Merry Christmas\" as:\n",
    "\n",
    "![c_strings2](../static/img/c_strings2.png)\n",
    "\n",
    "Notice how after the content of the string itself, a null character ('\\0') has been added in order to indicate the end of the sequence. The panels in gray color represent char elements with undetermined values."
   ]
  },
  {
   "cell_type": "markdown",
   "id": "fec37f20-1472-4746-a33b-352de3ebbcc7",
   "metadata": {},
   "source": [
    "### Initialization of null-terminated character sequences\n",
    "Because arrays of characters are ordinary arrays, they follow the same rules as these. For example, to initialize an array of characters with some predetermined sequence of characters, we can do it just like any other array: "
   ]
  },
  {
   "cell_type": "code",
   "execution_count": 49,
   "id": "515469ed-8197-4e2e-a299-6c7ac8b77c44",
   "metadata": {
    "tags": []
   },
   "outputs": [],
   "source": [
    "char myword[] = { 'H', 'e', 'l', 'l', 'o', '\\0' };"
   ]
  },
  {
   "cell_type": "markdown",
   "id": "8310b8cd-ebca-44a3-90ab-95e80b65efaa",
   "metadata": {},
   "source": [
    "The above declares an array of 6 elements of type char initialized with the characters that form the word \"Hello\" plus a null character '\\0' at the end.\n",
    "But arrays of character elements have another way to be initialized: using string literals directly.\n",
    "In the expressions used in some examples in previous chapters, string literals have already shown up several times. These are specified by enclosing the text between double quotes (\"). For example: \n",
    "\n",
    "```cpp\n",
    "\"the result is: \"\n",
    "```\n",
    "\n",
    "Sequences of characters enclosed in double-quotes (\") are literal constants or string literals. And their type is, in fact, a null-terminated array of characters. This means that string literals always have a null character ('\\0') automatically appended at the end.\n",
    "Therefore, the array of char elements called myword can be initialized with a null-terminated sequence of characters by either one of these two statements:"
   ]
  },
  {
   "cell_type": "code",
   "execution_count": 50,
   "id": "1f9c5b15-06ee-47dc-99ce-93df8e7ba34a",
   "metadata": {
    "tags": []
   },
   "outputs": [],
   "source": [
    "char myword[] = { 'H', 'e', 'l', 'l', 'o', '\\0' };"
   ]
  },
  {
   "cell_type": "code",
   "execution_count": 51,
   "id": "fb95caea-38aa-4a1b-9d64-6b09fbfe4a37",
   "metadata": {
    "tags": []
   },
   "outputs": [],
   "source": [
    "char myword[] = \"Hello\";"
   ]
  },
  {
   "cell_type": "markdown",
   "id": "cee56d98-1bb0-4adf-9118-d1e60e210fb3",
   "metadata": {},
   "source": [
    "Please notice that here we are talking about initializing an array of characters at the moment it is being declared, and not about assigning values to them later (once they have already been declared). In fact, because string literals are regular arrays, they have the same restrictions as these, and cannot be assigned values.\n",
    "Expressions (once myword has already been declared as above), such as:\n",
    "\n",
    "```cpp\n",
    "myword = \"Bye\";\n",
    "myword[] = \"Bye\";\n",
    "```\n",
    "\n",
    "would __not__ be valid, like neither would be:\n",
    "\n",
    "```cpp\n",
    "myword = { 'B', 'y', 'e', '\\0' };\n",
    "```\n",
    "\n",
    "This is because arrays cannot be assigned values. Note, though, that each of its elements can be assigned a value individually. For example, this would be correct:\n",
    "\n",
    "```cpp\n",
    "myword[0] = 'B';\n",
    "myword[1] = 'y';\n",
    "myword[2] = 'e';\n",
    "myword[3] = '\\0';\n",
    "```"
   ]
  },
  {
   "cell_type": "markdown",
   "id": "ceaac292-4097-4603-83cb-bde5c767e734",
   "metadata": {},
   "source": [
    "### Strings and null-terminated character sequences\n",
    "\n",
    "Plain arrays with null-terminated sequences of characters are the typical types used in the C language to represent strings (that is why they are also known as C-strings). In C++, even though the standard library defines a specific type for strings (class string), still, plain arrays with null-terminated sequences of characters (C-strings) are a natural way of representing strings in the language; in fact, string literals still always produce null-terminated character sequences, and not string objects.\n",
    "In the standard library, both representations for strings (C-strings and library strings) coexist, and most functions requiring strings are overloaded to support both.\n",
    "For example, cin and cout support null-terminated sequences directly, allowing them to be directly extracted from cin or inserted into cout, just like strings.\n",
    "\n",
    "Null-terminated character sequences can be transformed into strings implicitly, and strings can be transformed into null-terminated character sequences by using either of string's member functions c_str or data:\n",
    "\n",
    "```cpp\n",
    "char myntcs[] = \"some text\";\n",
    "string mystring = myntcs;  // convert c-string to string\n",
    "cout << mystring;          // printed as a library string\n",
    "cout << mystring.c_str();  // printed as a c-string\n",
    "```"
   ]
  }
 ],
 "metadata": {
  "kernelspec": {
   "display_name": "C++17",
   "language": "C++17",
   "name": "xcpp17"
  },
  "language_info": {
   "codemirror_mode": "text/x-c++src",
   "file_extension": ".cpp",
   "mimetype": "text/x-c++src",
   "name": "c++",
   "version": "17"
  }
 },
 "nbformat": 4,
 "nbformat_minor": 5
}
