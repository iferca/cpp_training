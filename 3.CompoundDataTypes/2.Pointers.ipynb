{
 "cells": [
  {
   "cell_type": "code",
   "execution_count": 3,
   "id": "8800456b-26cc-41db-a2e5-a05652217e3b",
   "metadata": {
    "tags": []
   },
   "outputs": [],
   "source": [
    "#include <iostream>\n",
    "using namespace std;"
   ]
  },
  {
   "cell_type": "markdown",
   "id": "c76d5ae4-e174-4372-97cf-3651dac6e369",
   "metadata": {},
   "source": [
    "# Pointers\n",
    "\n",
    "For a C++ program, the memory of a computer is like a succession of memory cells, each one byte in size, and each with a unique address. These single-byte memory cells are ordered in a way that allows data representations larger than one byte to occupy memory cells that have consecutive addresses.\n",
    "This way, each cell can be easily located in the memory by means of its unique address. For example, the memory cell with the address 1776 always follows immediately after the cell with address 1775 and precedes the one with 1777, and is exactly one thousand cells after 776 and exactly one thousand cells before 2776.\n",
    "When a variable is declared, the memory needed to store its value is assigned a specific location in memory (its memory address). Generally, C++ programs do not actively decide the exact memory addresses where its variables are stored. Fortunately, that task is left to the environment where the program is run - generally, an operating system that decides the particular memory locations on runtime. However, it may be useful for a program to be able to obtain the address of a variable during runtime in order to access data cells that are at a certain position relative to it."
   ]
  },
  {
   "cell_type": "markdown",
   "id": "55d08780-7720-4a20-ae35-c8943b8b76c6",
   "metadata": {},
   "source": [
    "## Address-of operator (&)\n",
    "\n",
    "The address of a variable can be obtained by preceding the name of a variable with an ampersand sign (&), known as address-of operator. For example: \n",
    "```cpp\n",
    "foo = &myvar;\n",
    "```\n",
    "This would assign the address of variable myvar to foo; by preceding the name of the variable myvar with the address-of operator (&), we are no longer assigning the content of the variable itself to foo, but its address.\n",
    "The actual address of a variable in memory cannot be known before runtime, but let's assume, in order to help clarify some concepts, that myvar is placed during runtime in the memory address 1776.\n",
    "In this case, consider the following code fragment:\n",
    "```cpp\n",
    "myvar = 25;\n",
    "foo = &myvar;\n",
    "bar = myvar;\n",
    "```\n",
    "\n",
    "The values contained in each variable after the execution of this are shown in the following diagram: \n",
    "\n",
    "![reference_operator](../static/img/reference_operator.png)\n",
    "\n",
    "* First, we have assigned the value 25 to myvar (a variable whose address in memory we assumed to be 1776).\n",
    "\n",
    "* The second statement assigns foo the address of myvar, which we have assumed to be 1776.\n",
    "\n",
    "* Finally, the third statement, assigns the value contained in myvar to bar. This is a standard assignment operation, as already done many times in earlier chapters.\n",
    "\n",
    "The variable that stores the address of another variable (like foo in the previous example) is what in C++ is called a pointer. Pointers are a very powerful feature of the language that has many uses in lower level programming. A bit later, we will see how to declare and use pointers."
   ]
  },
  {
   "cell_type": "markdown",
   "id": "a5c49888-26fb-46b5-8713-cdc1eedd8840",
   "metadata": {},
   "source": [
    "## Dereference operator (\\*)\n",
    "\n",
    "As just seen, a variable which stores the address of another variable is called a pointer. Pointers are said to \"point to\" the variable whose address they store.\n",
    "An interesting property of pointers is that they can be used to access the variable they point to directly. This is done by preceding the pointer name with the dereference operator (\\*). The operator itself can be read as \"value pointed to by\".\n",
    "Therefore, following with the values of the previous example, the following statement: \n",
    "```cpp\n",
    "baz = *foo;\n",
    "```\n",
    "This could be read as: \"baz equal to value pointed to by foo\", and the statement would actually assign the value 25 to baz, since foo is 1776, and the value pointed to by 1776 (following the example above) would be 25.\n",
    "\n",
    "![dereference_operator](../static/img/dereference_operator.png)\n",
    "\n",
    "It is important to clearly differentiate that foo refers to the value 1776, while \\*foo (with an asterisk \\* preceding the identifier) refers to the value stored at address 1776, which in this case is 25. \n",
    "\n",
    "```cpp\n",
    "baz = foo;   // baz equal to foo (1776)\n",
    "baz = *foo;  // baz equal to value pointed to by foo (25)\n",
    "```\n",
    "\n",
    "The reference and dereference operators are thus complementary:\n",
    "\n",
    "    & is the address-of operator, and can be read simply as \"address of\"\n",
    "    * is the dereference operator, and can be read as \"value pointed to by\"\n"
   ]
  },
  {
   "cell_type": "code",
   "execution_count": 1,
   "id": "e60159a0-8a6b-4f4e-92cf-0952422df9d8",
   "metadata": {
    "tags": []
   },
   "outputs": [],
   "source": [
    "int myvar = 25;"
   ]
  },
  {
   "cell_type": "code",
   "execution_count": 4,
   "id": "9747a89d-5a9b-499e-a97d-87283bf630d5",
   "metadata": {
    "tags": []
   },
   "outputs": [
    {
     "name": "stdout",
     "output_type": "stream",
     "text": [
      "0x7f62666c102c"
     ]
    }
   ],
   "source": [
    "cout << &myvar;"
   ]
  },
  {
   "cell_type": "code",
   "execution_count": 5,
   "id": "fce3cb3f-e8f0-4fd2-a47d-e00bb1b3faf1",
   "metadata": {
    "tags": []
   },
   "outputs": [],
   "source": [
    "auto foo = &myvar;"
   ]
  },
  {
   "cell_type": "code",
   "execution_count": 6,
   "id": "491cc029-76b9-4280-977e-5c2c2344bc6a",
   "metadata": {
    "tags": []
   },
   "outputs": [
    {
     "name": "stdout",
     "output_type": "stream",
     "text": [
      "0x7f62666c102c"
     ]
    }
   ],
   "source": [
    "cout << foo;"
   ]
  },
  {
   "cell_type": "code",
   "execution_count": 7,
   "id": "8a706fbe-9c27-4853-980c-ff6b5f753437",
   "metadata": {
    "tags": []
   },
   "outputs": [
    {
     "name": "stdout",
     "output_type": "stream",
     "text": [
      "25"
     ]
    }
   ],
   "source": [
    "cout << *foo;"
   ]
  },
  {
   "cell_type": "markdown",
   "id": "c5506efa-66e1-4617-b1b8-0e59d82a5b59",
   "metadata": {},
   "source": [
    "## Declaring pointers\n",
    "Due to the ability of a pointer to directly refer to the value that it points to, a pointer has different properties when it points to a char than when it points to an int or a float. Once dereferenced, the type needs to be known. And for that, the declaration of a pointer needs to include the data type the pointer is going to point to.\n",
    "The declaration of pointers follows this syntax:\n",
    "\n",
    "    type * name; \n",
    "\n",
    "where type is the data type pointed to by the pointer. This type is not the type of the pointer itself, but the type of the data the pointer points to. For example:"
   ]
  },
  {
   "cell_type": "code",
   "execution_count": 8,
   "id": "0d8d05aa-b35e-418f-8b7e-d4fdad8c6db8",
   "metadata": {
    "tags": []
   },
   "outputs": [],
   "source": [
    "int * number;\n",
    "char * character;\n",
    "double * decimals;"
   ]
  },
  {
   "cell_type": "markdown",
   "id": "f7ba3b4a-b9ec-4d50-8ac5-a138d09f07e8",
   "metadata": {},
   "source": [
    "These are three declarations of pointers. Each one is intended to point to a different data type, but, in fact, all of them are pointers and all of them are likely going to occupy the same amount of space in memory (the size in memory of a pointer depends on the platform where the program runs). Nevertheless, the data to which they point to do not occupy the same amount of space nor are of the same type: the first one points to an int, the second one to a char, and the last one to a double. Therefore, although these three example variables are all of them pointers, they actually have different types: int*, char*, and double* respectively, depending on the type they point to.\n",
    "\n",
    "Note that the asterisk (\\*) used when declaring a pointer only means that it is a pointer (it is part of its type compound specifier), and should not be confused with the dereference operator seen a bit earlier, but which is also written with an asterisk (\\*). They are simply two different things represented with the same sign.\n",
    "\n",
    "Let's see an example on pointers:"
   ]
  },
  {
   "cell_type": "code",
   "execution_count": 10,
   "id": "0be4ae54-1add-49c7-aaf6-e1111bce6381",
   "metadata": {
    "tags": []
   },
   "outputs": [
    {
     "name": "stdout",
     "output_type": "stream",
     "text": [
      "firstvalue is 10\n",
      "secondvalue is 20\n"
     ]
    }
   ],
   "source": [
    "int firstvalue, secondvalue;\n",
    "int * mypointer;\n",
    "\n",
    "mypointer = &firstvalue;\n",
    "*mypointer = 10;\n",
    "\n",
    "mypointer = &secondvalue;\n",
    "*mypointer = 20;\n",
    "\n",
    "cout << \"firstvalue is \" << firstvalue << '\\n';\n",
    "cout << \"secondvalue is \" << secondvalue << '\\n';"
   ]
  },
  {
   "cell_type": "code",
   "execution_count": 11,
   "id": "8ecf293f-9701-4504-b2a6-cdf146602daf",
   "metadata": {
    "tags": []
   },
   "outputs": [
    {
     "name": "stdout",
     "output_type": "stream",
     "text": [
      "firstvalue is 10\n",
      "secondvalue is 20\n"
     ]
    }
   ],
   "source": [
    "int firstvalue = 5, secondvalue = 15;\n",
    "int * p1, * p2;\n",
    "\n",
    "p1 = &firstvalue;  // p1 = address of firstvalue\n",
    "p2 = &secondvalue; // p2 = address of secondvalue\n",
    "*p1 = 10;          // value pointed to by p1 = 10\n",
    "*p2 = *p1;         // value pointed to by p2 = value pointed to by p1\n",
    "p1 = p2;           // p1 = p2 (value of pointer is copied)\n",
    "*p1 = 20;          // value pointed to by p1 = 20\n",
    "  \n",
    "cout << \"firstvalue is \" << firstvalue << '\\n';\n",
    "cout << \"secondvalue is \" << secondvalue << '\\n';"
   ]
  },
  {
   "cell_type": "markdown",
   "id": "bb0964d8-d82e-4f6d-be6b-e83fe8b0a01c",
   "metadata": {},
   "source": [
    "Check this line from previous code:\n",
    "```cpp\n",
    "int * p1, * p2;\n",
    "```\n",
    "This declares the two pointers. But notice that there is an asterisk (\\*) for each pointer, in order for both to have type int\\* (pointer to int). This is required due to the precedence rules. Note that if, instead, the code was:\n",
    "```cpp\n",
    "int * p1, p2;\n",
    "```\n",
    "p1 would indeed be of type int*, but p2 would be of type int. Spaces do not matter at all for this purpose. But anyway, simply remembering to put one asterisk per pointer is enough for most pointer users interested in declaring multiple pointers per statement. Or even better: use a different statement for each variable."
   ]
  },
  {
   "cell_type": "markdown",
   "id": "46877859-0ffd-4828-a454-46f2e3f266ec",
   "metadata": {},
   "source": [
    "## Pointers and arrays\n",
    "The concept of arrays is related to that of pointers. In fact, arrays work very much like pointers to their first elements, and, actually, an array can always be implicitly converted to the pointer of the proper type. For example, consider these two declarations:"
   ]
  },
  {
   "cell_type": "code",
   "execution_count": 12,
   "id": "70b18f92-5993-4903-9779-852013edfeb5",
   "metadata": {
    "tags": []
   },
   "outputs": [],
   "source": [
    "int myarray [20];\n",
    "int * mypointer;"
   ]
  },
  {
   "cell_type": "markdown",
   "id": "084b9c09-9417-4125-9155-376e11ffce15",
   "metadata": {},
   "source": [
    "The following assignment operation would be valid: "
   ]
  },
  {
   "cell_type": "code",
   "execution_count": 13,
   "id": "34bc0d4d-9185-43a7-b9c7-fa285ba474c0",
   "metadata": {
    "tags": []
   },
   "outputs": [],
   "source": [
    "mypointer = myarray;"
   ]
  },
  {
   "cell_type": "markdown",
   "id": "3bc507f4-0a72-4646-bb5d-bc75fd281569",
   "metadata": {},
   "source": [
    "After that, mypointer and myarray would be equivalent and would have very similar properties. The main difference being that mypointer can be assigned a different address, whereas myarray can never be assigned anything, and will always represent the same block of 20 elements of type int. Therefore, the following assignment would not be valid:"
   ]
  },
  {
   "cell_type": "code",
   "execution_count": null,
   "id": "e830b3eb-13f0-41e0-8a04-81a98d5fcce6",
   "metadata": {
    "tags": []
   },
   "outputs": [],
   "source": [
    "myarray = mypointer;"
   ]
  },
  {
   "cell_type": "markdown",
   "id": "eb6790ec-33b9-468c-932b-e2a64f7bbaff",
   "metadata": {},
   "source": [
    "Let's see an example that mixes arrays and pointers:"
   ]
  },
  {
   "cell_type": "code",
   "execution_count": 15,
   "id": "9faa58de-b906-4b5c-9a82-14b469d80e6a",
   "metadata": {
    "tags": []
   },
   "outputs": [
    {
     "name": "stdout",
     "output_type": "stream",
     "text": [
      "10, 20, 30, 40, 50, "
     ]
    }
   ],
   "source": [
    "int numbers[5];\n",
    "int * p;\n",
    "p = numbers;  *p = 10;\n",
    "p++;  *p = 20;\n",
    "p = &numbers[2];  *p = 30;\n",
    "p = numbers + 3;  *p = 40;\n",
    "p = numbers;  *(p+4) = 50;\n",
    "for (int n=0; n<5; n++)\n",
    "    cout << numbers[n] << \", \";"
   ]
  },
  {
   "cell_type": "markdown",
   "id": "5f6e25b2-c71b-4b0e-8d1e-8e473579c97a",
   "metadata": {},
   "source": [
    "Pointers and arrays support the same set of operations, with the same meaning for both. The main difference being that pointers can be assigned new addresses, while arrays cannot.\n",
    "In the chapter about arrays, brackets ([]) were explained as specifying the index of an element of the array. Well, in fact these brackets are a dereferencing operator known as offset operator. They dereference the variable they follow just as * does, but they also add the number between brackets to the address being dereferenced. For example:\n",
    "```cpp\n",
    "a[5] = 0;       // a [offset of 5] = 0\n",
    "*(a+5) = 0;     // pointed to by (a+5) = 0\n",
    "```\n",
    "These two expressions are equivalent and valid, not only if a is a pointer, but also if a is an array. Remember that if an array, its name can be used just like a pointer to its first element."
   ]
  },
  {
   "cell_type": "markdown",
   "id": "97099449-227a-4887-ae57-bc888244bac9",
   "metadata": {},
   "source": [
    "## Pointer initialization\n",
    "Pointers can be initialized to point to specific locations at the very moment they are defined:"
   ]
  },
  {
   "cell_type": "code",
   "execution_count": 16,
   "id": "93db7289-aa2e-43e6-aa80-3ebb492c4f72",
   "metadata": {
    "tags": []
   },
   "outputs": [],
   "source": [
    "int myvar;\n",
    "int * myptr = &myvar;"
   ]
  },
  {
   "cell_type": "markdown",
   "id": "49f1634d-4cb4-44af-8796-14438c25a1c4",
   "metadata": {},
   "source": [
    "Pointers can be initialized either to the address of a variable (such as in the case above), or to the value of another pointer (or array):"
   ]
  },
  {
   "cell_type": "code",
   "execution_count": 17,
   "id": "945d1425-0b61-4e8b-a9ca-53770fa0a28c",
   "metadata": {
    "tags": []
   },
   "outputs": [],
   "source": [
    "int myvar;\n",
    "int *foo = &myvar;\n",
    "int *bar = foo;"
   ]
  },
  {
   "cell_type": "markdown",
   "id": "1b12a15d-7b2a-4d7b-9df3-56e09b3e3750",
   "metadata": {},
   "source": [
    "## Pointers and const\n",
    "Pointers can be used to access a variable by its address, and this access may include modifying the value pointed. But it is also possible to declare pointers that can access the pointed value to read it, but not to modify it. For this, it is enough with qualifying the type pointed to by the pointer as const. For example:"
   ]
  },
  {
   "cell_type": "code",
   "execution_count": 18,
   "id": "7acf8a81-3bad-45b0-8678-c5fea55ccaa4",
   "metadata": {
    "tags": []
   },
   "outputs": [
    {
     "data": {
      "text/plain": [
       "10"
      ]
     },
     "execution_count": 18,
     "metadata": {},
     "output_type": "execute_result"
    }
   ],
   "source": [
    "int x;\n",
    "int y = 10;\n",
    "const int * p = &y;\n",
    "x = *p;          // ok: reading p"
   ]
  },
  {
   "cell_type": "code",
   "execution_count": null,
   "id": "bfb6d67d-996d-4d3c-bb78-e6c778db27cd",
   "metadata": {
    "tags": []
   },
   "outputs": [],
   "source": [
    "*p = x;          // error: modifying p, which is const-qualified "
   ]
  },
  {
   "cell_type": "markdown",
   "id": "dc4e4fe5-7f8c-4296-aba0-5c3c8fc9ad96",
   "metadata": {},
   "source": [
    "Note that the expression `&y` is of type `int*`, but this is assigned to a pointer of type `const int*`. This is allowed: a pointer to non-const can be implicitly converted to a pointer to const. But not the other way around! As a safety feature, __pointers to const are not implicitly convertible to pointers to non-const.__\n",
    "\n",
    "One of the use cases of pointers to const elements is as function parameters: a function that takes a pointer to non-const as parameter can modify the value passed as argument, while a function that takes a pointer to const as parameter cannot."
   ]
  },
  {
   "cell_type": "code",
   "execution_count": 22,
   "id": "50112e34-5b02-473e-ad48-9385bb98caff",
   "metadata": {
    "tags": []
   },
   "outputs": [],
   "source": [
    "void increment_all (int* start, int* stop)\n",
    "{\n",
    "  int * current = start;\n",
    "  while (current != stop) {\n",
    "    ++(*current);  // increment value pointed\n",
    "    ++current;     // increment pointer\n",
    "  }\n",
    "}"
   ]
  },
  {
   "cell_type": "code",
   "execution_count": 23,
   "id": "cada9417-d98c-4fa9-814b-a4520559fae8",
   "metadata": {
    "tags": []
   },
   "outputs": [],
   "source": [
    "void print_all (const int* start, const int* stop)\n",
    "{\n",
    "  const int * current = start;\n",
    "  while (current != stop) {\n",
    "    cout << *current << '\\n';\n",
    "    ++current;     // increment pointer\n",
    "  }\n",
    "}"
   ]
  },
  {
   "cell_type": "code",
   "execution_count": 24,
   "id": "bf721c83-41ec-483d-abf2-8f9149a6601e",
   "metadata": {
    "tags": []
   },
   "outputs": [],
   "source": [
    "int numbers[] = {10,20,30};"
   ]
  },
  {
   "cell_type": "code",
   "execution_count": null,
   "id": "1b3af79d-253b-4e44-a4bc-d34801c7610e",
   "metadata": {
    "tags": []
   },
   "outputs": [],
   "source": [
    "increment_all (numbers,numbers+3);\n",
    "print_all (numbers,numbers+3);"
   ]
  },
  {
   "cell_type": "markdown",
   "id": "28757910-f4e3-4846-b690-db86975b304e",
   "metadata": {},
   "source": [
    "Note that print_all uses pointers that point to constant elements. These pointers point to constant content they cannot modify, but they are not constant themselves: i.e., the pointers can still be incremented or assigned different addresses, although they cannot modify the content they point to.\n",
    "\n",
    "And this is where a second dimension to _constness_ is added to pointers: Pointers can also be themselves const. And this is specified by appending const to the pointed type (after the asterisk):"
   ]
  },
  {
   "cell_type": "code",
   "execution_count": 26,
   "id": "364925c3-08bf-48c7-9d98-e18c8a2c7d2e",
   "metadata": {
    "tags": []
   },
   "outputs": [],
   "source": [
    "int x;\n",
    "      int *       p1 = &x;  // non-const pointer to non-const int\n",
    "const int *       p2 = &x;  // non-const pointer to const int\n",
    "      int * const p3 = &x;  // const pointer to non-const int\n",
    "const int * const p4 = &x;  // const pointer to const int "
   ]
  },
  {
   "cell_type": "markdown",
   "id": "9f0a8105-2007-4619-8215-9aaacaa30abe",
   "metadata": {},
   "source": [
    "The syntax with const and pointers is definitely tricky, and recognizing the cases that best suit each use tends to require some experience. In any case, it is important to get constness with pointers (and references) right sooner rather than later, but you should not worry too much about grasping everything if this is the first time you are exposed to the mix of const and pointers. More use cases will show up in coming chapters.\n",
    "\n",
    "To add a little bit more confusion to the syntax of const with pointers, the const qualifier can either precede or follow the pointed type, with the exact same meaning:"
   ]
  },
  {
   "cell_type": "code",
   "execution_count": 27,
   "id": "93b3019b-0eeb-4219-860b-3699a9ab1319",
   "metadata": {
    "tags": []
   },
   "outputs": [],
   "source": [
    "const int * p2a = &x;  //      non-const pointer to const int\n",
    "int const * p2b = &x;  // also non-const pointer to const int"
   ]
  },
  {
   "cell_type": "markdown",
   "id": "636d1ad8-9bc2-40b8-99d6-6a540ddb1421",
   "metadata": {},
   "source": [
    "## Pointers and string literals\n",
    "As pointed earlier, string literals are arrays containing null-terminated character sequences. In earlier sections, string literals have been used to be directly inserted into cout, to initialize strings and to initialize arrays of characters.\n",
    "\n",
    "But they can also be accessed directly. String literals are arrays of the proper array type to contain all its characters plus the terminating null-character, with each of the elements being of type const char (as literals, they can never be modified). For example:"
   ]
  },
  {
   "cell_type": "code",
   "execution_count": 30,
   "id": "ee15fcb6-fa4a-4d4e-9490-a7d20ac0589b",
   "metadata": {
    "tags": []
   },
   "outputs": [],
   "source": [
    "const char * foo = \"hello\";"
   ]
  },
  {
   "cell_type": "markdown",
   "id": "3fa9eede-6916-4dea-b3d2-f18c30b1f177",
   "metadata": {
    "tags": []
   },
   "source": [
    "This declares an array with the literal representation for \"hello\", and then a pointer to its first element is assigned to foo. If we imagine that \"hello\" is stored at the memory locations that start at address 1702, we can represent the previous declaration as:\n",
    "\n",
    "![pointer_assignment](../static/img/pointer_assignment.png)\n",
    "\n",
    ">Note that here foo is a pointer and contains the value 1702, and not 'h', nor \"hello\", although 1702 indeed is the address of both of these.\n",
    "\n",
    "The pointer foo points to a sequence of characters. And because pointers and arrays behave essentially in the same way in expressions, foo can be used to access the characters in the same way arrays of null-terminated character sequences are. For example:"
   ]
  },
  {
   "cell_type": "code",
   "execution_count": 32,
   "id": "e5c2de0e-4f45-4e60-8c90-f364e5b9a07f",
   "metadata": {
    "tags": []
   },
   "outputs": [
    {
     "name": "stdout",
     "output_type": "stream",
     "text": [
      "o"
     ]
    }
   ],
   "source": [
    "cout << *(foo+4);"
   ]
  },
  {
   "cell_type": "code",
   "execution_count": 33,
   "id": "d0730fb3-4a66-4b3e-ba1c-c8c695fbdfa0",
   "metadata": {
    "tags": []
   },
   "outputs": [
    {
     "name": "stdout",
     "output_type": "stream",
     "text": [
      "o"
     ]
    }
   ],
   "source": [
    "cout << foo[4];"
   ]
  },
  {
   "cell_type": "markdown",
   "id": "f6ea673a-5561-4501-ab9a-15e8eb02db51",
   "metadata": {},
   "source": [
    "## Pointers to pointers\n",
    "C++ allows the use of pointers that point to pointers, that these, in its turn, point to data (or even to other pointers). The syntax simply requires an asterisk (*) for each level of indirection in the declaration of the pointer:"
   ]
  },
  {
   "cell_type": "code",
   "execution_count": 34,
   "id": "2860a285-f37c-41ac-af9b-1019fd82f93e",
   "metadata": {
    "tags": []
   },
   "outputs": [],
   "source": [
    "char a;\n",
    "char * b;\n",
    "char ** c;\n",
    "a = 'z';\n",
    "b = &a;\n",
    "c = &b;"
   ]
  },
  {
   "cell_type": "markdown",
   "id": "9f28b9d4-dc2c-4113-bef4-2a49a3a238cc",
   "metadata": {},
   "source": [
    "This, assuming the randomly chosen memory locations for each variable of 7230, 8092, and 10502, could be represented as:\n",
    "\n",
    "![pointer_to_pointer](../static/img/pointer_to_pointer.png)\n",
    "\n",
    "With the value of each variable represented inside its corresponding cell, and their respective addresses in memory represented by the value under them.\n",
    "\n",
    "The new thing in this example is variable c, which is a pointer to a pointer, and can be used in three different levels of indirection, each one of them would correspond to a different value:\n",
    "\n",
    "    • c is of type char** and a value of 8092 \n",
    "    • *c is of type char* and a value of 7230 \n",
    "    • **c is of type char and a value of 'z' "
   ]
  },
  {
   "cell_type": "markdown",
   "id": "1f557e63-4e8c-433b-b4cc-aa3a23ebc474",
   "metadata": {},
   "source": [
    "## void pointers\n",
    "The void type of pointer is a special type of pointer. In C++, void represents the absence of type. Therefore, void pointers are pointers that point to a value that has no type (and thus also an undetermined length and undetermined dereferencing properties).\n",
    "This gives void pointers a great flexibility, by being able to point to any data type, from an integer value or a float to a string of characters. In exchange, they have a great limitation: the data pointed to by them cannot be directly dereferenced (which is logical, since we have no type to dereference to), and for that reason, any address in a void pointer needs to be transformed into some other pointer type that points to a concrete data type before being dereferenced.\n",
    "One of its possible uses may be to pass generic parameters to a function. For example: "
   ]
  },
  {
   "cell_type": "code",
   "execution_count": 38,
   "id": "f5b94c67-f45c-470f-822c-10558ad2c07f",
   "metadata": {
    "tags": []
   },
   "outputs": [],
   "source": [
    "void increase (void* data, int psize)\n",
    "{\n",
    "  if ( psize == sizeof(char) )\n",
    "  {\n",
    "      char* pchar; \n",
    "      pchar=(char*)data; \n",
    "      ++(*pchar);\n",
    "  }\n",
    "  else if (psize == sizeof(int) )\n",
    "  {\n",
    "      int* pint; \n",
    "      pint=(int*)data; \n",
    "      ++(*pint);\n",
    "  }\n",
    "}"
   ]
  },
  {
   "cell_type": "code",
   "execution_count": 39,
   "id": "1df69c8f-6519-40ad-b1e5-4f9dbccb2742",
   "metadata": {
    "tags": []
   },
   "outputs": [
    {
     "name": "stdout",
     "output_type": "stream",
     "text": [
      "y, 1603\n"
     ]
    }
   ],
   "source": [
    "char a = 'x';\n",
    "int b = 1602;\n",
    "increase (&a,sizeof(a));\n",
    "increase (&b,sizeof(b));\n",
    "cout << a << \", \" << b << '\\n';"
   ]
  },
  {
   "cell_type": "markdown",
   "id": "e6f54f87-38cd-4370-80ee-e2b39149a894",
   "metadata": {},
   "source": [
    "## Invalid pointers and null pointers\n",
    "In principle, pointers are meant to point to valid addresses, such as the address of a variable or the address of an element in an array. But pointers can actually point to any address, including addresses that do not refer to any valid element. Typical examples of this are uninitialized pointers and pointers to nonexistent elements of an array:\n",
    "```cpp\n",
    "int * p;               // uninitialized pointer (local variable)\n",
    "int myarray[10];\n",
    "int * q = myarray+20;  // element out of bounds \n",
    "```\n",
    "But, sometimes, a pointer really needs to explicitly point to nowhere, and not just an invalid address. For such cases, there exists a special value that any pointer type can take: the null pointer value. This value can be expressed in C++ in two ways: either with an integer value of zero, or with the nullptr keyword:"
   ]
  },
  {
   "cell_type": "code",
   "execution_count": 40,
   "id": "e1bfcab9-50e0-485e-92a3-dab0f4a92be5",
   "metadata": {
    "tags": []
   },
   "outputs": [],
   "source": [
    "int * p = 0;\n",
    "int * q = nullptr;"
   ]
  },
  {
   "cell_type": "markdown",
   "id": "b45192f9-fe8d-48e8-89d0-a61b9a48d5dc",
   "metadata": {},
   "source": [
    ">Do not confuse null pointers with void pointers! A null pointer is a value that any pointer can take to represent that it is pointing to \"nowhere\", while a void pointer is a type of pointer that can point to somewhere without a specific type. One refers to the value stored in the pointer, and the other to the type of data it points to."
   ]
  },
  {
   "cell_type": "markdown",
   "id": "f61d2dc9-d5e3-4922-a298-63b1f8a9fde8",
   "metadata": {},
   "source": [
    "## Pointers to functions\n",
    "C++ allows operations with pointers to functions. The typical use of this is for passing a function as an argument to another function. Pointers to functions are declared with the same syntax as a regular function declaration, except that the name of the function is enclosed between parentheses () and an asterisk (*) is inserted before the name:"
   ]
  },
  {
   "cell_type": "code",
   "execution_count": 43,
   "id": "f3fb85ee-39e5-4f7d-90b0-c37f5ac9ad31",
   "metadata": {
    "tags": []
   },
   "outputs": [],
   "source": [
    "int addition (int a, int b){ \n",
    "    return (a+b);\n",
    "}"
   ]
  },
  {
   "cell_type": "code",
   "execution_count": 44,
   "id": "a96fa6ab-e8c8-4a2f-b4ff-16653b0cfc25",
   "metadata": {
    "tags": []
   },
   "outputs": [],
   "source": [
    "int subtraction (int a, int b){ \n",
    "    return (a-b); \n",
    "}"
   ]
  },
  {
   "cell_type": "code",
   "execution_count": 45,
   "id": "14ac6a64-472b-4327-9e3b-aabc8b155bfd",
   "metadata": {
    "tags": []
   },
   "outputs": [],
   "source": [
    "int operation (int x, int y, int (*functocall)(int,int)){\n",
    "  int g;\n",
    "  g = (*functocall)(x,y);\n",
    "  return (g);\n",
    "}"
   ]
  },
  {
   "cell_type": "code",
   "execution_count": 46,
   "id": "d62e12ef-8416-4378-a5e7-71fcc3a479f5",
   "metadata": {
    "tags": []
   },
   "outputs": [
    {
     "name": "stdout",
     "output_type": "stream",
     "text": [
      "8"
     ]
    }
   ],
   "source": [
    "int m,n;\n",
    "int (*minus)(int,int) = subtraction;\n",
    "\n",
    "m = operation (7, 5, addition);\n",
    "n = operation (20, m, minus);\n",
    "cout <<n;"
   ]
  },
  {
   "cell_type": "markdown",
   "id": "61d5ab7f-f62d-448b-a127-10e9145a757d",
   "metadata": {},
   "source": [
    "In the example above, minus is a pointer to a function that has two parameters of type int. It is directly initialized to point to the function subtraction:"
   ]
  },
  {
   "cell_type": "code",
   "execution_count": 47,
   "id": "1a05916a-5533-4f0a-964f-00a2ff2dc1df",
   "metadata": {
    "tags": []
   },
   "outputs": [],
   "source": [
    "int (* minus)(int,int) = subtraction;"
   ]
  }
 ],
 "metadata": {
  "kernelspec": {
   "display_name": "C++17",
   "language": "C++17",
   "name": "xcpp17"
  },
  "language_info": {
   "codemirror_mode": "text/x-c++src",
   "file_extension": ".cpp",
   "mimetype": "text/x-c++src",
   "name": "c++",
   "version": "17"
  }
 },
 "nbformat": 4,
 "nbformat_minor": 5
}
