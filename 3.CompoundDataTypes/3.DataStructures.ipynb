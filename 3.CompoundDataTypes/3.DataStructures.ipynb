{
 "cells": [
  {
   "cell_type": "code",
   "execution_count": 4,
   "id": "651e831d-0c5a-44a1-b0df-c07229023d0c",
   "metadata": {
    "tags": []
   },
   "outputs": [],
   "source": [
    "#include <iostream>\n",
    "#include <string>\n",
    "#include <sstream>\n",
    "using namespace std;"
   ]
  },
  {
   "cell_type": "markdown",
   "id": "773d1917-3090-4dd4-868d-f8eef3f1da7e",
   "metadata": {},
   "source": [
    "# Data structures\n",
    "## Data structures\n",
    "A data structure is a group of data elements grouped together under one name. These data elements, known as members, can have different types and different lengths. Data structures can be declared in C++ using the following syntax:\n",
    "\n",
    "    struct type_name {\n",
    "        member_type1 member_name1;\n",
    "        member_type2 member_name2;\n",
    "        member_type3 member_name3;\n",
    "        .\n",
    "        .\n",
    "    } object_names;\n",
    "\n",
    "Where type_name is a name for the structure type, object_name can be a set of valid identifiers for objects that have the type of this structure. Within braces {}, there is a list with the data members, each one is specified with a type and a valid identifier as its name.\n",
    "For example:"
   ]
  },
  {
   "cell_type": "code",
   "execution_count": 1,
   "id": "d91fc5cf-3043-4880-962e-a8109164c508",
   "metadata": {
    "tags": []
   },
   "outputs": [],
   "source": [
    "struct product {\n",
    "  int weight;\n",
    "  double price;\n",
    "};\n",
    "\n",
    "product apple;\n",
    "product banana, melon;"
   ]
  },
  {
   "cell_type": "markdown",
   "id": "408e83ec-7b75-456d-9cbc-062befb6cf61",
   "metadata": {},
   "source": [
    "This declares a structure type, called product, and defines it having two members: weight and price, each of a different fundamental type. This declaration creates a new type (product), which is then used to declare three objects (variables) of this type: apple, banana, and melon. Note how once product is declared, it is used just like any other type.\n",
    "\n",
    "Right at the end of the struct definition, and before the ending semicolon (;), the optional field object_names can be used to directly declare objects of the structure type. For example, the structure objects apple, banana, and melon can be declared at the moment the data structure type is defined: "
   ]
  },
  {
   "cell_type": "code",
   "execution_count": 2,
   "id": "e8045a3d-1fd2-4e66-b11a-39470f66e9b9",
   "metadata": {
    "tags": []
   },
   "outputs": [],
   "source": [
    "struct product {\n",
    "  int weight;\n",
    "  double price;\n",
    "} apple, banana, melon;"
   ]
  },
  {
   "cell_type": "markdown",
   "id": "006ad74e-ecd7-4622-9b74-576ba74d3548",
   "metadata": {},
   "source": [
    "It is important to clearly differentiate between what is the structure type name (product), and what is an object of this type (apple, banana, and melon). Many objects (such as apple, banana, and melon) can be declared from a single structure type (product).\n",
    "\n",
    "Once the three objects of a determined structure type are declared (apple, banana, and melon) its members can be accessed directly. The syntax for that is simply to insert a dot (.) between the object name and the member name. For example, we could operate with any of these elements as if they were standard variables of their respective types: "
   ]
  },
  {
   "cell_type": "code",
   "execution_count": 3,
   "id": "f285c378-071b-4191-ae87-6c4e94d188c6",
   "metadata": {
    "tags": []
   },
   "outputs": [],
   "source": [
    "apple.weight;\n",
    "apple.price;\n",
    "banana.weight;\n",
    "banana.price;\n",
    "melon.weight;\n",
    "melon.price;"
   ]
  },
  {
   "cell_type": "markdown",
   "id": "14e4bb9a-23d8-42d2-ad54-e6cd4c61d8b3",
   "metadata": {},
   "source": [
    "Here is a real example with structure types in action:"
   ]
  },
  {
   "cell_type": "code",
   "execution_count": 12,
   "id": "1af370d4-2f9d-463f-a43f-27c7099d9a02",
   "metadata": {
    "tags": []
   },
   "outputs": [],
   "source": [
    "struct movies_t {\n",
    "  string title;\n",
    "  int year;\n",
    "} mine, yours;"
   ]
  },
  {
   "cell_type": "code",
   "execution_count": 13,
   "id": "cc4465f9-d106-4bcc-9c43-ad61196d7fc1",
   "metadata": {
    "tags": []
   },
   "outputs": [],
   "source": [
    "void printmovie (movies_t movie)\n",
    "{\n",
    "  cout << movie.title;\n",
    "  cout << \" (\" << movie.year << \")\\n\";\n",
    "}"
   ]
  },
  {
   "cell_type": "code",
   "execution_count": null,
   "id": "d4414239-6a2f-43d7-be1f-88d373b25f4c",
   "metadata": {
    "tags": []
   },
   "outputs": [],
   "source": [
    "string mystr;\n",
    "\n",
    "mine.title = \"2001 A Space Odyssey\";\n",
    "mine.year = 1968;\n",
    "\n",
    "cout << \"Enter title: \";\n",
    "getline (cin,yours.title);\n",
    "cout << \"Enter year: \";\n",
    "getline (cin,mystr);\n",
    "stringstream(mystr) >> yours.year;\n",
    "\n",
    "cout << \"My favorite movie is:\\n \";\n",
    "printmovie (mine);\n",
    "cout << \"And yours is:\\n \";\n",
    "printmovie (yours);"
   ]
  },
  {
   "cell_type": "markdown",
   "id": "d5d66126-99d0-4c8c-bbfb-45735e5be1e2",
   "metadata": {},
   "source": [
    "But the objects mine and yours are also variables with a type (of type movies_t). For example, both have been passed to function printmovie just as if they were simple variables. Therefore, one of the features of data structures is the ability to refer to both their members individually or to the entire structure as a whole. In both cases using the same identifier: the name of the structure.\n",
    "\n",
    "Because structures are types, they can also be used as the type of arrays to construct tables or databases of them:"
   ]
  },
  {
   "cell_type": "code",
   "execution_count": null,
   "id": "c5852dab-aa22-439f-8f77-4f62195ed191",
   "metadata": {
    "tags": []
   },
   "outputs": [],
   "source": [
    "movies_t films[3];\n",
    "\n",
    "string mystr;\n",
    "int n;\n",
    "\n",
    "for (n=0; n<3; n++)\n",
    "{\n",
    "    cout << \"Enter title: \";\n",
    "    getline (cin,films[n].title);\n",
    "    cout << \"Enter year: \";\n",
    "    getline (cin,mystr);\n",
    "    stringstream(mystr) >> films[n].year;\n",
    "}\n",
    "\n",
    "cout << \"\\nYou have entered these movies:\\n\";\n",
    "for (n=0; n<3; n++)\n",
    "    printmovie (films[n]);"
   ]
  },
  {
   "cell_type": "markdown",
   "id": "4d59f6ea-158e-46fb-862f-8ebb7ca769d3",
   "metadata": {},
   "source": [
    "## Pointers to structures\n",
    "Like any other type, structures can be pointed to by its own type of pointers:"
   ]
  },
  {
   "cell_type": "code",
   "execution_count": 16,
   "id": "2b1e1410-ebaa-4520-a365-6b8fc95f8dd3",
   "metadata": {
    "tags": []
   },
   "outputs": [],
   "source": [
    "struct movies_t {\n",
    "  string title;\n",
    "  int year;\n",
    "};\n",
    "\n",
    "movies_t amovie;\n",
    "movies_t * pmovie;"
   ]
  },
  {
   "cell_type": "markdown",
   "id": "edf89a6f-df11-4bfa-be05-2a720e0b27cf",
   "metadata": {},
   "source": [
    "Here amovie is an object of structure type movies_t, and pmovie is a pointer to point to objects of structure type movies_t. Therefore, the following code would also be valid:\n",
    "```cpp\n",
    "pmovie = &amovie;\n",
    "```\n",
    "The value of the pointer `pmovie` would be assigned the address of object `amovie`.\n",
    "\n",
    "Now, let's see another example that mixes pointers and structures, and will serve to introduce a new operator: the arrow operator (->):"
   ]
  },
  {
   "cell_type": "code",
   "execution_count": null,
   "id": "f5be9c4a-e49a-4445-ab9e-c1081668e3b8",
   "metadata": {
    "tags": []
   },
   "outputs": [],
   "source": [
    "string mystr;\n",
    "\n",
    "movies_t amovie;\n",
    "movies_t * pmovie;\n",
    "pmovie = &amovie;\n",
    "\n",
    "cout << \"Enter title: \";\n",
    "getline (cin, pmovie->title);\n",
    "cout << \"Enter year: \";\n",
    "getline (cin, mystr);\n",
    "(stringstream) mystr >> pmovie->year;\n",
    "\n",
    "cout << \"\\nYou have entered:\\n\";\n",
    "cout << pmovie->title;\n",
    "cout << \" (\" << pmovie->year << \")\\n\";"
   ]
  },
  {
   "cell_type": "markdown",
   "id": "a61d202a-7fbc-4548-9706-1f893cf9360a",
   "metadata": {},
   "source": [
    "The arrow operator (->) is a dereference operator that is used exclusively with pointers to objects that have members. This operator serves to access the member of an object directly from its address. For example, in the example above:\n",
    "```cpp\n",
    "pmovie->\n",
    "```\n",
    "is, for all purposes, equivalent to: \n",
    "```cpp\n",
    "(*pmovie).\n",
    "```\n",
    "Both expressions, `pmovie->title` and `(*pmovie).title` are valid, and both access the member title of the data structure pointed by a pointer called pmovie. It is definitely something different than:\n",
    "```cpp\n",
    "*pmovie.\n",
    "```\n",
    "which is rather equivalent to:\n",
    "```cpp\n",
    "*(pmovie.title)\n",
    "```\n",
    "This would access the value pointed by a hypothetical pointer member called title of the structure object pmovie _(which is not the case, since title is not a pointer type)_. The following panel summarizes possible combinations of the operators for pointers and for structure members:\n",
    "\n",
    "| Expression | What is evaluated | Equivalent |\n",
    "|--|--|--|\n",
    "| a.b | Member b of object a | | \n",
    "| a->b | Member b of object pointed to by a | (*a).b |\n",
    "| *a.b | Value pointed to by member b of object a | *(a.b) |\n"
   ]
  },
  {
   "cell_type": "markdown",
   "id": "9eeb0ced-c8e4-475c-9c23-53229f476d7e",
   "metadata": {},
   "source": [
    "## Nesting structures\n",
    "Structures can also be nested in such a way that an element of a structure is itself another structure:"
   ]
  },
  {
   "cell_type": "code",
   "execution_count": null,
   "id": "b6b8aa70-df6a-456b-b0b5-4ee2e952d5f3",
   "metadata": {},
   "outputs": [],
   "source": [
    "struct movies_t {\n",
    "  string title;\n",
    "  int year;\n",
    "};\n",
    "\n",
    "struct friends_t {\n",
    "  string name;\n",
    "  string email;\n",
    "  movies_t favorite_movie;\n",
    "} charlie, maria;\n",
    "\n",
    "friends_t * pfriends = &charlie;"
   ]
  },
  {
   "cell_type": "markdown",
   "id": "3851f210-3f7e-48ef-900f-b1f5dc53d267",
   "metadata": {},
   "source": [
    "After the previous declarations, all of the following expressions would be valid:\n",
    "```cpp\n",
    "charlie.name\n",
    "maria.favorite_movie.title\n",
    "charlie.favorite_movie.year\n",
    "pfriends->favorite_movie.year\n",
    "```\n",
    "where, by the way, the last two expressions refer to the same member."
   ]
  }
 ],
 "metadata": {
  "kernelspec": {
   "display_name": "C++17",
   "language": "C++17",
   "name": "xcpp17"
  },
  "language_info": {
   "codemirror_mode": "text/x-c++src",
   "file_extension": ".cpp",
   "mimetype": "text/x-c++src",
   "name": "c++",
   "version": "17"
  }
 },
 "nbformat": 4,
 "nbformat_minor": 5
}
