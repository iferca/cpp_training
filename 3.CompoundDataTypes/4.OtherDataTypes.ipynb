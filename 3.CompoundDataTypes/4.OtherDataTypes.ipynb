{
 "cells": [
  {
   "cell_type": "markdown",
   "id": "21768a7d-8d5b-45d8-8abf-1663fa490c48",
   "metadata": {},
   "source": [
    "# Other data types\n",
    "## Type aliases (typedef / using)\n",
    "A type alias is a different name by which a type can be identified. In C++, any valid type can be aliased so that it can be referred to with a different identifier.\n",
    "\n",
    "In C++, there are two syntaxes for creating such type aliases: The first, inherited from the C language, uses the typedef keyword:\n",
    "\n",
    "    typedef existing_type new_type_name ;\n",
    "\n",
    "where existing_type is any type, either fundamental or compound, and new_type_name is an identifier with the new name given to the type.\n",
    "\n",
    "For example:"
   ]
  },
  {
   "cell_type": "code",
   "execution_count": 2,
   "id": "1e202773-56e5-4467-bcd5-9a2f90501cfe",
   "metadata": {
    "tags": []
   },
   "outputs": [],
   "source": [
    "typedef char C;\n",
    "typedef unsigned int WORD;\n",
    "typedef char * pChar;\n",
    "typedef char field [50];"
   ]
  },
  {
   "cell_type": "markdown",
   "id": "82fd70ea-5059-47cc-aee0-776e0c2d9899",
   "metadata": {},
   "source": [
    "This defines four type aliases: \n",
    "\n",
    "* C as char\n",
    "* WORD as unsigned int\n",
    "* pChar as char*\n",
    "* field as char\\[50]\n",
    "\n",
    "Once these aliases are defined, they can be used in any declaration just like any other valid type:"
   ]
  },
  {
   "cell_type": "code",
   "execution_count": 3,
   "id": "8289bb34-0aa5-40f2-a19d-41c0a0042aa0",
   "metadata": {
    "tags": []
   },
   "outputs": [],
   "source": [
    "C mychar, anotherchar, *ptc1;\n",
    "WORD myword;\n",
    "pChar ptc2;\n",
    "field name;"
   ]
  },
  {
   "cell_type": "markdown",
   "id": "d6c6f230-d01d-46b9-8889-66a02da6c239",
   "metadata": {},
   "source": [
    "More recently, a second syntax to define type aliases was introduced in the C++ language:\n",
    "\n",
    "    using new_type_name = existing_type ;\n",
    "\n",
    "For example, the same type aliases as above could be defined as:"
   ]
  },
  {
   "cell_type": "code",
   "execution_count": 1,
   "id": "db7ef723-4160-4625-9766-39545d274fb6",
   "metadata": {
    "tags": []
   },
   "outputs": [],
   "source": [
    "using C = char;\n",
    "using WORD = unsigned int;\n",
    "using pChar = char *;\n",
    "using field = char [50];"
   ]
  },
  {
   "cell_type": "markdown",
   "id": "749305d7-c7cd-46a0-9356-31e009b5beed",
   "metadata": {},
   "source": [
    "Both aliases defined with typedef and aliases defined with using are semantically equivalent. The only difference being that typedef has certain limitations in the realm of templates that using has not. Therefore, using is more generic, although typedef has a longer history and is probably more common in existing code.\n",
    "Note that neither typedef nor using create new distinct data types. They only create synonyms of existing types. That means that the type of myword above, declared with type WORD, can as well be considered of type unsigned int; it does not really matter, since both are actually referring to the same type.\n",
    "Type aliases can be used to reduce the length of long or confusing type names, but they are most useful as tools to abstract programs from the underlying types they use. For example, by using an alias of int to refer to a particular kind of parameter instead of using int directly, it allows for the type to be easily replaced by long (or some other type) in a later version, without having to change every instance where it is used."
   ]
  },
  {
   "cell_type": "markdown",
   "id": "0a5adb15-67d1-4ba5-9451-82073d2d2e29",
   "metadata": {},
   "source": [
    "## Enumerated types (enum)\n",
    "Enumerated types are types that are defined with a set of custom identifiers, known as enumerators, as possible values. Objects of these enumerated types can take any of these enumerators as value.\n",
    "\n",
    "Their syntax is:\n",
    "\n",
    "    enum type_name {\n",
    "        value1,\n",
    "        value2,\n",
    "        value3,\n",
    "        .\n",
    "        .\n",
    "    } object_names;\n",
    "\n",
    "This creates the type type_name, which can take any of value1, value2, value3, ... as value. Objects (variables) of this type can directly be instantiated as object_names.\n",
    "For example, a new type of variable called colors_t could be defined to store colors with the following declaration:"
   ]
  },
  {
   "cell_type": "code",
   "execution_count": 2,
   "id": "a4dd54c5-7c5b-48dd-8d27-9eb1dd2e6657",
   "metadata": {
    "tags": []
   },
   "outputs": [],
   "source": [
    "enum colors_t {black, blue, green, cyan, red, purple, yellow, white};"
   ]
  },
  {
   "cell_type": "markdown",
   "id": "2fe61329-6d0c-4038-87c7-447cef5d0446",
   "metadata": {},
   "source": [
    "Notice that this declaration includes no other type, neither fundamental nor compound, in its definition. To say it another way, somehow, this creates a whole new data type from scratch without basing it on any other existing type. The possible values that variables of this new type color_t may take are the enumerators listed within braces. For example, once the colors_t enumerated type is declared, the following expressions will be valid:"
   ]
  },
  {
   "cell_type": "code",
   "execution_count": 3,
   "id": "443155d7-ce57-4914-9b55-9980161e1c9f",
   "metadata": {
    "tags": []
   },
   "outputs": [],
   "source": [
    "colors_t mycolor;\n",
    "mycolor = blue;\n",
    "if (mycolor == green) mycolor = red;"
   ]
  },
  {
   "cell_type": "markdown",
   "id": "ba81e585-f7cf-4c4f-bbad-c2ac63a9db0c",
   "metadata": {},
   "source": [
    "Values of enumerated types declared with enum are implicitly convertible to an integer type. In fact, the elements of such an enum are always assigned an integer numerical equivalent internally, to which they can be implicitly converted to. If it is not specified otherwise, the integer value equivalent to the first possible value is 0, the equivalent to the second is 1, to the third is 2, and so on... Therefore, in the data type colors_t defined above, black would be equivalent to 0, blue would be equivalent to 1, green to 2, and so on...\n",
    "A specific integer value can be specified for any of the possible values in the enumerated type. And if the constant value that follows it is itself not given its own value, it is automatically assumed to be the same value plus one. For example:"
   ]
  },
  {
   "cell_type": "code",
   "execution_count": null,
   "id": "d16a49aa-818a-4523-8941-26b8a3131ada",
   "metadata": {},
   "outputs": [],
   "source": [
    "enum months_t { january=1, february, march, april,\n",
    "                may, june, july, august,\n",
    "                september, october, november, december} y2k;"
   ]
  },
  {
   "cell_type": "markdown",
   "id": "94450a46-8c90-4c18-9102-3e31f6b27be2",
   "metadata": {},
   "source": [
    "In this case, the variable `y2k` of the enumerated type `months_t` can contain any of the 12 possible values that go from january to december and that are equivalent to the values between 1 and 12 _(not between 0 and 11, since january has been made equal to 1)_."
   ]
  },
  {
   "cell_type": "markdown",
   "id": "c1f37a65-8bd0-4e26-8821-4480e6a8b46d",
   "metadata": {},
   "source": [
    "## Enumerated types with enum class\n",
    "But, in C++, it is possible to create real enum types that are neither implicitly convertible to int and that neither have enumerator values of type int, but of the enum type itself, thus preserving type safety. They are declared with enum class (or enum struct) instead of just enum:"
   ]
  },
  {
   "cell_type": "code",
   "execution_count": 4,
   "id": "fa725966-0831-43be-9904-0556a9d264f4",
   "metadata": {
    "tags": []
   },
   "outputs": [],
   "source": [
    "enum class Colors {black, blue, green, cyan, red, purple, yellow, white};"
   ]
  },
  {
   "cell_type": "markdown",
   "id": "810e5018-0ce6-446f-aefb-ac3830355c9a",
   "metadata": {},
   "source": [
    "Each of the enumerator values of an enum class type needs to be scoped into its type (this is actually also possible with enum types, but it is only optional). For example:"
   ]
  },
  {
   "cell_type": "code",
   "execution_count": null,
   "id": "20bd6826-af63-4ae7-9f1e-6418dca509e5",
   "metadata": {},
   "outputs": [],
   "source": [
    "Colors mycolor;\n",
    "mycolor = Colors::blue;\n",
    "if (mycolor == Colors::green) mycolor = Colors::red;"
   ]
  },
  {
   "cell_type": "markdown",
   "id": "61b41d06-0269-4af4-91b4-edf878e336a2",
   "metadata": {},
   "source": [
    "Enumerated types declared with enum class also have more control over their underlying type; it may be any integral data type, such as char, short or unsigned int, which essentially serves to determine the size of the type. This is specified by a colon and the underlying type following the enumerated type. For example:"
   ]
  },
  {
   "cell_type": "code",
   "execution_count": null,
   "id": "889716ed-a212-4a8e-9103-ea8c6f33a49a",
   "metadata": {},
   "outputs": [],
   "source": [
    "enum class EyeColor : char {blue, green, brown};"
   ]
  },
  {
   "cell_type": "markdown",
   "id": "36d266d1-3bb1-4307-937c-561ff4dc34b3",
   "metadata": {
    "tags": []
   },
   "source": [
    "Here, Eyecolor is a distinct type with the same size of a char (1 byte)."
   ]
  }
 ],
 "metadata": {
  "kernelspec": {
   "display_name": "C++17",
   "language": "C++17",
   "name": "xcpp17"
  },
  "language_info": {
   "codemirror_mode": "text/x-c++src",
   "file_extension": ".cpp",
   "mimetype": "text/x-c++src",
   "name": "c++",
   "version": "17"
  }
 },
 "nbformat": 4,
 "nbformat_minor": 5
}
