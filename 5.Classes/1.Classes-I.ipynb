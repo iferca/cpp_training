{
 "cells": [
  {
   "cell_type": "code",
   "execution_count": 1,
   "id": "6130624e-e74e-4438-b4df-9727f18b4f20",
   "metadata": {
    "tags": []
   },
   "outputs": [],
   "source": [
    "#include <iostream>\n",
    "#include <string>\n",
    "\n",
    "using namespace std;"
   ]
  },
  {
   "cell_type": "markdown",
   "id": "851f879c-1b21-4bb3-a182-62f824bad71d",
   "metadata": {},
   "source": [
    "# Object oriented in C++\n",
    "## Classes\n",
    "Classes are an expanded concept of data structures: like data structures, they can contain data members, but they can also contain functions as members.\n",
    "An object is an instantiation of a class. In terms of variables, a class would be the type, and an object would be the variable.\n",
    "Classes are defined using either keyword class or keyword struct, with the following syntax:\n",
    "\n",
    "    class class_name {\n",
    "      access_specifier_1:\n",
    "        member1;\n",
    "      access_specifier_2:\n",
    "        member2;\n",
    "      ...\n",
    "    } object_names;\n",
    "\n",
    "Where class_name is a valid identifier for the class, object_names is an optional list of names for objects of this class. The body of the declaration can contain members, which can either be data or function declarations, and optionally access specifiers.\n",
    "Classes have the same format as plain data structures, except that they can also include functions and have these new things called access specifiers. An access specifier is one of the following three keywords: private, public or protected. These specifiers modify the access rights for the members that follow them:\n",
    "\n",
    "* private members of a class are accessible only from within other members of the same class (or from their \"friends\"). \n",
    "* protected members are accessible from other members of the same class (or from their \"friends\"), but also from members of their derived classes. \n",
    "* Finally, public members are accessible from anywhere where the object is visible. \n",
    "\n",
    "By default, all members of a class declared with the class keyword have private access for all its members. Therefore, any member that is declared before any other access specifier has private access automatically. For example: "
   ]
  },
  {
   "cell_type": "code",
   "execution_count": 5,
   "id": "faddd7e4-5744-40c1-89c3-59c84d95f488",
   "metadata": {
    "tags": []
   },
   "outputs": [],
   "source": [
    "class Rectangle {\n",
    "    int width, height;\n",
    "  public:\n",
    "    void set_values (int,int);\n",
    "    int area (void);\n",
    "} rect;"
   ]
  },
  {
   "cell_type": "markdown",
   "id": "66d13754-0d9e-406a-87b6-6ee5dd1e7c89",
   "metadata": {},
   "source": [
    "Declares a class (i.e., a type) called Rectangle and an object (i.e., a variable) of this class, called rect. This class contains four members: \n",
    "\n",
    "* two data members of type int (member width and member height) with private access (because private is the default access level)\n",
    "* two member functions with public access: the functions set_values and area, \n",
    "\n",
    "of which for now we have only included their declaration, but not their definition.\n",
    "Notice the difference between the class name and the object name: In the previous example, Rectangle was the class name (i.e., the type), whereas rect was an object of type Rectangle. \n",
    "\n",
    "After the declarations of Rectangle and rect, any of the public members of object rect can be accessed as if they were normal functions or normal variables, by simply inserting a dot (.) between object name and member name. This follows the same syntax as accessing the members of plain data structures. For example: \n",
    "\n",
    "```cpp\n",
    "rect.set_values (3,4);\n",
    "auto myarea = rect.area();\n",
    "```\n",
    "\n",
    "The only members of rect that cannot be accessed from outside the class are width and height, since they have private access and they can only be referred to from within other members of that same class.\n",
    "Here is the complete example of class Rectangle:"
   ]
  },
  {
   "cell_type": "code",
   "execution_count": 16,
   "id": "59b07fe7-992b-4318-bd48-788256420978",
   "metadata": {
    "tags": []
   },
   "outputs": [],
   "source": [
    "class Rectangle {\n",
    "    int width, height;\n",
    "  public:\n",
    "    void set_values (int,int);\n",
    "    int area() {return width*height;} //this function will automatically considered inline\n",
    "};"
   ]
  },
  {
   "cell_type": "code",
   "execution_count": 17,
   "id": "58cc8ca3-c888-4703-bcbc-0496905871ba",
   "metadata": {
    "tags": []
   },
   "outputs": [
    {
     "name": "stdout",
     "output_type": "stream",
     "text": [
      "area: 12"
     ]
    }
   ],
   "source": [
    "void Rectangle::set_values (int x, int y) {\n",
    "  width = x;\n",
    "  height = y;\n",
    "}\n",
    "\n",
    "Rectangle rect;\n",
    "rect.set_values (3,4);\n",
    "cout << \"area: \" << rect.area();"
   ]
  },
  {
   "cell_type": "markdown",
   "id": "876b45f1-1208-4839-9412-32c66b2e6a54",
   "metadata": {},
   "source": [
    "The most important property of a class is that it is a type, and as such, we can declare multiple objects of it. For example, following with the previous example of class Rectangle, we could have declared the object rectb in addition to object rect:"
   ]
  },
  {
   "cell_type": "code",
   "execution_count": 18,
   "id": "55f502d2-4a4d-4e2f-a1b4-cc3e7931ab0e",
   "metadata": {
    "tags": []
   },
   "outputs": [
    {
     "name": "stdout",
     "output_type": "stream",
     "text": [
      "rect area: 12\n",
      "rectb area: 30\n"
     ]
    }
   ],
   "source": [
    "Rectangle rect, rectb;\n",
    "\n",
    "rect.set_values (3,4);\n",
    "rectb.set_values (5,6);\n",
    "\n",
    "cout << \"rect area: \";\n",
    "cout << rect.area() << \"\\n\";\n",
    "cout << \"rectb area: \";\n",
    "cout << rectb.area() << \"\\n\";"
   ]
  },
  {
   "cell_type": "markdown",
   "id": "9dd93c27-5b96-44df-904a-6d943dbb0d90",
   "metadata": {},
   "source": [
    "## Constructors\n",
    "What would happen in the previous example if we called the member function area before having called set_values? An undetermined result, since the members width and height had never been assigned a value.\n",
    "\n",
    "In order to avoid that, a class can include a special function called its constructor, which is automatically called whenever a new object of this class is created, allowing the class to initialize member variables or allocate storage.\n",
    "\n",
    "This constructor function is declared just like a regular member function, but with a name that matches the class name and without any return type; not even void.\n",
    "\n",
    "The Rectangle class above can easily be improved by implementing a constructor:"
   ]
  },
  {
   "cell_type": "code",
   "execution_count": 19,
   "id": "26ef73f5-eabd-4af5-a7c9-1b14bfd131d0",
   "metadata": {
    "tags": []
   },
   "outputs": [],
   "source": [
    "class Rectangle {\n",
    "    int width, height;\n",
    "  public:\n",
    "    Rectangle (int,int);\n",
    "    int area () {return (width*height);}\n",
    "};"
   ]
  },
  {
   "cell_type": "code",
   "execution_count": 20,
   "id": "65ed1c5e-abac-4b2a-aedd-5eb93dcc0d7f",
   "metadata": {
    "tags": []
   },
   "outputs": [],
   "source": [
    "Rectangle::Rectangle (int a, int b) {\n",
    "  width = a;\n",
    "  height = b;\n",
    "}"
   ]
  },
  {
   "cell_type": "code",
   "execution_count": 21,
   "id": "614a3655-58d6-410b-91c3-34b0ff8f3a4f",
   "metadata": {
    "tags": []
   },
   "outputs": [
    {
     "name": "stdout",
     "output_type": "stream",
     "text": [
      "rect area: 12\n",
      "rectb area: 30\n"
     ]
    }
   ],
   "source": [
    "Rectangle rect (3,4);\n",
    "Rectangle rectb (5,6);\n",
    "\n",
    "cout << \"rect area: \";\n",
    "cout << rect.area() << \"\\n\";\n",
    "cout << \"rectb area: \";\n",
    "cout << rectb.area() << \"\\n\";"
   ]
  },
  {
   "cell_type": "markdown",
   "id": "601ca7c3-3453-4eff-8e96-b3fd33bb9416",
   "metadata": {},
   "source": [
    "### Overloading constructors\n",
    "Like any other function, a constructor can also be overloaded with different versions taking different parameters: with a different number of parameters and/or parameters of different types. The compiler will automatically call the one whose parameters match the arguments:"
   ]
  },
  {
   "cell_type": "code",
   "execution_count": 22,
   "id": "7c2b2890-8e65-497f-a83c-846671543fc6",
   "metadata": {
    "tags": []
   },
   "outputs": [],
   "source": [
    "class Rectangle {\n",
    "    int width, height;\n",
    "  public:\n",
    "    Rectangle ();\n",
    "    Rectangle (int,int);\n",
    "    int area (void) {return (width*height);}\n",
    "};"
   ]
  },
  {
   "cell_type": "code",
   "execution_count": 24,
   "id": "8425f1ba-3f13-49b4-9e75-03946dccf559",
   "metadata": {
    "tags": []
   },
   "outputs": [],
   "source": [
    "Rectangle::Rectangle () {\n",
    "  width = 5;\n",
    "  height = 5;\n",
    "}"
   ]
  },
  {
   "cell_type": "code",
   "execution_count": 25,
   "id": "d2624be1-e954-42f7-8cbe-8c6995cc51b6",
   "metadata": {
    "tags": []
   },
   "outputs": [],
   "source": [
    "Rectangle::Rectangle (int a, int b) {\n",
    "  width = a;\n",
    "  height = b;\n",
    "}"
   ]
  },
  {
   "cell_type": "code",
   "execution_count": 26,
   "id": "cbde823f-d915-4bb2-a119-6390fd8b563d",
   "metadata": {
    "tags": []
   },
   "outputs": [
    {
     "name": "stdout",
     "output_type": "stream",
     "text": [
      "rect area: 12\n",
      "rectb area: 25\n"
     ]
    }
   ],
   "source": [
    "Rectangle rect (3,4);\n",
    "Rectangle rectb;\n",
    "\n",
    "cout << \"rect area: \";\n",
    "cout << rect.area() << \"\\n\";\n",
    "cout << \"rectb area: \";\n",
    "cout << rectb.area() << \"\\n\";"
   ]
  },
  {
   "cell_type": "markdown",
   "id": "280831d4-913d-46c2-98fa-05910c1164b3",
   "metadata": {},
   "source": [
    "In the above example, two objects of class Rectangle are constructed: rect and rectb. rect is constructed with two arguments, like in the example before.\n",
    "\n",
    "But this example also introduces a special kind constructor: the `default constructor`. The default constructor is the constructor that takes no parameters, and it is special because it is called when an object is declared but is not initialized with any arguments. In the example above, the default constructor is called for rectb. Note how rectb is not even constructed with an empty set of parentheses - in fact, empty parentheses cannot be used to call the default constructor:\n",
    "\n",
    "```cpp\n",
    "Rectangle rectb;   // ok, default constructor called\n",
    "Rectangle rectc(); // oops, default constructor NOT called\n",
    "```\n",
    "\n",
    "This is because the empty set of parentheses would make of rectc a function declaration instead of an object declaration: It would be a function that takes no arguments and returns a value of type Rectangle."
   ]
  },
  {
   "cell_type": "markdown",
   "id": "e4ef33f1-8581-484d-844d-d2c90f68765d",
   "metadata": {
    "tags": []
   },
   "source": [
    "### Uniform initialization\n",
    "The way of calling constructors by enclosing their arguments in parentheses, as shown above, is known as functional form. But constructors can also be called with other syntaxes:\n",
    "First, constructors with a single parameter can be called using the variable initialization syntax (an equal sign followed by the argument):\n",
    "\n",
    "    class_name object_name = initialization_value; \n",
    "\n",
    "More recently, C++ introduced the possibility of constructors to be called using uniform initialization, which essentially is the same as the functional form, but using braces ({}) instead of parentheses (()):\n",
    "\n",
    "    class_name object_name { value, value, value, ... } \n",
    "\n",
    "Optionally, this last syntax can include an equal sign before the braces.\n",
    "Here is an example with four ways to construct objects of a class whose constructor takes a single parameter:"
   ]
  },
  {
   "cell_type": "code",
   "execution_count": 42,
   "id": "3e19af3b-cda3-405e-992c-793b980f2aa0",
   "metadata": {
    "tags": []
   },
   "outputs": [],
   "source": [
    "class Circle {\n",
    "    double radius;\n",
    "  public:\n",
    "    Circle(double r) { radius = r; }\n",
    "    double circum() {return 2*radius*3.14159265;}\n",
    "};"
   ]
  },
  {
   "cell_type": "code",
   "execution_count": 47,
   "id": "f23b2079-4c50-4e05-b300-54c7cd8b67b4",
   "metadata": {
    "tags": []
   },
   "outputs": [
    {
     "name": "stdout",
     "output_type": "stream",
     "text": [
      "foo's circumference: 62.831853"
     ]
    }
   ],
   "source": [
    "Circle foo (10);   // functional form\n",
    "Circle bar = 20;   // assignment init.\n",
    "Circle baz {30};   // uniform init.\n",
    "Circle qux = {40}; // POD-like\n",
    "\n",
    "cout << \"foo's circumference: \" << to_string(foo.circum());"
   ]
  },
  {
   "cell_type": "markdown",
   "id": "04c0ea20-9f9d-430d-b5db-3fff8aa81258",
   "metadata": {},
   "source": [
    "An advantage of uniform initialization over functional form is that, unlike parentheses, braces cannot be confused with function declarations, and thus can be used to explicitly call default constructors:\n",
    "\n",
    "```cpp\n",
    "Rectangle rectb;   // default constructor called\n",
    "Rectangle rectc(); // function declaration (default constructor NOT called)\n",
    "Rectangle rectd{}; // default constructor called \n",
    "```\n",
    "\n",
    "The choice of syntax to call constructors is largely a matter of style. Most existing code currently uses functional form, and some newer style guides suggest to choose uniform initialization over the others, even though it also has its potential pitfalls for its preference of initializer_list as its type."
   ]
  },
  {
   "cell_type": "markdown",
   "id": "bc09dbe9-f79b-4d3d-bd0a-76de028d7cd5",
   "metadata": {},
   "source": [
    "### Member initialization in constructors\n",
    "When a constructor is used to initialize other members, these other members can be initialized directly, without resorting to statements in its body. This is done by inserting, before the constructor's body, a colon (:) and a list of initializations for class members. For example, consider a class with the following declaration:"
   ]
  },
  {
   "cell_type": "markdown",
   "id": "0f4d8914-0195-4c96-991a-858c22cd79a3",
   "metadata": {},
   "source": [
    "```cpp\n",
    "class Rectangle {\n",
    "    int width,height;\n",
    "  public:\n",
    "    Rectangle(int,int);\n",
    "    int area() {return width*height;}\n",
    "};\n",
    "```\n",
    "\n",
    "The constructor for this class could be defined, as usual, as:\n",
    "\n",
    "```cpp\n",
    "Rectangle::Rectangle (int x, int y) { width=x; height=y; }\n",
    "```\n",
    "\n",
    "But it could also be defined using member initialization as:\n",
    "\n",
    "```cpp\n",
    "Rectangle::Rectangle (int x, int y) : width(x) { height=y; }\n",
    "```\n",
    "\n",
    "Or even:\n",
    "\n",
    "```cpp\n",
    "Rectangle::Rectangle (int x, int y) : width(x), height(y) { }\n",
    "```\n",
    "\n",
    "For members of fundamental types, it makes no difference which of the ways above the constructor is defined, because they are not initialized by default, but for member objects (those whose type is a class), if they are not initialized after the colon, they are default-constructed.\n",
    "Default-constructing all members of a class may or may always not be convenient: in some cases, this is a waste (when the member is then reinitialized otherwise in the constructor), but in some other cases, default-construction is not even possible (when the class does not have a default constructor). In these cases, members shall be initialized in the member initialization list. For example:"
   ]
  },
  {
   "cell_type": "code",
   "execution_count": 56,
   "id": "2f3da262-953a-4802-9749-c1f13ffac315",
   "metadata": {
    "tags": []
   },
   "outputs": [],
   "source": [
    "class Circle {\n",
    "    double radius;\n",
    "  public:\n",
    "    Circle(double r) : radius(r) { }\n",
    "    double area() {return radius*radius*3.14159265;}\n",
    "};\n",
    "\n",
    "class Cylinder {\n",
    "    Circle base;\n",
    "    double height;\n",
    "  public:\n",
    "    Cylinder(double r, double h) : base (r), height(h) {}\n",
    "    double volume() {return base.area() * height;}\n",
    "};"
   ]
  },
  {
   "cell_type": "code",
   "execution_count": 58,
   "id": "f16443c2-f143-47a9-be49-4786d21a8ba1",
   "metadata": {
    "tags": []
   },
   "outputs": [
    {
     "name": "stdout",
     "output_type": "stream",
     "text": [
      "foo's volume: 6283.185300\n"
     ]
    }
   ],
   "source": [
    "Cylinder foo (10,20);\n",
    "\n",
    "cout << \"foo's volume: \" << to_string(foo.volume()) << '\\n';"
   ]
  },
  {
   "cell_type": "markdown",
   "id": "22f6c9bb-5520-41ce-b7fb-52ad30cd5d26",
   "metadata": {},
   "source": [
    "In this example, class Cylinder has a member object whose type is another class (base's type is Circle). Because objects of class Circle can only be constructed with a parameter, Cylinder's constructor needs to call base's constructor, and the only way to do this is in the member initializer list.\n",
    "\n",
    "These initializations can also use uniform initializer syntax, using braces {} instead of parentheses ():\n",
    "\n",
    "```cpp\n",
    "Cylinder::Cylinder (double r, double h) : base{r}, height{h} { }\n",
    "```"
   ]
  },
  {
   "cell_type": "markdown",
   "id": "558d9a93-4eec-4f82-9dc4-ed38026b53f7",
   "metadata": {},
   "source": [
    "## Pointers to classes\n",
    "Objects can also be pointed to by pointers: Once declared, a class becomes a valid type, so it can be used as the type pointed to by a pointer. For example: "
   ]
  },
  {
   "cell_type": "code",
   "execution_count": 59,
   "id": "f49c0e36-548e-49c2-83eb-ab2d20a691a3",
   "metadata": {
    "tags": []
   },
   "outputs": [],
   "source": [
    "Rectangle * prect;"
   ]
  },
  {
   "cell_type": "markdown",
   "id": "7eea1285-e522-46a2-b70e-00859c09d0e4",
   "metadata": {},
   "source": [
    "is a pointer to an object of class Rectangle.\n",
    "\n",
    "Similarly as with plain data structures, the members of an object can be accessed directly from a pointer by using the arrow operator (->). Here is an example with some possible combinations:"
   ]
  },
  {
   "cell_type": "code",
   "execution_count": 60,
   "id": "b0449643-6a76-4616-af25-9e3ec142df5d",
   "metadata": {
    "tags": []
   },
   "outputs": [],
   "source": [
    "class Rectangle {\n",
    "  int width, height;\n",
    "public:\n",
    "  Rectangle(int x, int y) : width(x), height(y) {}\n",
    "  int area(void) { return width * height; }\n",
    "};"
   ]
  },
  {
   "cell_type": "code",
   "execution_count": 63,
   "id": "e8e7d786-a7dd-41e4-9712-63f607094597",
   "metadata": {
    "tags": []
   },
   "outputs": [
    {
     "name": "stdout",
     "output_type": "stream",
     "text": [
      "obj's area: 12\n",
      "*foo's area: 12\n",
      "*bar's area: 30\n",
      "baz[0]'s area:10\n",
      "baz[1]'s area:18\n"
     ]
    }
   ],
   "source": [
    "Rectangle obj (3, 4);\n",
    "Rectangle * foo, * bar, * baz;\n",
    "foo = &obj;\n",
    "bar = new Rectangle (5, 6);\n",
    "baz = new Rectangle[2] { {2,5}, {3,6} };\n",
    "\n",
    "cout << \"obj's area: \" << to_string( obj.area() ) << '\\n';\n",
    "cout << \"*foo's area: \" << to_string( foo->area() ) << '\\n';\n",
    "cout << \"*bar's area: \" << to_string( bar->area() ) << '\\n';\n",
    "cout << \"baz[0]'s area:\" << to_string( baz[0].area() ) << '\\n';\n",
    "cout << \"baz[1]'s area:\" << to_string( baz[1].area() ) << '\\n';\n",
    "\n",
    "delete bar;\n",
    "delete[] baz;"
   ]
  },
  {
   "cell_type": "markdown",
   "id": "a086da47-ba52-4377-b893-bb11a037368e",
   "metadata": {},
   "source": [
    "This example makes use of several operators to operate on objects and pointers (operators *, &, ., ->, []). They can be interpreted as:\n",
    "\n",
    "| expression | can be read as |\n",
    "|--|--|\n",
    "| *x | pointed to by x |\n",
    "| &x | address of x |\n",
    "| x.y | member y of object x |\n",
    "| x->y | member y of object pointed to by x |\n",
    "| (*x).y | member y of object pointed to by x (equivalent to the previous one) |\n",
    "| x[0] | first object pointed to by x |\n",
    "| x[1] | second object pointed to by x |\n",
    "| x[n] | (n+1)th object pointed to by x |\n"
   ]
  },
  {
   "cell_type": "markdown",
   "id": "3acdaa87-47b0-48f8-b9a4-4025250f1752",
   "metadata": {},
   "source": [
    "## Classes defined with struct\n",
    "\n",
    "Classes can be defined not only with keyword class, but also with keywords struct.\n",
    "\n",
    "The keyword struct, generally used to declare plain data structures, can also be used to declare classes that have member functions, with the same syntax as with keyword class. \n",
    "\n",
    "The only difference between both is that members of classes declared with the keyword struct have public access by default, while members of classes declared with the keyword class have private access by default. For all other purposes both keywords are equivalent in this context."
   ]
  },
  {
   "cell_type": "markdown",
   "id": "7cf428bf-b1fc-4ab4-ad03-804bd4b374a9",
   "metadata": {},
   "source": [
    "## Overloading operators\n",
    "Classes, essentially, define new types to be used in C++ code. And types in C++ not only interact with code by means of constructions and assignments. They also interact by means of operators. For example, take the following operation on fundamental types:\n",
    "```cpp\n",
    "int a, b, c;\n",
    "a = b + c;\n",
    "```\n",
    "Here, different variables of a fundamental type (int) are applied the addition operator, and then the assignment operator. For a fundamental arithmetic type, the meaning of such operations is generally obvious and unambiguous, but it may not be so for certain class types. For example:\n",
    "```cpp\n",
    "struct myclass {\n",
    "  string product;\n",
    "  float price;\n",
    "} a, b, c;\n",
    "a = b + c;\n",
    "```\n",
    "\n",
    "Here, it is not obvious what the result of the addition operation on b and c does. In fact, this code alone would cause a compilation error, since the type myclass has no defined behavior for additions. However, C++ allows most operators to be overloaded so that their behavior can be defined for just about any type, including classes. Here is a list of all the operators that can be overloaded:\n",
    "\n",
    "    +, -, *, /, %, ^, &, |, ~, !, =, <, >, <=, >=, ++, --, <<, >>, ==, !=, &&, ||, +=, -=, /=, %=, ^=, &=, |=, *=, <<=, >>=, [], (), ->, ->*, new, new [], delete, delete []\n",
    "\n",
    "Following is the list of operators, which can not be overloaded:\n",
    "\n",
    "    ::, .*, ., ?:\n",
    "\n",
    "Operators are overloaded by means of operator functions, which are regular functions with special names: their name begins by the operator keyword followed by the operator sign that is overloaded. The syntax is:\n",
    "\n",
    "    type operator sign (parameters) { /*... body ...*/ } \n",
    "    \n",
    "For example, cartesian vectors are sets of two coordinates: x and y. The addition operation of two cartesian vectors is defined as the addition both x coordinates together, and both y coordinates together. For example, adding the cartesian vectors (3,1) and (1,2) together would result in (3+1,1+2) = (4,3). This could be implemented in C++ with the following code:"
   ]
  },
  {
   "cell_type": "code",
   "execution_count": 72,
   "id": "67f0a2b9-79a0-45c0-8d04-94681a51ed30",
   "metadata": {
    "tags": []
   },
   "outputs": [],
   "source": [
    "class CVector {\n",
    "  public:\n",
    "    int x,y;\n",
    "    CVector () {};\n",
    "    CVector (int a,int b) : x(a), y(b) {}\n",
    "    CVector operator + (const CVector& other) { \n",
    "        return CVector {x + other.x, y + other.y};\n",
    "    };\n",
    "};"
   ]
  },
  {
   "cell_type": "code",
   "execution_count": 73,
   "id": "b198562f-dc76-4e42-9897-58c53c3e3672",
   "metadata": {
    "tags": []
   },
   "outputs": [
    {
     "name": "stdout",
     "output_type": "stream",
     "text": [
      "4,3\n"
     ]
    }
   ],
   "source": [
    "CVector foo (3,1);\n",
    "CVector bar (1,2);\n",
    "CVector result;\n",
    "\n",
    "result = foo + bar;\n",
    "\n",
    "cout << result.x << ',' << result.y << '\\n';"
   ]
  },
  {
   "cell_type": "markdown",
   "id": "ecd2fc32-2596-4f5d-836b-229d1d18bc7f",
   "metadata": {},
   "source": [
    "## The keyword this\n",
    "The keyword this represents a pointer to the object whose member function is being executed. It is used within a class's member function to refer to the object itself.\n",
    "One of its uses can be to check if a parameter passed to a member function is the object itself. For example:"
   ]
  },
  {
   "cell_type": "code",
   "execution_count": 74,
   "id": "8ef817d1-20bb-4e30-bc03-65c2846ffb28",
   "metadata": {
    "tags": []
   },
   "outputs": [],
   "source": [
    "class Dummy {\n",
    "  public:\n",
    "    bool isitme (Dummy& param);\n",
    "};"
   ]
  },
  {
   "cell_type": "code",
   "execution_count": 75,
   "id": "c2f1b892-dddc-4ae2-adab-96be8532f1cc",
   "metadata": {
    "tags": []
   },
   "outputs": [],
   "source": [
    "bool Dummy::isitme (Dummy& param)\n",
    "{\n",
    "  if (&param == this) return true;\n",
    "  else return false;\n",
    "}"
   ]
  },
  {
   "cell_type": "code",
   "execution_count": 79,
   "id": "e37b3968-3da9-4606-a989-76865e123028",
   "metadata": {
    "tags": []
   },
   "outputs": [
    {
     "name": "stdout",
     "output_type": "stream",
     "text": [
      "yes, &a is b\n"
     ]
    }
   ],
   "source": [
    "Dummy a;\n",
    "Dummy* b = &a;\n",
    "if ( b->isitme(a) )\n",
    "    cout << \"yes, &a is b\\n\";"
   ]
  },
  {
   "cell_type": "markdown",
   "id": "6cdb04a5-1e68-4576-9975-6539099ed5af",
   "metadata": {},
   "source": [
    "It is also frequently used in operator= member functions that return objects by reference. Following with the examples on cartesian vector seen before, its operator= function could have been defined as:"
   ]
  },
  {
   "cell_type": "code",
   "execution_count": null,
   "id": "a229c953-02a3-44c9-8ab4-6975855e6295",
   "metadata": {
    "tags": []
   },
   "outputs": [],
   "source": [
    "CVector& CVector::operator= (const CVector& param)\n",
    "{\n",
    "  x=param.x;\n",
    "  y=param.y;\n",
    "  return *this;\n",
    "}"
   ]
  },
  {
   "cell_type": "markdown",
   "id": "75018368-c44f-4aa6-a768-ecd5140932d6",
   "metadata": {},
   "source": [
    "n fact, this function is very similar to the code that the compiler generates implicitly for this class for operator=."
   ]
  },
  {
   "cell_type": "markdown",
   "id": "631c97ed-1dc4-4369-8510-9478cb70e184",
   "metadata": {},
   "source": [
    "## Static members\n",
    "A class can contain static members, either data or functions.\n",
    "A static data member of a class is also known as a \"class variable\", because there is only one common variable for all the objects of that same class, sharing the same value: i.e., its value is not different from one object of this class to another.\n",
    "For example, it may be used for a variable within a class that can contain a counter with the number of objects of that class that are currently allocated, as in the following example:"
   ]
  },
  {
   "cell_type": "code",
   "execution_count": 94,
   "id": "5cb07e17-dcab-4c83-b52b-9a5cd9f7d11b",
   "metadata": {
    "tags": []
   },
   "outputs": [],
   "source": [
    "class Dummy {\n",
    "  public:\n",
    "    static int n;\n",
    "    Dummy () { n++; };\n",
    "};"
   ]
  },
  {
   "cell_type": "markdown",
   "id": "3a1287dd-7604-4c5a-ac2d-8934b222df7b",
   "metadata": {},
   "source": [
    "In fact, static members have the same properties as non-member variables but they enjoy class scope. For that reason, and to avoid them to be declared several times, they cannot be initialized directly in the class, but need to be initialized somewhere outside it. As in the this example:"
   ]
  },
  {
   "cell_type": "code",
   "execution_count": null,
   "id": "3251af4d-a01d-4d15-a9d5-405197b5e1a1",
   "metadata": {
    "tags": []
   },
   "outputs": [],
   "source": [
    "int Dummy::n=0;"
   ]
  },
  {
   "cell_type": "markdown",
   "id": "5b9e072a-c906-4039-8c87-530f92ea2c89",
   "metadata": {},
   "source": [
    "Because it is a common variable value for all the objects of the same class, it can be referred to as a member of any object of that class or even directly by the class name (of course this is only valid for static members):"
   ]
  },
  {
   "cell_type": "code",
   "execution_count": null,
   "id": "1dd59556-7989-4165-9ba6-dd963bf5a0ac",
   "metadata": {
    "tags": []
   },
   "outputs": [],
   "source": [
    "cout << a.n;\n",
    "cout << Dummy::n;"
   ]
  },
  {
   "cell_type": "markdown",
   "id": "75fa3301-8e2c-4a0b-87db-3e033d6a1229",
   "metadata": {},
   "source": [
    "## Const member functions\n",
    "When an object of a class is qualified as a const object:\n",
    "\n",
    "    const MyClass myobject;\n",
    "    \n",
    "The access to its data members from outside the class is restricted to read-only, as if all its data members were const for those accessing them from outside the class. Note though, that the constructor is still called and is allowed to initialize and modify these data members:"
   ]
  },
  {
   "cell_type": "code",
   "execution_count": 96,
   "id": "7023c8b9-e647-40b2-902f-f66c39f43622",
   "metadata": {
    "tags": []
   },
   "outputs": [],
   "source": [
    "class MyClass {\n",
    "  public:\n",
    "    int x;\n",
    "    MyClass(int val) : x(val) {}\n",
    "    int get() {return x;}\n",
    "};"
   ]
  },
  {
   "cell_type": "code",
   "execution_count": 97,
   "id": "d03299e3-d1d1-4ca7-8ef4-b78aac1a909c",
   "metadata": {
    "tags": []
   },
   "outputs": [],
   "source": [
    "const MyClass foo(10);"
   ]
  },
  {
   "cell_type": "code",
   "execution_count": null,
   "id": "290ce7bf-84ad-4d8d-bb59-8e2a71f6eb04",
   "metadata": {
    "tags": []
   },
   "outputs": [],
   "source": [
    "foo.x = 20;            // not valid: x cannot be modified"
   ]
  },
  {
   "cell_type": "code",
   "execution_count": 99,
   "id": "75f31807-c0ca-47a0-a33a-ba4137587a57",
   "metadata": {
    "tags": []
   },
   "outputs": [
    {
     "name": "stdout",
     "output_type": "stream",
     "text": [
      "10\n"
     ]
    }
   ],
   "source": [
    "cout << foo.x << '\\n';"
   ]
  },
  {
   "cell_type": "code",
   "execution_count": null,
   "id": "d1ce918b-b2a9-4fbd-b8d3-604b5f2bf34c",
   "metadata": {
    "tags": []
   },
   "outputs": [],
   "source": [
    "foo.get();           // not valid: get() not const"
   ]
  },
  {
   "cell_type": "markdown",
   "id": "a886cb7b-eea6-4e38-86df-56cf7c39f563",
   "metadata": {},
   "source": [
    "The member functions of a const object can only be called if they are themselves specified as const members; in the example above, member get (which is not specified as const) cannot be called from foo. To specify that a member is a const member, the const keyword shall follow the function prototype, after the closing parenthesis for its parameters:\n",
    "```cpp\n",
    "int get() const {return x;}\n",
    "```\n",
    "Note that const can be used to qualify the type returned by a member function. This const is not the same as the one which specifies a member as const. Both are independent and are located at different places in the function prototype:\n",
    "```cpp\n",
    "int get() const {return x;}        // const member function\n",
    "const int& get() {return x;}       // member function returning a const&\n",
    "const int& get() const {return x;} // const member function returning a const& \n",
    "```\n",
    "Member functions specified to be const cannot modify non-static data members nor call other non-const member functions. In essence, const members shall not modify the state of an object.\n",
    "const objects are limited to access only member functions marked as const, but non-const objects are not restricted and thus can access both const and non-const member functions alike.\n",
    "\n",
    "You may think that anyway you are seldom going to declare const objects, and thus marking all members that don't modify the object as const is not worth the effort, but const objects are actually very common. Most functions taking classes as parameters actually take them by const reference, and thus, these functions can only access their const members:"
   ]
  },
  {
   "cell_type": "code",
   "execution_count": 102,
   "id": "ae906fe9-c00c-400d-b0c9-ee9dd26f8ac3",
   "metadata": {
    "tags": []
   },
   "outputs": [],
   "source": [
    "class MyClass {\n",
    "    int x;\n",
    "  public:\n",
    "    MyClass(int val) : x(val) {}\n",
    "    const int& get() const {return x;}\n",
    "};"
   ]
  },
  {
   "cell_type": "code",
   "execution_count": 103,
   "id": "05e82563-16a1-4bc8-8819-a64e4343cd6d",
   "metadata": {
    "tags": []
   },
   "outputs": [],
   "source": [
    "void print (const MyClass& arg) {\n",
    "  cout << arg.get() << '\\n';\n",
    "}"
   ]
  },
  {
   "cell_type": "code",
   "execution_count": 104,
   "id": "86766e1d-b90b-4be9-b948-7727eea55b61",
   "metadata": {
    "tags": []
   },
   "outputs": [
    {
     "name": "stdout",
     "output_type": "stream",
     "text": [
      "10\n"
     ]
    }
   ],
   "source": [
    "MyClass foo (10);\n",
    "print(foo);"
   ]
  },
  {
   "cell_type": "markdown",
   "id": "a75c1eeb-da62-4aeb-a4cb-c5e50cff6e7e",
   "metadata": {},
   "source": [
    "Member functions can be overloaded on their constness: i.e., a class may have two member functions with identical signatures except that one is const and the other is not: in this case, the const version is called only when the object is itself const, and the non-const version is called when the object is itself non-const."
   ]
  },
  {
   "cell_type": "code",
   "execution_count": 105,
   "id": "9eeb7631-8d78-4d32-b925-3d05bb7f0d0d",
   "metadata": {
    "tags": []
   },
   "outputs": [],
   "source": [
    "class MyClass {\n",
    "    int x;\n",
    "  public:\n",
    "    MyClass(int val) : x(val) {}\n",
    "    const int& get() const {return x;}\n",
    "    int& get() {return x;}\n",
    "};"
   ]
  },
  {
   "cell_type": "code",
   "execution_count": 109,
   "id": "5a491516-30ba-4ff0-aa38-82a90c0f789e",
   "metadata": {
    "tags": []
   },
   "outputs": [
    {
     "name": "stdout",
     "output_type": "stream",
     "text": [
      "15\n",
      "20\n"
     ]
    }
   ],
   "source": [
    "MyClass foo (10);\n",
    "const MyClass bar (20);\n",
    "foo.get() = 15;         // ok: get() returns int&\n",
    "// bar.get() = 25;        // not valid: get() returns const int&\n",
    "\n",
    "cout << foo.get() << '\\n';\n",
    "cout << bar.get() << '\\n';"
   ]
  }
 ],
 "metadata": {
  "kernelspec": {
   "display_name": "C++17",
   "language": "C++17",
   "name": "xcpp17"
  },
  "language_info": {
   "codemirror_mode": "text/x-c++src",
   "file_extension": ".cpp",
   "mimetype": "text/x-c++src",
   "name": "c++",
   "version": "17"
  }
 },
 "nbformat": 4,
 "nbformat_minor": 5
}
