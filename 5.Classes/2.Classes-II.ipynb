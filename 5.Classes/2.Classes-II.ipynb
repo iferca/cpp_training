{
 "cells": [
  {
   "cell_type": "code",
   "execution_count": 1,
   "id": "3247f974-829f-4720-a35a-631d67896166",
   "metadata": {
    "tags": []
   },
   "outputs": [],
   "source": [
    "#include <iostream>\n",
    "#include <string>\n",
    "\n",
    "using namespace std;"
   ]
  },
  {
   "cell_type": "markdown",
   "id": "4d00ce24-719f-4458-8558-7e2aa6e9a9db",
   "metadata": {},
   "source": [
    "# Class templates\n",
    "Just like we can create function templates, we can also create class templates, allowing classes to have members that use template parameters as types. For example: "
   ]
  },
  {
   "cell_type": "code",
   "execution_count": 2,
   "id": "95dd8d7c-382c-4caa-9cbe-89e4073f5e89",
   "metadata": {
    "tags": []
   },
   "outputs": [],
   "source": [
    "template <class T>\n",
    "class mypair {\n",
    "    T values [2];\n",
    "  public:\n",
    "    mypair (T first, T second)\n",
    "    {\n",
    "      values[0]=first; values[1]=second;\n",
    "    }\n",
    "};"
   ]
  },
  {
   "cell_type": "markdown",
   "id": "a5874ea5-2ec4-41d0-9b8b-6fc0f71a93de",
   "metadata": {},
   "source": [
    "The class that we have just defined serves to store two elements of any valid type. For example, if we wanted to declare an object of this class to store two integer values of type int with the values 115 and 36 we would write:"
   ]
  },
  {
   "cell_type": "code",
   "execution_count": 3,
   "id": "554470c6-d0fd-4c19-988f-445130fa1743",
   "metadata": {
    "tags": []
   },
   "outputs": [],
   "source": [
    "mypair<int> myobject (115, 36);"
   ]
  },
  {
   "cell_type": "markdown",
   "id": "21599075-f5c7-43af-aa22-1669e6d9c4a6",
   "metadata": {},
   "source": [
    "This same class could also be used to create an object to store any other type, such as:"
   ]
  },
  {
   "cell_type": "code",
   "execution_count": 4,
   "id": "08e41a01-46e3-4c67-be5f-797e06476bcd",
   "metadata": {
    "tags": []
   },
   "outputs": [],
   "source": [
    "mypair<double> myfloats (3.0, 2.18);"
   ]
  },
  {
   "cell_type": "markdown",
   "id": "9ed11162-f2ac-4f7a-9cdf-4e5710bbf0f8",
   "metadata": {},
   "source": [
    "The constructor is the only member function in the previous class template and it has been defined inline within the class definition itself. In case that a member function is defined outside the defintion of the class template, it shall be preceded with the template <...> prefix:"
   ]
  },
  {
   "cell_type": "code",
   "execution_count": 6,
   "id": "858de8e9-a308-4303-9bba-ed671a5b1cc0",
   "metadata": {
    "tags": []
   },
   "outputs": [],
   "source": [
    "template <class T>\n",
    "class mypair {\n",
    "    T a, b;\n",
    "  public:\n",
    "    mypair (T first, T second) {a=first; b=second;}\n",
    "    T getmax ();\n",
    "};"
   ]
  },
  {
   "cell_type": "code",
   "execution_count": 7,
   "id": "dc80e9b6-d6b0-476d-adf4-508217f4dd11",
   "metadata": {
    "tags": []
   },
   "outputs": [],
   "source": [
    "template <class T>\n",
    "T mypair<T>::getmax ()\n",
    "{\n",
    "  return a>b? a : b;\n",
    "}"
   ]
  },
  {
   "cell_type": "code",
   "execution_count": 8,
   "id": "8ab0773d-402f-418a-bbb6-5be065b27c08",
   "metadata": {
    "tags": []
   },
   "outputs": [
    {
     "name": "stdout",
     "output_type": "stream",
     "text": [
      "100"
     ]
    }
   ],
   "source": [
    "mypair <int> myobject (100, 75);\n",
    "cout << myobject.getmax();"
   ]
  },
  {
   "cell_type": "markdown",
   "id": "545ef97c-7d02-465b-9868-1a84abf9f488",
   "metadata": {},
   "source": [
    "Notice the syntax of the definition of member function getmax:\n",
    "```cpp\n",
    "template <class T>\n",
    "T mypair<T>::getmax ()\n",
    "```\n",
    "Confused by so many T's? There are three T's in this declaration: The first one is the template parameter. The second T refers to the type returned by the function. And the third T (the one between angle brackets) is also a requirement: It specifies that this function's template parameter is also the class template parameter."
   ]
  },
  {
   "cell_type": "markdown",
   "id": "30e31599-b663-4895-a665-2d30654e7fa4",
   "metadata": {},
   "source": [
    "## Template specialization\n",
    "It is possible to define a different implementation for a template when a specific type is passed as template argument. This is called a template specialization.\n",
    "For example, let's suppose that we have a very simple class called mycontainer that can store one element of any type and that has just one member function called increase, which increases its value. But we find that when it stores an element of type char it would be more convenient to have a completely different implementation with a function member uppercase, so we decide to declare a class template specialization for that type:"
   ]
  },
  {
   "cell_type": "code",
   "execution_count": 5,
   "id": "a0e30224-2c3b-4f6d-b870-9d94d2261429",
   "metadata": {
    "tags": []
   },
   "outputs": [],
   "source": [
    "// class template:\n",
    "template <class T>\n",
    "class mycontainer {\n",
    "    T element;\n",
    "  public:\n",
    "    mycontainer (T arg) {element=arg;}\n",
    "    T increase () {return ++element;}\n",
    "};"
   ]
  },
  {
   "cell_type": "code",
   "execution_count": 6,
   "id": "da9d22fb-784c-4f29-a0da-e5408569f053",
   "metadata": {
    "tags": []
   },
   "outputs": [],
   "source": [
    "// class template specialization:\n",
    "template <>\n",
    "class mycontainer <char> {\n",
    "    char element;\n",
    "  public:\n",
    "    mycontainer (char arg) {element=arg;}\n",
    "    char uppercase ()\n",
    "    {\n",
    "      if ((element>='a')&&(element<='z'))\n",
    "      element+='A'-'a';\n",
    "      return element;\n",
    "    }\n",
    "};"
   ]
  },
  {
   "cell_type": "code",
   "execution_count": 8,
   "id": "8e4651d5-1569-4a33-90ed-b0c305f14741",
   "metadata": {
    "tags": []
   },
   "outputs": [
    {
     "name": "stdout",
     "output_type": "stream",
     "text": [
      "8\n",
      "H\n"
     ]
    }
   ],
   "source": [
    "mycontainer<int> myint (7);\n",
    "mycontainer<char> mychar ('h');\n",
    "\n",
    "cout << myint.increase() << endl;\n",
    "cout << mychar.uppercase() << endl;"
   ]
  },
  {
   "cell_type": "markdown",
   "id": "cc67eba8-d389-4850-94ff-aeccdea47440",
   "metadata": {},
   "source": [
    "This is the syntax used for the class template specialization:\n",
    "```cpp\n",
    "template <> class mycontainer <char> { ... };\n",
    "```\n",
    "First of all, notice that we precede the class name with template<> , including an empty parameter list. This is because all types are known and no template arguments are required for this specialization, but still, it is the specialization of a class template, and thus it requires to be noted as such.\n",
    "But more important than this prefix, is the <char> specialization parameter after the class template name. This specialization parameter itself identifies the type for which the template class is being specialized (char). Notice the differences between the generic class template and the specialization:\n",
    "```cpp    \n",
    "template <class T> class mycontainer { ... };\n",
    "\n",
    "template <> class mycontainer <char> { ... };\n",
    "```\n",
    "The first line is the generic template, and the second one is the specialization.\n",
    "When we declare specializations for a template class, we must also define all its members, even those identical to the generic template class, because there is no \"inheritance\" of members from the generic template to the specialization."
   ]
  },
  {
   "cell_type": "markdown",
   "id": "9cb7c315-c1dd-43ea-8381-7dca92ad74a7",
   "metadata": {},
   "source": [
    "# Special members\n",
    "Special member functions are member functions that are implicitly defined as member of classes under certain circumstances. There are six:\n",
    "\n",
    "| Member function | typical form for class C: |\n",
    "| -- | -- |\n",
    "| Default constructor | C::C(); |\n",
    "| Destructor | C::~C(); |\n",
    "| Copy constructor | C::C (const C&); |\n",
    "| Copy assignment | C& operator= (const C&); |\n",
    "| Move constructor | C::C (C&&); |\n",
    "| Move assignment | C& operator= (C&&); |\n",
    "\n",
    "Let's examine each of these:"
   ]
  },
  {
   "cell_type": "markdown",
   "id": "d68c6ee3-55ef-4b4b-912f-de0b85455fee",
   "metadata": {},
   "source": [
    "## Default constructor\n",
    "The default constructor is the constructor called when objects of a class are declared, but are not initialized with any arguments.\n",
    "If a class definition has no constructors, the compiler assumes the class to have an implicitly defined default constructor. Therefore, after declaring a class like this:\n",
    "```cpp\n",
    "class Example {\n",
    "  public:\n",
    "    int total;\n",
    "    void accumulate (int x) { total += x; }\n",
    "};\n",
    "```\n",
    "The compiler assumes that Example has a default constructor. Therefore, objects of this class can be constructed by simply declaring them without any arguments:\n",
    "```cpp\n",
    "Example ex;\n",
    "```\n",
    "But as soon as a class has some constructor taking any number of parameters explicitly declared, the compiler no longer provides an implicit default constructor, and no longer allows the declaration of new objects of that class without arguments. For example, the following class:\n",
    "```cpp\n",
    "class Example2 {\n",
    "  public:\n",
    "    int total;\n",
    "    Example2 (int initial_value) : total(initial_value) { };\n",
    "    void accumulate (int x) { total += x; };\n",
    "};\n",
    "```\n",
    "Here, we have declared a constructor with a parameter of type int. Therefore the following object declaration would be correct:\n",
    "```cpp\n",
    "Example2 ex (100);   // ok: calls constructor\n",
    "```\n",
    "But the following:\n",
    "```cpp\n",
    "Example2 ex;         // not valid: no default constructor \n",
    "```\n",
    "Would not be valid, since the class has been declared with an explicit constructor taking one argument and that replaces the implicit default constructor taking none.\n",
    "Therefore, if objects of this class need to be constructed without arguments, the proper default constructor shall also be declared in the class. For example:"
   ]
  },
  {
   "cell_type": "code",
   "execution_count": 15,
   "id": "ccac0a64-fcd4-4985-a573-bb579b7e89b3",
   "metadata": {
    "tags": []
   },
   "outputs": [],
   "source": [
    "class Example3 {\n",
    "    string data;\n",
    "  public:\n",
    "    Example3 (const string& str) : data(str) {}\n",
    "    Example3() {}\n",
    "    const string& content() const {return data;}\n",
    "};"
   ]
  },
  {
   "cell_type": "code",
   "execution_count": 16,
   "id": "c79f9d36-9b5a-4abc-ac90-594934750ccf",
   "metadata": {
    "tags": []
   },
   "outputs": [
    {
     "name": "stdout",
     "output_type": "stream",
     "text": [
      "bar's content: Example\n"
     ]
    }
   ],
   "source": [
    "Example3 foo;\n",
    "Example3 bar (\"Example\");\n",
    "\n",
    "cout << \"bar's content: \" << bar.content() << '\\n';"
   ]
  },
  {
   "cell_type": "markdown",
   "id": "2401e2e5-6e95-4b86-8226-73c68869bd82",
   "metadata": {},
   "source": [
    "Here, Example3 has a default constructor (i.e., a constructor without parameters) defined as an empty block:\n",
    "```cpp\n",
    "Example3() {}\n",
    "```\n",
    "This allows objects of class Example3 to be constructed without arguments (like foo was declared in this example). Normally, a default constructor like this is implicitly defined for all classes that have no other constructors and thus no explicit definition is required. But in this case, Example3 has another constructor:\n",
    "```cpp\n",
    "Example3 (const string& str);\n",
    "```\n",
    "And when any constructor is explicitly declared in a class, no implicit default constructors is automatically provided."
   ]
  },
  {
   "cell_type": "markdown",
   "id": "cd25fbac-4323-4359-94a1-7b9623a34cbb",
   "metadata": {},
   "source": [
    "## Destructor\n",
    "Destructors fulfill the opposite functionality of constructors: They are responsible for the necessary cleanup needed by a class when its lifetime ends. The classes we have defined in previous chapters did not allocate any resource and thus did not really require any clean up.\n",
    "But now, let's imagine that the class in the last example allocates dynamic memory to store the string it had as data member; in this case, it would be very useful to have a function called automatically at the end of the object's life in charge of releasing this memory. To do this, we use a destructor. A destructor is a member function very similar to a default constructor: it takes no arguments and returns nothing, not even void. It also uses the class name as its own name, but preceded with a tilde sign (~):"
   ]
  },
  {
   "cell_type": "code",
   "execution_count": 17,
   "id": "566595e9-2335-413c-9e65-19f76a018d2f",
   "metadata": {
    "tags": []
   },
   "outputs": [],
   "source": [
    "class Example4 {\n",
    "    string* ptr;\n",
    "  public:\n",
    "    // constructors:\n",
    "    Example4() : ptr(new string) {}\n",
    "    Example4 (const string& str) : ptr(new string(str)) {}\n",
    "    // destructor:\n",
    "    ~Example4 () {delete ptr;}\n",
    "    // access content:\n",
    "    const string& content() const {return *ptr;}\n",
    "};"
   ]
  },
  {
   "cell_type": "code",
   "execution_count": 18,
   "id": "694b28e9-dab4-4ac3-963a-b37989828442",
   "metadata": {
    "tags": []
   },
   "outputs": [
    {
     "name": "stdout",
     "output_type": "stream",
     "text": [
      "bar's content: Example\n"
     ]
    }
   ],
   "source": [
    "Example4 foo;\n",
    "Example4 bar (\"Example\");\n",
    "\n",
    "cout << \"bar's content: \" << bar.content() << '\\n';"
   ]
  },
  {
   "cell_type": "markdown",
   "id": "2ebc3294-ac67-4a66-9f98-2cdf804745cf",
   "metadata": {},
   "source": [
    "On construction, Example4 allocates storage for a string. Storage that is later released by the destructor.\n",
    "The destructor for an object is called at the end of its lifetime; in the case of foo and bar this happens at the end of function main."
   ]
  },
  {
   "cell_type": "markdown",
   "id": "2f1a4823-0483-4547-a87f-63b70fbb538f",
   "metadata": {},
   "source": [
    "## Copy constructor\n",
    "When an object is passed a named object of its own type as argument, its copy constructor is invoked in order to construct a copy.\n",
    "A copy constructor is a constructor whose first parameter is of type reference to the class itself (possibly const qualified) and which can be invoked with a single argument of this type. For example, for a class MyClass, the copy constructor may have the following signature:\n",
    "MyClass::MyClass (const MyClass&);\n",
    "If a class has no custom copy nor move constructors (or assignments) defined, an implicit copy constructor is provided. This copy constructor simply performs a copy of its own members. For example, for a class such as:\n",
    "```cpp\n",
    "class MyClass {\n",
    "  public:\n",
    "    int a, b; string c;\n",
    "};\n",
    "```\n",
    "\n",
    "An implicit copy constructor is automatically defined. The definition assumed for this function performs a shallow copy, roughly equivalent to:\n",
    "```cpp\n",
    "MyClass::MyClass(const MyClass& x) : a(x.a), b(x.b), c(x.c) {}\n",
    "```\n",
    "This default copy constructor may suit the needs of many classes. But shallow copies only copy the members of the class themselves, and this is probably not what we expect for classes like class Example4 we defined above, because it contains pointers of which it handles its storage. For that class, performing a shallow copy means that the pointer value is copied, but not the content itself; This means that both objects (the copy and the original) would be sharing a single string object (they would both be pointing to the same object), and at some point (on destruction) both objects would try to delete the same block of memory, probably causing the program to crash on runtime. This can be solved by defining the following custom copy constructor that performs a deep copy:"
   ]
  },
  {
   "cell_type": "code",
   "execution_count": 19,
   "id": "3f8a5ec7-43c8-4338-81ed-77c286b02de9",
   "metadata": {
    "tags": []
   },
   "outputs": [],
   "source": [
    "class Example5 {\n",
    "    string* ptr;\n",
    "  public:\n",
    "    Example5 (const string& str) : ptr(new string(str)) {}\n",
    "    ~Example5 () {delete ptr;}\n",
    "    // copy constructor:\n",
    "    Example5 (const Example5& x) : ptr(new string(x.content())) {}\n",
    "    // access content:\n",
    "    const string& content() const {return *ptr;}\n",
    "};"
   ]
  },
  {
   "cell_type": "code",
   "execution_count": 20,
   "id": "9319136a-dd40-4fb9-884e-104a54619538",
   "metadata": {
    "tags": []
   },
   "outputs": [
    {
     "name": "stdout",
     "output_type": "stream",
     "text": [
      "bar's content: Example\n"
     ]
    }
   ],
   "source": [
    "Example5 foo (\"Example\");\n",
    "Example5 bar = foo;\n",
    "\n",
    "cout << \"bar's content: \" << bar.content() << '\\n';"
   ]
  },
  {
   "cell_type": "markdown",
   "id": "6efd0261-b1d9-4aff-90fa-06d76b1e5781",
   "metadata": {},
   "source": [
    "The deep copy performed by this copy constructor allocates storage for a new string, which is initialized to contain a copy of the original object. In this way, both objects (copy and original) have distinct copies of the content stored in different locations."
   ]
  }
 ],
 "metadata": {
  "kernelspec": {
   "display_name": "C++17",
   "language": "C++17",
   "name": "xcpp17"
  },
  "language_info": {
   "codemirror_mode": "text/x-c++src",
   "file_extension": ".cpp",
   "mimetype": "text/x-c++src",
   "name": "c++",
   "version": "17"
  }
 },
 "nbformat": 4,
 "nbformat_minor": 5
}
