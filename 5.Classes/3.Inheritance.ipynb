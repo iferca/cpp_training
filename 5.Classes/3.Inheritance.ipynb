{
 "cells": [
  {
   "cell_type": "code",
   "execution_count": 1,
   "id": "ee3be0cc-9b0f-40e4-b671-edb2048087f0",
   "metadata": {
    "tags": []
   },
   "outputs": [],
   "source": [
    "#include <iostream>\n",
    "#include <string>\n",
    "\n",
    "using namespace std;"
   ]
  },
  {
   "cell_type": "markdown",
   "id": "4dbc0255-217e-42fe-a456-0371c7227599",
   "metadata": {},
   "source": [
    "# Friendship and inheritance\n",
    "## Friend functions\n",
    "In principle, private and protected members of a class cannot be accessed from outside the same class in which they are declared. However, this rule does not apply to \"friends\".\n",
    "Friends are functions or classes declared with the friend keyword.\n",
    "A non-member function can access the private and protected members of a class if it is declared a friend of that class. That is done by including a declaration of this external function within the class, and preceding it with the keyword friend:"
   ]
  },
  {
   "cell_type": "code",
   "execution_count": 20,
   "id": "3a9e949b-0496-4c72-a043-cb25cc2d9782",
   "metadata": {
    "tags": []
   },
   "outputs": [],
   "source": [
    "class Rectangle {\n",
    "    int width, height;\n",
    "  public:\n",
    "    Rectangle() {}\n",
    "    Rectangle (int x, int y) : width(x), height(y) {}\n",
    "    int area() {return width * height;}\n",
    "    friend Rectangle duplicate (const Rectangle&);\n",
    "};"
   ]
  },
  {
   "cell_type": "code",
   "execution_count": 21,
   "id": "56584d1a-9d8d-4e88-b49a-cbbc739a8b1d",
   "metadata": {
    "tags": []
   },
   "outputs": [],
   "source": [
    "Rectangle duplicate (const Rectangle& param)\n",
    "{\n",
    "  Rectangle res { param.width*2, param.height*2 };\n",
    "  return res;\n",
    "}"
   ]
  },
  {
   "cell_type": "code",
   "execution_count": 22,
   "id": "fd69b845-7e36-4e71-a71c-ad13dcd10ad2",
   "metadata": {
    "tags": []
   },
   "outputs": [
    {
     "name": "stdout",
     "output_type": "stream",
     "text": [
      "24\n"
     ]
    }
   ],
   "source": [
    "Rectangle foo;\n",
    "Rectangle bar (2,3);\n",
    "foo = duplicate (bar);\n",
    "\n",
    "cout << foo.area() << '\\n';"
   ]
  },
  {
   "cell_type": "markdown",
   "id": "3a88ec51-37cb-4e30-8a84-ba5a20d96df0",
   "metadata": {},
   "source": [
    "The duplicate function is a friend of class Rectangle. Therefore, function duplicate is able to access the members width and height (which are private) of different objects of type Rectangle. Notice though that neither in the declaration of duplicate nor in its later use in main, function duplicate is considered a member of class Rectangle. It isn't! It simply has access to its private and protected members without being a member.\n",
    "Typical use cases of friend functions are operations that are conducted between two different classes accessing private or protected members of both. "
   ]
  },
  {
   "cell_type": "markdown",
   "id": "58b19a8f-17fb-4d11-8a83-1050fff0071f",
   "metadata": {},
   "source": [
    "## Friend classes\n",
    "Similar to friend functions, a friend class is a class whose members have access to the private or protected members of another class:"
   ]
  },
  {
   "cell_type": "code",
   "execution_count": null,
   "id": "fd8cb5a8-fd47-46a8-80ee-db1b07d63fd0",
   "metadata": {
    "tags": []
   },
   "outputs": [],
   "source": [
    "class Square;"
   ]
  },
  {
   "cell_type": "code",
   "execution_count": 31,
   "id": "59cf87c2-6c19-4626-82e9-05118a39ab7a",
   "metadata": {
    "tags": []
   },
   "outputs": [],
   "source": [
    "class Rectangle {\n",
    "    int width, height;\n",
    "  public:\n",
    "    int area ()\n",
    "      {return (width * height);}\n",
    "    void convert (Square a);\n",
    "};"
   ]
  },
  {
   "cell_type": "code",
   "execution_count": 32,
   "id": "c80f2cd3-14a7-4d35-8e3a-895270bd6c87",
   "metadata": {
    "tags": []
   },
   "outputs": [],
   "source": [
    "class Square {\n",
    "  friend class Rectangle;\n",
    "  private:\n",
    "    int side;\n",
    "  public:\n",
    "    Square (int a) : side(a) {}\n",
    "};"
   ]
  },
  {
   "cell_type": "code",
   "execution_count": null,
   "id": "d301d1dd-f5ba-48a1-8c79-5e352f51b1aa",
   "metadata": {
    "tags": []
   },
   "outputs": [],
   "source": [
    "void Rectangle::convert (Square a) {\n",
    "  width = a.side;\n",
    "  height = a.side;\n",
    "}"
   ]
  },
  {
   "cell_type": "code",
   "execution_count": null,
   "id": "6b3194ed-ae78-4fc2-9f01-ab4b271f83f7",
   "metadata": {
    "tags": []
   },
   "outputs": [],
   "source": [
    "Rectangle rect;\n",
    "Square sqr (4);\n",
    "rect.convert(sqr);\n",
    "\n",
    "cout << rect.area();"
   ]
  },
  {
   "cell_type": "markdown",
   "id": "9e50c527-c371-433d-a3d5-85098ede5c14",
   "metadata": {},
   "source": [
    "n this example, class Rectangle is a friend of class Square allowing Rectangle's member functions to access private and protected members of Square. More concretely, Rectangle accesses the member variable Square::side, which describes the side of the square.\n",
    "There is something else new in this example: at the beginning of the program, there is an empty declaration of class Square. This is necessary because class Rectangle uses Square (as a parameter in member convert), and Square uses Rectangle (declaring it a friend). \n",
    "\n",
    "Friendships are never corresponded unless specified: In our example, Rectangle is considered a friend class by Square, but Square is not considered a friend by Rectangle. Therefore, the member functions of Rectangle can access the protected and private members of Square but not the other way around. Of course, Square could also be declared friend of Rectangle, if needed, granting such an access.\n",
    "\n",
    "Another property of friendships is that they are not transitive: The friend of a friend is not considered a friend unless explicitly specified."
   ]
  },
  {
   "cell_type": "markdown",
   "id": "264a56fc-eb57-41a7-9a3b-33a7da37d40b",
   "metadata": {},
   "source": [
    "## Inheritance between classes\n",
    "Classes in C++ can be extended, creating new classes which retain characteristics of the base class. This process, known as inheritance, involves a base class and a derived class: The derived class inherits the members of the base class, on top of which it can add its own members.\n",
    "\n",
    "The inheritance relationship of two classes is declared in the derived class. Derived classes definitions use the following syntax:\n",
    "\n",
    "    class derived_class_name: public base_class_name { /*...*/ };\n",
    "\n",
    "Where derived_class_name is the name of the derived class and base_class_name is the name of the class on which it is based. The public access specifier may be replaced by any one of the other access specifiers (protected or private). This access specifier limits the most accessible level for the members inherited from the base class: The members with a more accessible level are inherited with this level instead, while the members with an equal or more restrictive access level keep their restrictive level in the derived class."
   ]
  },
  {
   "cell_type": "code",
   "execution_count": 36,
   "id": "3e0e30ba-0a4a-4cfd-b058-31a4e84de3e6",
   "metadata": {
    "tags": []
   },
   "outputs": [],
   "source": [
    "class Polygon {\n",
    "  protected:\n",
    "    int width, height;\n",
    "  public:\n",
    "    void set_values (int a, int b)\n",
    "      { width=a; height=b;}\n",
    " };"
   ]
  },
  {
   "cell_type": "code",
   "execution_count": 37,
   "id": "b1417d1e-6f61-4ea0-bad2-5899eb584e72",
   "metadata": {
    "tags": []
   },
   "outputs": [],
   "source": [
    "class Rectangle: public Polygon {\n",
    "  public:\n",
    "    int area ()\n",
    "      { return width * height; }\n",
    " };"
   ]
  },
  {
   "cell_type": "code",
   "execution_count": 38,
   "id": "6be49096-f6ba-40d5-9612-998f2e74501c",
   "metadata": {
    "tags": []
   },
   "outputs": [],
   "source": [
    "class Triangle: public Polygon {\n",
    "  public:\n",
    "    int area ()\n",
    "      { return width * height / 2; }\n",
    "  };"
   ]
  },
  {
   "cell_type": "code",
   "execution_count": 39,
   "id": "61fbdc6c-871a-4c5d-a7fd-fa30679f1fdc",
   "metadata": {
    "tags": []
   },
   "outputs": [
    {
     "name": "stdout",
     "output_type": "stream",
     "text": [
      "20\n",
      "10\n"
     ]
    }
   ],
   "source": [
    "Rectangle rect;\n",
    "Triangle trgl;\n",
    "rect.set_values (4,5);\n",
    "trgl.set_values (4,5);\n",
    "\n",
    "cout << rect.area() << '\\n';\n",
    "cout << trgl.area() << '\\n';"
   ]
  },
  {
   "cell_type": "markdown",
   "id": "a5f6d02c-cc51-4cc1-833c-db07872a91ea",
   "metadata": {},
   "source": [
    "The objects of the classes Rectangle and Triangle each contain members inherited from Polygon. These are: width, height and set_values.\n",
    "\n",
    "The protected access specifier used in class Polygon is similar to private. Its only difference occurs in fact with inheritance: When a class inherits another one, the members of the derived class can access the protected members inherited from the base class, but not its private members.\n",
    "\n",
    "By declaring width and height as protected instead of private, these members are also accessible from the derived classes Rectangle and Triangle, instead of just from members of Polygon. If they were public, they could be accessed just from anywhere.\n",
    "We can summarize the different access types according to which functions can access them in the following way: \n",
    "\n",
    "| Access | public | protected | private |\n",
    "| :-- | -- | -- | -- |\n",
    "| members of the same class | yes | yes | yes |\n",
    "| members of derived class | yes | yes | no |\n",
    "| not members | yes | no | no |\n",
    "\n",
    "Where \"not members\" represents any access from outside the class, such as from main, from another class or from a function.\n",
    "In the example above, the members inherited by Rectangle and Triangle have the same access permissions as they had in their base class Polygon:\n",
    "\n",
    "```cpp\n",
    "Polygon::width           // protected access\n",
    "Rectangle::width         // protected access\n",
    "\n",
    "Polygon::set_values()    // public access\n",
    "Rectangle::set_values()  // public access \n",
    "```\n",
    "\n",
    "This is because the inheritance relation has been declared using the public keyword on each of the derived classes:\n",
    "```cpp\n",
    "class Rectangle: public Polygon { /* ... */ }\n",
    "```\n",
    "This public keyword after the colon (:) denotes the most accessible level the members inherited from the class that follows it (in this case Polygon) will have from the derived class (in this case Rectangle). Since public is the most accessible level, by specifying this keyword the derived class will inherit all the members with the same levels they had in the base class.\n",
    "\n",
    "With protected, all public members of the base class are inherited as protected in the derived class. Conversely, if the most restricting access level is specified (private), all the base class members are inherited as private.\n",
    "\n",
    "For example, if daughter were a class derived from mother that we defined as:\n",
    "```cpp\n",
    "class Daughter: protected Mother;\n",
    "```\n",
    "This would set protected as the less restrictive access level for the members of Daughter that it inherited from mother. That is, all members that were public in Mother would become protected in Daughter. Of course, this would not restrict Daughter from declaring its own public members. That less restrictive access level is only set for the members inherited from Mother.\n",
    "\n",
    "If no access level is specified for the inheritance, the compiler assumes private for classes declared with keyword class and public for those declared with struct.\n",
    "\n",
    "Actually, most use cases of inheritance in C++ should use public inheritance. When other access levels are needed for base classes, they can usually be better represented as member variables instead."
   ]
  },
  {
   "cell_type": "markdown",
   "id": "fc2a4ece-ea17-4eb0-8f1b-b966a75d6c05",
   "metadata": {
    "tags": []
   },
   "source": [
    "### What is inherited from the base class?\n",
    "In principle, a publicly derived class inherits access to every member of a base class except:\n",
    "\n",
    "* its constructors and its destructor \n",
    "* its assignment operator members (operator=) \n",
    "* its friends \n",
    "* its private members \n",
    "    \n",
    "Even though access to the constructors and destructor of the base class is not inherited as such, they are automatically called by the constructors and destructor of the derived class.\n",
    "\n",
    "Unless otherwise specified, the constructors of a derived class calls the default constructor of its base classes (i.e., the constructor taking no arguments). Calling a different constructor of a base class is possible, using the same syntax used to initialize member variables in the initialization list:\n",
    "\n",
    "    derived_constructor_name (parameters) : base_constructor_name (parameters) {...}\n",
    "\n",
    "For example: "
   ]
  },
  {
   "cell_type": "code",
   "execution_count": 2,
   "id": "b5bd8546-ca71-4cc9-a506-4862f777a418",
   "metadata": {
    "tags": []
   },
   "outputs": [],
   "source": [
    "class Mother {\n",
    "  public:\n",
    "    Mother ()\n",
    "      { cout << \"Mother: no parameters\\n\"; }\n",
    "    Mother (int a)\n",
    "      { cout << \"Mother: int parameter\\n\"; }\n",
    "};"
   ]
  },
  {
   "cell_type": "code",
   "execution_count": 3,
   "id": "f4135130-0025-4933-8903-b80b28140026",
   "metadata": {
    "tags": []
   },
   "outputs": [],
   "source": [
    "class Daughter : public Mother {\n",
    "  public:\n",
    "    Daughter (int a)\n",
    "      { cout << \"Daughter: int parameter\\n\\n\"; }\n",
    "};"
   ]
  },
  {
   "cell_type": "code",
   "execution_count": 4,
   "id": "66bb7edb-ea3f-47ab-bdac-8d31ef6019f8",
   "metadata": {
    "tags": []
   },
   "outputs": [],
   "source": [
    "class Son : public Mother {\n",
    "  public:\n",
    "    Son (int a) : Mother (a)\n",
    "      { cout << \"Son: int parameter\\n\\n\"; }\n",
    "};"
   ]
  },
  {
   "cell_type": "code",
   "execution_count": 5,
   "id": "6eb85f4a-aa2e-478e-a4e8-d72de7cf7c7e",
   "metadata": {
    "tags": []
   },
   "outputs": [
    {
     "name": "stdout",
     "output_type": "stream",
     "text": [
      "Mother: no parameters\n",
      "Daughter: int parameter\n",
      "\n",
      "Mother: int parameter\n",
      "Son: int parameter\n",
      "\n"
     ]
    }
   ],
   "source": [
    "Daughter kelly(0);\n",
    "Son bud(0);"
   ]
  },
  {
   "cell_type": "markdown",
   "id": "a865273f-4ade-461a-910e-8c25558bd594",
   "metadata": {},
   "source": [
    "### Multiple inheritance\n",
    "A class may inherit from more than one class by simply specifying more base classes, separated by commas, in the list of a class's base classes (i.e., after the colon). For example, if the program had a specific class to print on screen called Output, and we wanted our classes Rectangle and Triangle to also inherit its members in addition to those of Polygon we could write:\n",
    "```cpp\n",
    "class Rectangle: public Polygon, public Output;\n",
    "class Triangle: public Polygon, public Output;\n",
    "```\n",
    "Here is the complete example: "
   ]
  },
  {
   "cell_type": "code",
   "execution_count": 6,
   "id": "d9505dd2-b1cb-402e-b038-3e260ca3d74e",
   "metadata": {
    "tags": []
   },
   "outputs": [],
   "source": [
    "class Polygon {\n",
    "  protected:\n",
    "    int width, height;\n",
    "  public:\n",
    "    Polygon (int a, int b) : width(a), height(b) {}\n",
    "};"
   ]
  },
  {
   "cell_type": "code",
   "execution_count": 7,
   "id": "c6cefca8-97ad-417b-ae2d-b4dd974fffd0",
   "metadata": {
    "tags": []
   },
   "outputs": [],
   "source": [
    "class Output {\n",
    "  public:\n",
    "    static void print (int i);\n",
    "};"
   ]
  },
  {
   "cell_type": "code",
   "execution_count": 8,
   "id": "f3763df6-d668-4921-8c57-306b5458080b",
   "metadata": {
    "tags": []
   },
   "outputs": [],
   "source": [
    "void Output::print (int i) {\n",
    "  cout << i << '\\n';\n",
    "}"
   ]
  },
  {
   "cell_type": "code",
   "execution_count": 9,
   "id": "38e3129b-9bb3-4da2-a662-f81fbb78a923",
   "metadata": {
    "tags": []
   },
   "outputs": [],
   "source": [
    "class Rectangle: public Polygon, public Output {\n",
    "  public:\n",
    "    Rectangle (int a, int b) : Polygon(a,b) {}\n",
    "    int area ()\n",
    "      { return width*height; }\n",
    "};"
   ]
  },
  {
   "cell_type": "code",
   "execution_count": 10,
   "id": "361f31b8-7439-4ae2-be37-310638ffa1c6",
   "metadata": {
    "tags": []
   },
   "outputs": [],
   "source": [
    "class Triangle: public Polygon, public Output {\n",
    "  public:\n",
    "    Triangle (int a, int b) : Polygon(a,b) {}\n",
    "    int area ()\n",
    "      { return width*height/2; }\n",
    "};"
   ]
  },
  {
   "cell_type": "code",
   "execution_count": 12,
   "id": "18e7643e-1cb0-4fcd-91ca-5fd837540de7",
   "metadata": {
    "tags": []
   },
   "outputs": [
    {
     "name": "stdout",
     "output_type": "stream",
     "text": [
      "20\n",
      "10\n"
     ]
    }
   ],
   "source": [
    "Rectangle rect (4,5);\n",
    "Triangle trgl (4,5);\n",
    "\n",
    "rect.print (rect.area());\n",
    "Triangle::print (trgl.area());"
   ]
  }
 ],
 "metadata": {
  "kernelspec": {
   "display_name": "C++17",
   "language": "C++17",
   "name": "xcpp17"
  },
  "language_info": {
   "codemirror_mode": "text/x-c++src",
   "file_extension": ".cpp",
   "mimetype": "text/x-c++src",
   "name": "c++",
   "version": "17"
  }
 },
 "nbformat": 4,
 "nbformat_minor": 5
}
