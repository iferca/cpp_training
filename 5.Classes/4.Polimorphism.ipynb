{
 "cells": [
  {
   "cell_type": "code",
   "execution_count": 1,
   "id": "cc2c2aad-c660-40d0-b163-ac9a87730fd8",
   "metadata": {
    "tags": []
   },
   "outputs": [],
   "source": [
    "#include <iostream>\n",
    "\n",
    "using namespace std;"
   ]
  },
  {
   "cell_type": "markdown",
   "id": "99db8fc1-4ca2-410e-b81b-1a9f9601f113",
   "metadata": {},
   "source": [
    "# Polymorphism\n",
    "## Pointers to base class\n",
    "One of the key features of class inheritance is that a pointer to a derived class is type-compatible with a pointer to its base class. Polymorphism is the art of taking advantage of this simple but powerful and versatile feature.\n",
    "The example about the rectangle and triangle classes can be rewritten using pointers taking this feature into account:"
   ]
  },
  {
   "cell_type": "code",
   "execution_count": 2,
   "id": "9a58ae27-b975-4ec3-a8c0-0bc76ebb6236",
   "metadata": {
    "tags": []
   },
   "outputs": [],
   "source": [
    "class Polygon {\n",
    "  protected:\n",
    "    int width, height;\n",
    "  public:\n",
    "    void set_values (int a, int b)\n",
    "      { width=a; height=b; }\n",
    "};"
   ]
  },
  {
   "cell_type": "code",
   "execution_count": 3,
   "id": "030bdae9-251b-4d63-932f-0e61bd9d8ba8",
   "metadata": {
    "tags": []
   },
   "outputs": [],
   "source": [
    "class Rectangle: public Polygon {\n",
    "  public:\n",
    "    int area()\n",
    "      { return width*height; }\n",
    "};"
   ]
  },
  {
   "cell_type": "code",
   "execution_count": 4,
   "id": "f1a017b5-dca3-4f9d-a9b9-5af923d2277c",
   "metadata": {
    "tags": []
   },
   "outputs": [],
   "source": [
    "class Triangle: public Polygon {\n",
    "  public:\n",
    "    int area()\n",
    "      { return width*height/2; }\n",
    "};"
   ]
  },
  {
   "cell_type": "code",
   "execution_count": null,
   "id": "c73d92d4-50c5-428d-9824-1895078839c4",
   "metadata": {},
   "outputs": [],
   "source": [
    "Rectangle rect;\n",
    "Triangle trgl;\n",
    "Polygon * ppoly1 = &rect;\n",
    "Polygon * ppoly2 = &trgl;\n",
    "\n",
    "ppoly1->set_values (4,5);\n",
    "ppoly2->set_values (4,5);\n",
    "\n",
    "cout << rect.area() << '\\n';\n",
    "cout << trgl.area() << '\\n';"
   ]
  },
  {
   "cell_type": "markdown",
   "id": "d349ca9f-b262-47dc-b5b5-7123099d8a4b",
   "metadata": {},
   "source": [
    "Function main declares two pointers to Polygon (named ppoly1 and ppoly2). These are assigned the addresses of rect and trgl, respectively, which are objects of type Rectangle and Triangle. Such assignments are valid, since both Rectangle and Triangle are classes derived from Polygon.\n",
    "\n",
    "Dereferencing ppoly1 and ppoly2 (with ppoly1-> and ppoly2->) is valid and allows us to access the members of their pointed objects. For example, the following two statements would be equivalent in the previous example:\n",
    "```cpp\n",
    "ppoly1->set_values (4,5);\n",
    "rect.set_values (4,5);\n",
    "```\n",
    "But because the type of both ppoly1 and ppoly2 is pointer to Polygon (and not pointer to Rectangle nor pointer to Triangle), only the members inherited from Polygon can be accessed, and not those of the derived classes Rectangle and Triangle. That is why the program above accesses the area members of both objects using rect and trgl directly, instead of the pointers; the pointers to the base class cannot access the area members.\n",
    "Member area could have been accessed with the pointers to Polygon if area were a member of Polygon instead of a member of its derived classes, but the problem is that Rectangle and Triangle implement different versions of area, therefore there is not a single common version that could be implemented in the base class. "
   ]
  },
  {
   "cell_type": "markdown",
   "id": "8ed3d417-6ced-488b-b73d-e79837a91b33",
   "metadata": {},
   "source": [
    "# Virtual members\n",
    "A virtual member is a member function that can be redefined in a derived class, while preserving its calling properties through references. The syntax for a function to become virtual is to precede its declaration with the virtual keyword:"
   ]
  },
  {
   "cell_type": "code",
   "execution_count": 5,
   "id": "ce3cd45f-8967-432a-9e38-8eb3526d458e",
   "metadata": {
    "tags": []
   },
   "outputs": [],
   "source": [
    "class Polygon {\n",
    "  protected:\n",
    "    int width, height;\n",
    "  public:\n",
    "    void set_values (int a, int b)\n",
    "      { width=a; height=b; }\n",
    "    virtual int area ()\n",
    "      { return 0; }\n",
    "};"
   ]
  },
  {
   "cell_type": "code",
   "execution_count": 6,
   "id": "12edefce-110a-4559-8465-b6d012186e53",
   "metadata": {
    "tags": []
   },
   "outputs": [],
   "source": [
    "class Rectangle: public Polygon {\n",
    "  public:\n",
    "    int area ()\n",
    "      { return width * height; }\n",
    "};"
   ]
  },
  {
   "cell_type": "code",
   "execution_count": 7,
   "id": "dfdabd52-30bc-45b3-b41e-4e9262e75959",
   "metadata": {
    "tags": []
   },
   "outputs": [],
   "source": [
    "class Triangle: public Polygon {\n",
    "  public:\n",
    "    int area ()\n",
    "      { return (width * height / 2); }\n",
    "};"
   ]
  },
  {
   "cell_type": "code",
   "execution_count": 8,
   "id": "4b528bb3-d061-454c-b7ba-fe089e4c9d39",
   "metadata": {
    "tags": []
   },
   "outputs": [
    {
     "name": "stdout",
     "output_type": "stream",
     "text": [
      "20\n",
      "10\n",
      "0\n"
     ]
    }
   ],
   "source": [
    "Rectangle rect;\n",
    "Triangle trgl;\n",
    "Polygon poly;\n",
    "\n",
    "Polygon * ppoly1 = &rect;\n",
    "Polygon * ppoly2 = &trgl;\n",
    "Polygon * ppoly3 = &poly;\n",
    "\n",
    "ppoly1->set_values (4,5);\n",
    "ppoly2->set_values (4,5);\n",
    "ppoly3->set_values (4,5);\n",
    "\n",
    "cout << ppoly1->area() << '\\n';\n",
    "cout << ppoly2->area() << '\\n';\n",
    "cout << ppoly3->area() << '\\n';"
   ]
  },
  {
   "cell_type": "markdown",
   "id": "e705cf3a-7213-46ad-baaf-9e4da89990d6",
   "metadata": {},
   "source": [
    "In this example, all three classes (Polygon, Rectangle and Triangle) have the same members: width, height, and functions set_values and area.\n",
    "\n",
    "The member function area has been declared as virtual in the base class because it is later redefined in each of the derived classes. Non-virtual members can also be redefined in derived classes, but non-virtual members of derived classes cannot be accessed through a reference of the base class: i.e., if virtual is removed from the declaration of area in the example above, all three calls to area would return zero, because in all cases, the version of the base class would have been called instead.\n",
    "\n",
    "Therefore, essentially, what the virtual keyword does is to allow a member of a derived class with the same name as one in the base class to be appropriately called from a pointer, and more precisely when the type of the pointer is a pointer to the base class that is pointing to an object of the derived class, as in the above example.\n",
    "\n",
    "A class that declares or inherits a virtual function is called a polymorphic class.\n",
    "\n",
    "Note that despite of the virtuality of one of its members, Polygon was a regular class, of which even an object was instantiated (poly), with its own definition of member area that always returns 0."
   ]
  },
  {
   "cell_type": "markdown",
   "id": "04be3a68-ee6d-44ab-a4a6-add81c0c2f78",
   "metadata": {},
   "source": [
    "# Abstract base classes\n",
    "Abstract base classes are something very similar to the Polygon class in the previous example. They are classes that can only be used as base classes, and thus are allowed to have virtual member functions without definition (known as pure virtual functions). The syntax is to replace their definition by =0 (an equal sign and a zero):\n",
    "An abstract base Polygon class could look like this:"
   ]
  },
  {
   "cell_type": "code",
   "execution_count": 9,
   "id": "21db6af3-26d3-4859-b8c8-6993cf566a0b",
   "metadata": {
    "tags": []
   },
   "outputs": [],
   "source": [
    "// abstract class CPolygon\n",
    "class Polygon {\n",
    "  protected:\n",
    "    int width, height;\n",
    "  public:\n",
    "    void set_values (int a, int b)\n",
    "      { width=a; height=b; }\n",
    "    virtual int area () = 0;\n",
    "};"
   ]
  },
  {
   "cell_type": "markdown",
   "id": "153db4de-0380-4866-9b36-01337b67995b",
   "metadata": {},
   "source": [
    "Notice that area has no definition; this has been replaced by `=0`, which makes it a pure virtual function. Classes that contain at least one pure virtual function are known as abstract base classes.\n",
    "\n",
    "Abstract base classes cannot be used to instantiate objects. Therefore, this last abstract base class version of Polygon could not be used to declare objects like:\n",
    "```cpp\n",
    "Polygon mypolygon;   // not working if Polygon is abstract base class\n",
    "```\n",
    "But an abstract base class is not totally useless. It can be used to create pointers to it, and take advantage of all its polymorphic abilities. For example, the following pointer declarations would be valid:\n",
    "```cpp\n",
    "Polygon * ppoly1;\n",
    "Polygon * ppoly2;\n",
    "```\n",
    "And can actually be dereferenced when pointing to objects of derived (non-abstract) classes. Here is the entire example:"
   ]
  },
  {
   "cell_type": "code",
   "execution_count": 10,
   "id": "8dc32577-01b6-41b4-9ba4-f2cdaf4530de",
   "metadata": {
    "tags": []
   },
   "outputs": [],
   "source": [
    "class Polygon {\n",
    "  protected:\n",
    "    int width, height;\n",
    "  public:\n",
    "    void set_values (int a, int b)\n",
    "      { width=a; height=b; }\n",
    "    virtual int area (void) =0;\n",
    "};"
   ]
  },
  {
   "cell_type": "code",
   "execution_count": 11,
   "id": "3b1ed932-b28d-49e2-b6c3-663f6436a805",
   "metadata": {
    "tags": []
   },
   "outputs": [],
   "source": [
    "class Rectangle: public Polygon {\n",
    "  public:\n",
    "    int area (void)\n",
    "      { return (width * height); }\n",
    "};"
   ]
  },
  {
   "cell_type": "code",
   "execution_count": 12,
   "id": "42e84acb-c27f-4922-9875-742e359b8d2c",
   "metadata": {
    "tags": []
   },
   "outputs": [],
   "source": [
    "class Triangle: public Polygon {\n",
    "  public:\n",
    "    int area (void)\n",
    "      { return (width * height / 2); }\n",
    "};"
   ]
  },
  {
   "cell_type": "code",
   "execution_count": 13,
   "id": "40b1137b-90af-4f1d-9977-d79e35b8f1fd",
   "metadata": {
    "tags": []
   },
   "outputs": [
    {
     "name": "stdout",
     "output_type": "stream",
     "text": [
      "20\n",
      "10\n"
     ]
    }
   ],
   "source": [
    "Rectangle rect;\n",
    "Triangle trgl;\n",
    "\n",
    "Polygon * ppoly1 = &rect;\n",
    "Polygon * ppoly2 = &trgl;\n",
    "\n",
    "ppoly1->set_values (4,5);\n",
    "ppoly2->set_values (4,5);\n",
    "\n",
    "cout << ppoly1->area() << '\\n';\n",
    "cout << ppoly2->area() << '\\n';"
   ]
  }
 ],
 "metadata": {
  "kernelspec": {
   "display_name": "C++17",
   "language": "C++17",
   "name": "xcpp17"
  },
  "language_info": {
   "codemirror_mode": "text/x-c++src",
   "file_extension": ".cpp",
   "mimetype": "text/x-c++src",
   "name": "c++",
   "version": "17"
  }
 },
 "nbformat": 4,
 "nbformat_minor": 5
}
