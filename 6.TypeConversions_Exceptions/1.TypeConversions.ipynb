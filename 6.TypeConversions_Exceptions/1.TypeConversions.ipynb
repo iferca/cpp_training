{
 "cells": [
  {
   "cell_type": "code",
   "execution_count": 1,
   "id": "8f1f84c7-c706-48bc-846f-bc0e4a9aaa93",
   "metadata": {
    "tags": []
   },
   "outputs": [],
   "source": [
    "#include <iostream>\n",
    "\n",
    "using namespace std;"
   ]
  },
  {
   "cell_type": "markdown",
   "id": "40683831-b991-4c09-ac07-d7d40e3e7326",
   "metadata": {},
   "source": [
    "# Type conversions\n",
    "## Implicit conversion\n",
    "\n",
    "Implicit conversions are automatically performed when a value is copied to a compatible type. For example:"
   ]
  },
  {
   "cell_type": "code",
   "execution_count": 2,
   "id": "be1b2ed1-94f5-4d90-93c7-43f83829223d",
   "metadata": {
    "tags": []
   },
   "outputs": [],
   "source": [
    "short a=2000;\n",
    "int b;\n",
    "b=a;"
   ]
  },
  {
   "cell_type": "markdown",
   "id": "ee2b3959-e3cf-4ffd-817d-e8a106b5b433",
   "metadata": {},
   "source": [
    "Here, the value of a is promoted from short to int without the need of any explicit operator. This is known as a standard conversion. Standard conversions affect fundamental data types, and allow the conversions between numerical types (short to int, int to float, double to int...), to or from bool, and some pointer conversions.\n",
    "Converting to int from some smaller integer type, or to double from float is known as promotion, and is guaranteed to produce the exact same value in the destination type. Other conversions between arithmetic types may not always be able to represent the same value exactly:\n",
    "\n",
    "* If a negative integer value is converted to an unsigned type, the resulting value corresponds to its 2's complement bitwise representation (i.e., -1 becomes the largest value representable by the type, -2 the second largest, ...). \n",
    "* The conversions from/to bool consider false equivalent to zero (for numeric types) and to null pointer (for pointer types); true is equivalent to all other values and is converted to the equivalent of 1. \n",
    "* If the conversion is from a floating-point type to an integer type, the value is truncated (the decimal part is removed). If the result lies outside the range of representable values by the type, the conversion causes undefined behavior. \n",
    "* Otherwise, if the conversion is between numeric types of the same kind (integer-to-integer or floating-to-floating), the conversion is valid, but the value is implementation-specific (and may not be portable). \n",
    "\n",
    "Some of these conversions may imply a loss of precision, which the compiler can signal with a warning. This warning can be avoided with an explicit conversion.\n",
    "For non-fundamental types, arrays and functions implicitly convert to pointers, and pointers in general allow the following conversions:\n",
    "\n",
    "* Null pointers can be converted to pointers of any type \n",
    "* Pointers to any type can be converted to void pointers. \n",
    "* Pointer upcast: pointers to a derived class can be converted to a pointer of an accessible and unambiguous base class, without modifying its const or volatile qualification."
   ]
  },
  {
   "cell_type": "markdown",
   "id": "a97d376a-bb7b-43f5-beb6-79380c8eaa7d",
   "metadata": {},
   "source": [
    "## Implicit conversions with classes\n",
    "In the world of classes, implicit conversions can be controlled by means of three member functions:\n",
    "\n",
    "* Single-argument constructors: allow implicit conversion from a particular type to initialize an object. \n",
    "* Assignment operator: allow implicit conversion from a particular type on assignments. \n",
    "* Type-cast operator: allow implicit conversion to a particular type. \n",
    "\n",
    "For example:"
   ]
  },
  {
   "cell_type": "code",
   "execution_count": 3,
   "id": "9b695273-0f5f-4e38-91e8-fbdad4a8a5cd",
   "metadata": {
    "tags": []
   },
   "outputs": [],
   "source": [
    "class A {};"
   ]
  },
  {
   "cell_type": "code",
   "execution_count": 4,
   "id": "45c84bba-3663-4841-a8f1-52c162ffa941",
   "metadata": {
    "tags": []
   },
   "outputs": [],
   "source": [
    "class B {\n",
    "public:\n",
    "  // conversion from A (constructor):\n",
    "  B (const A& x) {}\n",
    "  // conversion from A (assignment):\n",
    "  B& operator= (const A& x) {return *this;}\n",
    "  // conversion to A (type-cast operator)\n",
    "  operator A() {return A();}\n",
    "};"
   ]
  },
  {
   "cell_type": "code",
   "execution_count": 5,
   "id": "666ebbe9-0bd7-4e65-868a-f323754bfc4d",
   "metadata": {
    "tags": []
   },
   "outputs": [
    {
     "data": {
      "text/plain": [
       "@0x7fec8e8bb029"
      ]
     },
     "execution_count": 5,
     "metadata": {},
     "output_type": "execute_result"
    }
   ],
   "source": [
    "A foo;\n",
    "B bar = foo;    // calls constructor\n",
    "bar = foo;      // calls assignment\n",
    "foo = bar;      // calls type-cast operator"
   ]
  },
  {
   "cell_type": "markdown",
   "id": "0f9b99f3-f144-4658-96ec-fd7955655fbc",
   "metadata": {},
   "source": [
    "The type-cast operator uses a particular syntax: it uses the operator keyword followed by the destination type and an empty set of parentheses. Notice that the return type is the destination type and thus is not specified before the operator keyword."
   ]
  },
  {
   "cell_type": "markdown",
   "id": "bc26ffef-a499-4efe-bf81-720ae883a612",
   "metadata": {},
   "source": [
    "## Keyword explicit\n",
    "On a function call, C++ allows one implicit conversion to happen for each argument. This may be somewhat problematic for classes, because it is not always what is intended. For example, if we add the following function to the last example:\n",
    "```cpp\n",
    "void fn (B arg) {}\n",
    "```\n",
    "This function takes an argument of type B, but it could as well be called with an object of type A as argument:\n",
    "```cpp\n",
    "fn (foo);\n",
    "```\n",
    "This may or may not be what was intended. But, in any case, it can be prevented by marking the affected constructor with the explicit keyword:"
   ]
  },
  {
   "cell_type": "code",
   "execution_count": 6,
   "id": "5886a6ea-1857-498e-9027-ef6521c2ea89",
   "metadata": {
    "tags": []
   },
   "outputs": [],
   "source": [
    "void fn (B x) {}"
   ]
  },
  {
   "cell_type": "code",
   "execution_count": 7,
   "id": "f3165f07-9b6e-4a16-bce8-7df7ab2c3e9f",
   "metadata": {
    "tags": []
   },
   "outputs": [],
   "source": [
    "class B {\n",
    "public:\n",
    "  // conversion from A (constructor):\n",
    "  explicit B (const A& x) {}\n",
    "  // conversion from A (assignment):\n",
    "  B& operator= (const A& x) {return *this;}\n",
    "  // conversion to A (type-cast operator)\n",
    "  operator A() {return A();}\n",
    "};"
   ]
  },
  {
   "cell_type": "code",
   "execution_count": null,
   "id": "3ee96027-5ba0-4853-92a3-69ce1d6cd61a",
   "metadata": {},
   "outputs": [],
   "source": [
    "A foo;\n",
    "B bar (foo);\n",
    "bar = foo;\n",
    "foo = bar;\n",
    "  \n",
    "//  fn (foo);  // not allowed for explicit ctor.\n",
    "fn (bar);  "
   ]
  },
  {
   "cell_type": "markdown",
   "id": "038d95aa-e1d0-4987-b5ef-f2eb941b005f",
   "metadata": {},
   "source": [
    "Additionally, constructors marked with explicit cannot be called with the assignment-like syntax; In the above example, bar could not have been constructed with:\n",
    "```cpp\n",
    "B bar = foo;\n",
    "```\n",
    "Type-cast member functions (those described in the previous section) can also be specified as explicit. This prevents implicit conversions in the same way as explicit-specified constructors do for the destination type."
   ]
  },
  {
   "cell_type": "markdown",
   "id": "c6901290-2379-47dd-96bd-6d1783fe8287",
   "metadata": {},
   "source": [
    "## Type casting\n",
    "C++ is a strong-typed language. Many conversions, specially those that imply a different interpretation of the value, require an explicit conversion, known in C++ as type-casting. There exist two main syntaxes for generic type-casting: functional and c-like:\n",
    "```pp\n",
    "double x = 10.3;\n",
    "int y;\n",
    "y = int (x);    // functional notation\n",
    "y = (int) x;    // c-like cast notation\n",
    "```\n",
    "The functionality of these generic forms of type-casting is enough for most needs with fundamental data types. However, these operators can be applied indiscriminately on classes and pointers to classes, which can lead to code that -while being syntactically correct- can cause runtime errors. For example, the following code compiles without errors: "
   ]
  },
  {
   "cell_type": "code",
   "execution_count": 7,
   "id": "b4afe865-570b-4164-9dad-f2d0cf0e8284",
   "metadata": {
    "tags": []
   },
   "outputs": [],
   "source": [
    "class Dummy {\n",
    "    double i,j;\n",
    "};"
   ]
  },
  {
   "cell_type": "code",
   "execution_count": 8,
   "id": "1a087065-1c38-46fb-a357-a16986746766",
   "metadata": {
    "tags": []
   },
   "outputs": [],
   "source": [
    "class Addition {\n",
    "    int x,y;\n",
    "  public:\n",
    "    Addition (int a, int b) { x=a; y=b; }\n",
    "    int result() { return x+y;}\n",
    "};"
   ]
  },
  {
   "cell_type": "code",
   "execution_count": 9,
   "id": "b7f964bc-0d4e-4680-b2ba-d98c4ae90bd1",
   "metadata": {
    "tags": []
   },
   "outputs": [
    {
     "name": "stdout",
     "output_type": "stream",
     "text": [
      "0"
     ]
    }
   ],
   "source": [
    "Dummy d;\n",
    "Addition * padd;\n",
    "padd = (Addition*) &d;\n",
    "cout << padd->result();"
   ]
  },
  {
   "cell_type": "markdown",
   "id": "81d2ba94-8285-4245-86d7-1b5279960e18",
   "metadata": {},
   "source": [
    "The program declares a pointer to Addition, but then it assigns to it a reference to an object of another unrelated type using explicit type-casting:\n",
    "```cpp\n",
    "padd = (Addition*) &d;\n",
    "```\n",
    "Unrestricted explicit type-casting allows to convert any pointer into any other pointer type, independently of the types they point to. The subsequent call to member result will produce either a run-time error or some other unexpected results.\n",
    "In order to control these types of conversions between classes, we have four specific casting operators: __dynamic_cast, reinterpret_cast, static_cast and const_cast__. Their format is to follow the new type enclosed between angle-brackets (<>) and immediately after, the expression to be converted between parentheses.\n",
    "\n",
    "    dynamic_cast <new_type> (expression)\n",
    "    reinterpret_cast <new_type> (expression)\n",
    "    static_cast <new_type> (expression)\n",
    "    const_cast <new_type> (expression)\n",
    "\n",
    "The traditional type-casting equivalents to these expressions would be:\n",
    "\n",
    "    (new_type) expression\n",
    "    new_type (expression)\n",
    "\n",
    "but each one with its own special characteristics:"
   ]
  },
  {
   "cell_type": "markdown",
   "id": "e9e0ed72-f3f2-4a6c-8ef5-876bfa81d567",
   "metadata": {},
   "source": [
    "### dynamic_cast\n",
    "\n",
    "dynamic_cast can only be used with pointers and references to classes (or with void*). Its purpose is to ensure that the result of the type conversion points to a valid complete object of the destination pointer type.\n",
    "This naturally includes pointer upcast (converting from pointer-to-derived to pointer-to-base), in the same way as allowed as an implicit conversion.\n",
    "But dynamic_cast can also downcast (convert from pointer-to-base to pointer-to-derived) polymorphic classes (those with virtual members) if -and only if- the pointed object is a valid complete object of the target type. For example:"
   ]
  },
  {
   "cell_type": "code",
   "execution_count": 10,
   "id": "dba079cd-a24a-4707-8ee7-de199fea5f4f",
   "metadata": {
    "tags": []
   },
   "outputs": [],
   "source": [
    "class Base { virtual void dummy() {} };"
   ]
  },
  {
   "cell_type": "code",
   "execution_count": 11,
   "id": "7f368964-15e5-49b4-b10c-fa11ef000792",
   "metadata": {
    "tags": []
   },
   "outputs": [],
   "source": [
    "class Derived: public Base { int a; };"
   ]
  },
  {
   "cell_type": "code",
   "execution_count": 12,
   "id": "35c0ae95-696e-442e-9eef-10becfd060e9",
   "metadata": {
    "tags": []
   },
   "outputs": [
    {
     "name": "stdout",
     "output_type": "stream",
     "text": [
      "Null pointer on second type-cast.\n"
     ]
    }
   ],
   "source": [
    "try {\n",
    "    Base * pba = new Derived;\n",
    "    Base * pbb = new Base;\n",
    "    Derived * pd;\n",
    "\n",
    "    pd = dynamic_cast<Derived*>(pba);\n",
    "    if (pd==0) cout << \"Null pointer on first type-cast.\\n\";\n",
    "\n",
    "    pd = dynamic_cast<Derived*>(pbb);\n",
    "    if (pd==0) cout << \"Null pointer on second type-cast.\\n\";\n",
    "\n",
    "} catch (exception& e) {cout << \"Exception: \" << e.what();}"
   ]
  },
  {
   "cell_type": "markdown",
   "id": "9418e7e4-a772-45ca-8c11-b041893354f7",
   "metadata": {},
   "source": [
    "The code above tries to perform two dynamic casts from pointer objects of type Base* (pba and pbb) to a pointer object of type Derived*, but only the first one is successful. Notice their respective initializations:\n",
    "```cpp\n",
    "Base * pba = new Derived;\n",
    "Base * pbb = new Base;\n",
    "```\n",
    "Even though both are pointers of type Base*, pba actually points to an object of type Derived, while pbb points to an object of type Base. Therefore, when their respective type-casts are performed using dynamic_cast, pba is pointing to a full object of class Derived, whereas pbb is pointing to an object of class Base, which is an incomplete object of class Derived.\n",
    "When dynamic_cast cannot cast a pointer because it is not a complete object of the required class -as in the second conversion in the previous example- it returns a null pointer to indicate the failure. If dynamic_cast is used to convert to a reference type and the conversion is not possible, an exception of type bad_cast is thrown instead.\n",
    "dynamic_cast can also perform the other implicit casts allowed on pointers: casting null pointers between pointers types (even between unrelated classes), and casting any pointer of any type to a void* pointer."
   ]
  },
  {
   "cell_type": "markdown",
   "id": "e4a7e3b7-3203-411b-8834-31ab3c22cda7",
   "metadata": {},
   "source": [
    "### static_cast\n",
    "static_cast can perform conversions between pointers to related classes, not only upcasts (from pointer-to-derived to pointer-to-base), but also downcasts (from pointer-to-base to pointer-to-derived). No checks are performed during runtime to guarantee that the object being converted is in fact a full object of the destination type. Therefore, it is up to the programmer to ensure that the conversion is safe. On the other side, it does not incur the overhead of the type-safety checks of dynamic_cast.\n",
    "```cpp\n",
    "class Base {};\n",
    "class Derived: public Base {};\n",
    "Base * a = new Base;\n",
    "Derived * b = static_cast<Derived*>(a);\n",
    "```\n",
    "This would be valid code, although b would point to an incomplete object of the class and could lead to runtime errors if dereferenced.\n",
    "Therefore, static_cast is able to perform with pointers to classes not only the conversions allowed implicitly, but also their opposite conversions.\n",
    "static_cast is also able to perform all conversions allowed implicitly (not only those with pointers to classes), and is also able to perform the opposite of these. It can:\n",
    "\n",
    "* Convert from void* to any pointer type. In this case, it guarantees that if the void* value was obtained by converting from that same pointer type, the resulting pointer value is the same. \n",
    "* Convert integers, floating-point values and enum types to enum types. \n",
    "Additionally, static_cast can also perform the following:\n",
    "\n",
    "* Explicitly call a single-argument constructor or a conversion operator. \n",
    "* Convert to rvalue references. \n",
    "* Convert enum class values into integers or floating-point values. \n",
    "* Convert any type to void, evaluating and discarding the value. "
   ]
  },
  {
   "cell_type": "markdown",
   "id": "cbd7aa6e-ddd7-4b34-aac4-097bfc248d27",
   "metadata": {},
   "source": [
    "### reinterpret_cast\n",
    "reinterpret_cast converts any pointer type to any other pointer type, even of unrelated classes. The operation result is a simple binary copy of the value from one pointer to the other. All pointer conversions are allowed: neither the content pointed nor the pointer type itself is checked.\n",
    "It can also cast pointers to or from integer types. The format in which this integer value represents a pointer is platform-specific. The only guarantee is that a pointer cast to an integer type large enough to fully contain it (such as intptr_t), is guaranteed to be able to be cast back to a valid pointer.\n",
    "The conversions that can be performed by reinterpret_cast but not by static_cast are low-level operations based on reinterpreting the binary representations of the types, which on most cases results in code which is system-specific, and thus non-portable. For example:\n",
    "```cpp\n",
    "class A { /* ... */ };\n",
    "class B { /* ... */ };\n",
    "A * a = new A;\n",
    "B * b = reinterpret_cast<B*>(a);\n",
    "```\n",
    "This code compiles, although it does not make much sense, since now b points to an object of a totally unrelated and likely incompatible class. Dereferencing b is unsafe."
   ]
  },
  {
   "cell_type": "markdown",
   "id": "3de54112-a17a-4c35-bb73-1fbf5fcc7ac7",
   "metadata": {},
   "source": [
    "### const_cast\n",
    "This type of casting manipulates the constness of the object pointed by a pointer, either to be set or to be removed. For example, in order to pass a const pointer to a function that expects a non-const argument:"
   ]
  },
  {
   "cell_type": "code",
   "execution_count": 13,
   "id": "16a3abfd-3a56-4c38-869e-34a80847caa6",
   "metadata": {
    "tags": []
   },
   "outputs": [],
   "source": [
    "void print (char * str)\n",
    "{\n",
    "  cout << str << '\\n';\n",
    "}"
   ]
  },
  {
   "cell_type": "code",
   "execution_count": 14,
   "id": "2d7eab9d-c3b1-4c45-bcad-cad2959d1b7b",
   "metadata": {
    "tags": []
   },
   "outputs": [
    {
     "name": "stdout",
     "output_type": "stream",
     "text": [
      "sample text\n"
     ]
    }
   ],
   "source": [
    "const char * c = \"sample text\";\n",
    "print ( const_cast<char *> (c) );"
   ]
  },
  {
   "cell_type": "markdown",
   "id": "9eaa8f78-48fc-4e9b-91b8-50e18f273de0",
   "metadata": {},
   "source": [
    "The example above is guaranteed to work because function print does not write to the pointed object. Note though, that removing the constness of a pointed object to actually write to it causes undefined behavior."
   ]
  },
  {
   "cell_type": "markdown",
   "id": "84b9d409-d611-496a-89a6-3d225728f005",
   "metadata": {},
   "source": [
    "## typeid\n",
    "typeid allows to check the type of an expression: \n",
    "\n",
    "    typeid (expression)\n",
    "\n",
    "This operator returns a reference to a constant object of type `type_info` that is defined in the standard header <typeinfo>. A value returned by typeid can be compared with another value returned by typeid using operators == and != or can serve to obtain a null-terminated character sequence representing the data type or class name by using its `name()` member."
   ]
  },
  {
   "cell_type": "code",
   "execution_count": 16,
   "id": "148145e3-3857-4f5e-ba1e-8773c8b0dbd6",
   "metadata": {
    "tags": []
   },
   "outputs": [
    {
     "name": "stdout",
     "output_type": "stream",
     "text": [
      "a and b are of different types:\n",
      "a is: Pi\n",
      "b is: i\n"
     ]
    }
   ],
   "source": [
    "int * a,b;\n",
    "a=0; b=0;\n",
    "if (typeid(a) != typeid(b))\n",
    "{\n",
    "    cout << \"a and b are of different types:\\n\";\n",
    "    cout << \"a is: \" << typeid(a).name() << '\\n';\n",
    "    cout << \"b is: \" << typeid(b).name() << '\\n';\n",
    "}"
   ]
  },
  {
   "cell_type": "markdown",
   "id": "1b7dfdcd-41cc-491c-9f57-57cc9fae6ac9",
   "metadata": {},
   "source": [
    "When typeid is applied to classes, typeid uses the RTTI to keep track of the type of dynamic objects. When typeid is applied to an expression whose type is a polymorphic class, the result is the type of the most derived complete object:"
   ]
  },
  {
   "cell_type": "code",
   "execution_count": 17,
   "id": "877aaf89-89da-4a6c-833c-0f1ab6fe1dee",
   "metadata": {
    "tags": []
   },
   "outputs": [
    {
     "name": "stdout",
     "output_type": "stream",
     "text": [
      "a is: PN12__cling_N5184BaseE\n",
      "b is: PN12__cling_N5184BaseE\n",
      "*a is: N12__cling_N5184BaseE\n",
      "*b is: 7Derived\n"
     ]
    }
   ],
   "source": [
    "#include <typeinfo>\n",
    "#include <exception>\n",
    "\n",
    "class Base { virtual void f(){} };\n",
    "class Derived : public Base {};\n",
    "\n",
    "\n",
    "try {\n",
    "    Base* a = new Base;\n",
    "    Base* b = new Derived;\n",
    "    cout << \"a is: \" << typeid(a).name() << '\\n';\n",
    "    cout << \"b is: \" << typeid(b).name() << '\\n';\n",
    "    cout << \"*a is: \" << typeid(*a).name() << '\\n';\n",
    "    cout << \"*b is: \" << typeid(*b).name() << '\\n';\n",
    "} catch (exception& e) { cout << \"Exception: \" << e.what() << '\\n'; }"
   ]
  },
  {
   "cell_type": "markdown",
   "id": "a771ea86-6fbe-4d60-8a60-85277a162161",
   "metadata": {},
   "source": [
    ">__Note__: The string returned by member name of type_info depends on the specific implementation of your compiler and library. It is not necessarily a simple string with its typical type name, like in the compiler used to produce this output. \n",
    "\n",
    "Notice how the type that typeid considers for pointers is the pointer type itself (both a and b are of type class Base *). However, when typeid is applied to objects (like *a and *b) typeid yields their dynamic type (i.e. the type of their most derived complete object).\n",
    "If the type typeid evaluates is a pointer preceded by the dereference operator (*), and this pointer has a null value, typeid throws a bad_typeid exception."
   ]
  }
 ],
 "metadata": {
  "kernelspec": {
   "display_name": "C++17",
   "language": "C++17",
   "name": "xcpp17"
  },
  "language_info": {
   "codemirror_mode": "text/x-c++src",
   "file_extension": ".cpp",
   "mimetype": "text/x-c++src",
   "name": "c++",
   "version": "17"
  }
 },
 "nbformat": 4,
 "nbformat_minor": 5
}
