{
 "cells": [
  {
   "cell_type": "code",
   "execution_count": 2,
   "id": "0e604d08-4ebd-4b98-a9eb-5e5f94478ece",
   "metadata": {
    "tags": []
   },
   "outputs": [],
   "source": [
    "#include <iostream>\n",
    "#include <exception>\n",
    "\n",
    "using namespace std;"
   ]
  },
  {
   "cell_type": "markdown",
   "id": "5b8e5cba-3a4e-4f7a-b83f-79d10196d7bd",
   "metadata": {},
   "source": [
    "# Exceptions\n",
    "Exceptions provide a way to react to exceptional circumstances (like runtime errors) in programs by transferring control to special functions called handlers.\n",
    "To catch exceptions, a portion of code is placed under exception inspection. This is done by enclosing that portion of code in a `try-block`. When an exceptional circumstance arises within that block, an exception is thrown that transfers the control to the exception handler. If no exception is thrown, the code continues normally and all handlers are ignored.\n",
    "An exception is thrown by using the `throw keyword` from inside the try block. Exception handlers are declared with the keyword `catch`, which must be placed immediately after the try block:"
   ]
  },
  {
   "cell_type": "code",
   "execution_count": 3,
   "id": "033eafc3-d7bb-4c59-8324-40f50f0f08d3",
   "metadata": {
    "tags": []
   },
   "outputs": [
    {
     "name": "stdout",
     "output_type": "stream",
     "text": [
      "An exception occurred. Exception Nr. 20\n"
     ]
    }
   ],
   "source": [
    "try\n",
    "{\n",
    "    throw 20;\n",
    "}\n",
    "catch (int e)\n",
    "{\n",
    "    cout << \"An exception occurred. Exception Nr. \" << e << '\\n';\n",
    "}"
   ]
  },
  {
   "cell_type": "markdown",
   "id": "d438c0b0-a908-438d-9ecb-ef0640bb5d53",
   "metadata": {},
   "source": [
    "The code under exception handling is enclosed in a try block. In this example this code simply throws an exception:\n",
    "```cpp\n",
    "throw 20;\n",
    "```\n",
    "A throw expression accepts one parameter (in this case the integer value 20), which is passed as an argument to the exception handler.\n",
    "The exception handler is declared with the catch keyword immediately after the closing brace of the try block. The syntax for catch is similar to a regular function with one parameter. The type of this parameter is very important, since the type of the argument passed by the throw expression is checked against it, and only in the case they match, the exception is caught by that handler.\n",
    "\n",
    "Multiple handlers (i.e., catch expressions) can be chained; each one with a different parameter type. Only the handler whose argument type matches the type of the exception specified in the throw statement is executed.\n",
    "\n",
    "If an ellipsis (...) is used as the parameter of catch, that handler will catch any exception no matter what the type of the exception thrown. This can be used as a default handler that catches all exceptions not caught by other handlers:\n",
    "```cpp\n",
    "try {\n",
    "  // code here\n",
    "}\n",
    "catch (int param) { cout << \"int exception\"; }\n",
    "catch (char param) { cout << \"char exception\"; }\n",
    "catch (...) { cout << \"default exception\"; }\n",
    "```\n",
    "In this case, the last handler would catch any exception thrown of a type that is neither int nor char.\n",
    "\n",
    "After an exception has been handled the program, execution resumes after the try-catch block, not after the throw statement!.\n",
    "\n",
    "It is also possible to nest try-catch blocks within more external try blocks. In these cases, we have the possibility that an internal catch block forwards the exception to its external level. This is done with the expression throw; with no arguments. For example: \n",
    "```cpp\n",
    "try {\n",
    "  try {\n",
    "      // code here\n",
    "  }\n",
    "  catch (int n) {\n",
    "      throw;\n",
    "  }\n",
    "}\n",
    "catch (...) {\n",
    "  cout << \"Exception occurred\";\n",
    "}\n",
    "```"
   ]
  },
  {
   "cell_type": "markdown",
   "id": "f9cc8b81-3e12-4f98-88c2-21d8f79b179c",
   "metadata": {},
   "source": [
    "## Standard exceptions\n",
    "The C++ Standard library provides a base class specifically designed to declare objects to be thrown as exceptions. It is called `std::exception` and is defined in the `<exception>` header. This class has a virtual member function called `what()` that returns a null-terminated character sequence (of type char *) and that can be overwritten in derived classes to contain some sort of description of the exception."
   ]
  },
  {
   "cell_type": "code",
   "execution_count": 4,
   "id": "61054f81-0d31-4e66-a3a2-520487b3cb85",
   "metadata": {
    "tags": []
   },
   "outputs": [
    {
     "name": "stdout",
     "output_type": "stream",
     "text": [
      "My exception happened\n"
     ]
    }
   ],
   "source": [
    "#include <iostream>\n",
    "#include <exception>\n",
    "using namespace std;\n",
    "\n",
    "class myexception: public exception\n",
    "{\n",
    "  virtual const char* what() const throw()\n",
    "  {\n",
    "    return \"My exception happened\";\n",
    "  }\n",
    "} myex;\n",
    "\n",
    "try\n",
    "{\n",
    "    throw myex;\n",
    "}\n",
    "catch (exception& e)\n",
    "{\n",
    "    cout << e.what() << '\\n';\n",
    "}"
   ]
  },
  {
   "cell_type": "markdown",
   "id": "36b012f1-ef75-475a-8661-0a4f7ada54cf",
   "metadata": {},
   "source": [
    "We have placed a handler that catches exception objects by reference (notice the ampersand & after the type), therefore this catches also classes derived from exception, like our myex object of type myexception.\n",
    "\n",
    "All exceptions thrown by components of the C++ Standard library throw exceptions derived from this exception class. These are:\n",
    "\n",
    "| exception | description |\n",
    "|---|---|\n",
    "| bad_alloc | thrown by new on allocation failure |\n",
    "| bad_cast | thrown by dynamic_cast when it fails in a dynamic cast |\n",
    "| bad_exception | thrown by certain dynamic exception specifiers |\n",
    "| bad_typeid | thrown by typeid |\n",
    "| bad_function_call | thrown by empty function objects |\n",
    "| bad_weak_ptr | thrown by shared_ptr when passed a bad weak_ptr |\n",
    "\n",
    "Also deriving from exception, header <exception> defines two generic exception types that can be inherited by custom exceptions to report errors:\n",
    "    \n",
    "| exception | description |\n",
    "|--|--|\n",
    "| logic_error | error related to the internal logic of the program |\n",
    "| runtime_error | error detected during runtime |\n",
    "\n",
    "A typical example where standard exceptions need to be checked for is on memory allocation:"
   ]
  },
  {
   "cell_type": "code",
   "execution_count": 5,
   "id": "2cbad7a1-ecf2-4cda-95fc-d9cc081e4d9e",
   "metadata": {
    "tags": []
   },
   "outputs": [],
   "source": [
    "try\n",
    "{\n",
    "    int* myarray= new int[1000];\n",
    "}\n",
    "catch (exception& e)\n",
    "{\n",
    "    cout << \"Standard exception: \" << e.what() << endl;\n",
    "}"
   ]
  },
  {
   "cell_type": "markdown",
   "id": "01154c18-ecfd-4f7a-b7a3-27e7f0485590",
   "metadata": {},
   "source": [
    "The exception that may be caught by the exception handler in this example is a `bad_alloc`. Because bad_alloc is derived from the standard base class exception, it can be caught (capturing by reference, captures all related classes)."
   ]
  }
 ],
 "metadata": {
  "kernelspec": {
   "display_name": "C++17",
   "language": "C++17",
   "name": "xcpp17"
  },
  "language_info": {
   "codemirror_mode": "text/x-c++src",
   "file_extension": ".cpp",
   "mimetype": "text/x-c++src",
   "name": "c++",
   "version": "17"
  }
 },
 "nbformat": 4,
 "nbformat_minor": 5
}
